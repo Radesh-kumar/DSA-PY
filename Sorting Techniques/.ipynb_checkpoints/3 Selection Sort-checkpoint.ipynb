{
 "cells": [
  {
   "cell_type": "code",
   "execution_count": 1,
   "metadata": {},
   "outputs": [],
   "source": [
    "# In first pass we are selecting the position of the required element (preferably smallest element)\n",
    "# We will traverse through array and find smallest element and swap it with first element\n",
    "# Initially i,j,k will be pointing to the first element\n",
    "# i -> position of the element\n",
    "# j -> traversing for the required element\n",
    "# k -> Temporary pointer for smallest possible element\n",
    "\n",
    "# Selection sort is not adaptive and not stable\n",
    "# Best case - O(n^2)\n",
    "# Worst case - O(n^2)\n"
   ]
  },
  {
   "cell_type": "code",
   "execution_count": 8,
   "metadata": {},
   "outputs": [],
   "source": [
    "def selectionSort(arr: list):\n",
    "    for i in range(len(arr)):\n",
    "        k = i\n",
    "        for j in range(i, len(arr)):\n",
    "            if(arr[i] > arr[j]):\n",
    "                k = j\n",
    "        arr[k], arr[i] = arr[i], arr[k]\n",
    "    print(arr)\n",
    "            "
   ]
  },
  {
   "cell_type": "code",
   "execution_count": 9,
   "metadata": {},
   "outputs": [
    {
     "name": "stdout",
     "output_type": "stream",
     "text": [
      "[1, 2, 3, 4]\n"
     ]
    }
   ],
   "source": [
    "selectionSort([2,3,1,4])"
   ]
  },
  {
   "cell_type": "code",
   "execution_count": null,
   "metadata": {},
   "outputs": [],
   "source": []
  }
 ],
 "metadata": {
  "kernelspec": {
   "display_name": "Python 3",
   "language": "python",
   "name": "python3"
  },
  "language_info": {
   "codemirror_mode": {
    "name": "ipython",
    "version": 3
   },
   "file_extension": ".py",
   "mimetype": "text/x-python",
   "name": "python",
   "nbconvert_exporter": "python",
   "pygments_lexer": "ipython3",
   "version": "3.8.5"
  }
 },
 "nbformat": 4,
 "nbformat_minor": 4
}
