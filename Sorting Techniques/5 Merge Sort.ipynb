{
 "cells": [
  {
   "cell_type": "markdown",
   "metadata": {},
   "source": [
    "## Recursive Merge Sort"
   ]
  },
  {
   "cell_type": "code",
   "execution_count": 91,
   "metadata": {},
   "outputs": [],
   "source": [
    "def merge(left_arr, right_arr):\n",
    "    # i left array index\n",
    "    # j right array index\n",
    "    # k Merged array index\n",
    "    merged_arr = []\n",
    "    i = j = 0\n",
    "    \n",
    "    while(i < len(left_arr) and j < len(right_arr)):\n",
    "        if(left_arr[i] < right_arr[j]):\n",
    "            merged_arr.append(left_arr[i])\n",
    "            i+=1\n",
    "        else:\n",
    "            merged_arr.append(right_arr[j])\n",
    "            j+=1\n",
    "    while(i < len(left_arr)):\n",
    "        merged_arr.append(left_arr[i])\n",
    "        i+=1\n",
    "    while(j < len(right_arr)):\n",
    "        merged_arr.append(right_arr[j])\n",
    "        j+=1\n",
    "    return merged_arr\n",
    "\n",
    "# Testing\n",
    "# Note: list A, list B must be sorted\n",
    "# merge([1,5,7,9], [2,3,4])\n",
    "        "
   ]
  },
  {
   "cell_type": "code",
   "execution_count": 95,
   "metadata": {},
   "outputs": [],
   "source": [
    "def mergeSort(arr):\n",
    "    if len(arr) < 2:\n",
    "        return arr\n",
    "    \n",
    "    left_arr = arr[:len(arr)//2]\n",
    "    right_arr = arr[len(arr)//2:]\n",
    "\n",
    "    # Recursion\n",
    "    left_arr = mergeSort(left_arr)\n",
    "    right_arr = mergeSort(right_arr)\n",
    "\n",
    "    return merge(left_arr, right_arr)"
   ]
  },
  {
   "cell_type": "code",
   "execution_count": 96,
   "metadata": {},
   "outputs": [
    {
     "name": "stdout",
     "output_type": "stream",
     "text": [
      "[1, 2, 3, 4, 5, 6, 9]\n"
     ]
    }
   ],
   "source": [
    "arr_test = [6,1,4,9,2,5,3]\n",
    "print(mergeSort(arr_test))\n"
   ]
  },
  {
   "cell_type": "code",
   "execution_count": 84,
   "metadata": {},
   "outputs": [],
   "source": [
    "# For all time complexities\n",
    "# https://www.interviewbit.com/tutorial/sorting-algorithms/"
   ]
  },
  {
   "cell_type": "code",
   "execution_count": null,
   "metadata": {},
   "outputs": [],
   "source": []
  }
 ],
 "metadata": {
  "kernelspec": {
   "display_name": "Python 3",
   "language": "python",
   "name": "python3"
  },
  "language_info": {
   "codemirror_mode": {
    "name": "ipython",
    "version": 3
   },
   "file_extension": ".py",
   "mimetype": "text/x-python",
   "name": "python",
   "nbconvert_exporter": "python",
   "pygments_lexer": "ipython3",
   "version": "3.8.5"
  }
 },
 "nbformat": 4,
 "nbformat_minor": 4
}
