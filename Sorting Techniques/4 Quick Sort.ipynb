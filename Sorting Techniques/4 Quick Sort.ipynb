{
 "cells": [
  {
   "cell_type": "code",
   "execution_count": 8,
   "metadata": {},
   "outputs": [],
   "source": [
    "def quickSort(arr:list):\n",
    "    if(len(arr) <= 1):\n",
    "        return arr\n",
    "    else:\n",
    "        pivot = arr.pop()\n",
    "        items_greater = []\n",
    "        items_smaller = []\n",
    "        for i in range(len(arr)):\n",
    "            if(arr[i] > pivot):\n",
    "                items_greater.append(arr[i])\n",
    "            else:\n",
    "                items_smaller.append(arr[i])\n",
    "        return quickSort(items_smaller) + [pivot] + quickSort(items_greater)\n",
    "            "
   ]
  },
  {
   "cell_type": "code",
   "execution_count": 7,
   "metadata": {},
   "outputs": [
    {
     "name": "stdout",
     "output_type": "stream",
     "text": [
      "[24, 2, 9, 3, 7, 8, 22, 16, 12, 10]\n",
      "[2, 9, 3, 7, 8]\n",
      "[2, 3, 7]\n",
      "[2, 3]\n",
      "[2]\n",
      "[]\n",
      "[]\n",
      "[9]\n",
      "[24, 22, 16, 12]\n",
      "[]\n",
      "[24, 22, 16]\n",
      "[]\n",
      "[24, 22]\n",
      "[]\n",
      "[24]\n"
     ]
    },
    {
     "data": {
      "text/plain": [
       "[2, 3, 7, 8, 9, 10, 12, 16, 22, 24]"
      ]
     },
     "execution_count": 7,
     "metadata": {},
     "output_type": "execute_result"
    }
   ],
   "source": [
    "quickSort([24,2,9,3,7,8,22,16,12,10])"
   ]
  },
  {
   "cell_type": "code",
   "execution_count": null,
   "metadata": {},
   "outputs": [],
   "source": []
  }
 ],
 "metadata": {
  "kernelspec": {
   "display_name": "Python 3",
   "language": "python",
   "name": "python3"
  },
  "language_info": {
   "codemirror_mode": {
    "name": "ipython",
    "version": 3
   },
   "file_extension": ".py",
   "mimetype": "text/x-python",
   "name": "python",
   "nbconvert_exporter": "python",
   "pygments_lexer": "ipython3",
   "version": "3.8.5"
  }
 },
 "nbformat": 4,
 "nbformat_minor": 4
}
