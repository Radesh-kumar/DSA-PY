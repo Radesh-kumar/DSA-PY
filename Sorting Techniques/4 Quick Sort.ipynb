{
 "cells": [
  {
   "cell_type": "code",
   "execution_count": 1,
   "metadata": {},
   "outputs": [],
   "source": [
    "def quickSort(arr:list):\n",
    "    if(len(arr) <= 1):\n",
    "        return arr\n",
    "    else:\n",
    "        pivot = arr.pop()\n",
    "        items_greater = []\n",
    "        items_smaller = []\n",
    "        for i in range(len(arr)):\n",
    "            if(arr[i] > pivot):\n",
    "                items_greater.append(arr[i])\n",
    "            else:\n",
    "                items_smaller.append(arr[i])\n",
    "        return quickSort(items_smaller) + [pivot] + quickSort(items_greater)\n",
    "            "
   ]
  },
  {
   "cell_type": "code",
   "execution_count": 2,
   "metadata": {},
   "outputs": [
    {
     "data": {
      "text/plain": [
       "[1, 2, 3, 4]"
      ]
     },
     "execution_count": 2,
     "metadata": {},
     "output_type": "execute_result"
    }
   ],
   "source": [
    "quickSort([4,3,1,2])"
   ]
  },
  {
   "cell_type": "code",
   "execution_count": null,
   "metadata": {},
   "outputs": [],
   "source": []
  }
 ],
 "metadata": {
  "kernelspec": {
   "display_name": "Python 3",
   "language": "python",
   "name": "python3"
  },
  "language_info": {
   "codemirror_mode": {
    "name": "ipython",
    "version": 3
   },
   "file_extension": ".py",
   "mimetype": "text/x-python",
   "name": "python",
   "nbconvert_exporter": "python",
   "pygments_lexer": "ipython3",
   "version": "3.8.5"
  }
 },
 "nbformat": 4,
 "nbformat_minor": 4
}
