{
 "cells": [
  {
   "cell_type": "code",
   "execution_count": 35,
   "metadata": {},
   "outputs": [],
   "source": [
    "# Bubble Sort is Adaptive and Stable\n",
    "# In the first pass largest element will be sorted first.\n",
    "# Best case - O(n)\n",
    "# Worst case - O(n^2)"
   ]
  },
  {
   "cell_type": "code",
   "execution_count": 36,
   "metadata": {},
   "outputs": [],
   "source": [
    "def bubbleSort(arr: list):\n",
    "    lenght_arr = len(arr)\n",
    "    # i represents no. of passes\n",
    "    # j represents no. of swaps\n",
    "    for i in range(lenght_arr):\n",
    "        swap_done = False\n",
    "        for j in range(i, lenght_arr - 1):\n",
    "            if(arr[j] > arr[j+1]):\n",
    "                arr[j], arr[j+1] = arr[j+1], arr[j]\n",
    "                swap_done = True\n",
    "        if(not swap_done):\n",
    "            break\n",
    "    print(arr)"
   ]
  },
  {
   "cell_type": "code",
   "execution_count": 37,
   "metadata": {},
   "outputs": [
    {
     "name": "stdout",
     "output_type": "stream",
     "text": [
      "[1, 2, 3, 4, 5]\n"
     ]
    }
   ],
   "source": [
    "bubbleSort([1,2,3,4,5])"
   ]
  },
  {
   "cell_type": "code",
   "execution_count": 38,
   "metadata": {},
   "outputs": [
    {
     "name": "stdout",
     "output_type": "stream",
     "text": [
      "[12, 23, 42, 57, 64]\n"
     ]
    }
   ],
   "source": [
    "bubbleSort([12,42,23,64,57])"
   ]
  }
 ],
 "metadata": {
  "kernelspec": {
   "display_name": "Python 3",
   "language": "python",
   "name": "python3"
  },
  "language_info": {
   "codemirror_mode": {
    "name": "ipython",
    "version": 3
   },
   "file_extension": ".py",
   "mimetype": "text/x-python",
   "name": "python",
   "nbconvert_exporter": "python",
   "pygments_lexer": "ipython3",
   "version": "3.8.5"
  }
 },
 "nbformat": 4,
 "nbformat_minor": 4
}
