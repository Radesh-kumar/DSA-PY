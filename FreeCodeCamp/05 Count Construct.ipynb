{
 "cells": [
  {
   "cell_type": "code",
   "execution_count": 2,
   "metadata": {},
   "outputs": [],
   "source": [
    "### Brute Force\n",
    "### Recursion"
   ]
  },
  {
   "cell_type": "code",
   "execution_count": 73,
   "metadata": {},
   "outputs": [],
   "source": [
    "def countConstruct(target,arr):\n",
    "    if(target == ''):\n",
    "        return 1\n",
    "    count = 0\n",
    "    for item in arr:\n",
    "        index = target.find(item)\n",
    "        if(index == 0):\n",
    "            suffix = target[len(item):]\n",
    "            count += countConstruct(suffix,arr)\n",
    "    return count"
   ]
  },
  {
   "cell_type": "code",
   "execution_count": 75,
   "metadata": {},
   "outputs": [
    {
     "data": {
      "text/plain": [
       "4"
      ]
     },
     "execution_count": 75,
     "metadata": {},
     "output_type": "execute_result"
    }
   ],
   "source": [
    "# target = 'abcdef'\n",
    "# arr = ['ab','abc','cd','def','abcd']\n",
    "target = 'eee'\n",
    "arr = ['e','ee','eee']\n",
    "countConstruct(target,arr)"
   ]
  },
  {
   "cell_type": "code",
   "execution_count": 76,
   "metadata": {},
   "outputs": [],
   "source": [
    "### Dynamic Programming"
   ]
  },
  {
   "cell_type": "code",
   "execution_count": 77,
   "metadata": {},
   "outputs": [],
   "source": [
    "def countConstruct2(target,arr,hm):\n",
    "    if(target in hm):\n",
    "        return hm[target]\n",
    "    if(target == ''):\n",
    "        return 1\n",
    "    count = 0\n",
    "    for item in arr:\n",
    "        index = target.find(item)\n",
    "        if(index == 0):\n",
    "            suffix = target[len(item):]\n",
    "            count += countConstruct2(suffix,arr,hm)\n",
    "    hm[target] = count\n",
    "    return count"
   ]
  },
  {
   "cell_type": "code",
   "execution_count": 78,
   "metadata": {},
   "outputs": [
    {
     "data": {
      "text/plain": [
       "0"
      ]
     },
     "execution_count": 78,
     "metadata": {},
     "output_type": "execute_result"
    }
   ],
   "source": [
    "# target = 'abcdef'\n",
    "# arr = ['ab','abc','cd','def','abcd']\n",
    "target = 'eeeeeeeeeeeeeeeeeeeeeeeeeeeeeeeeeeeef'\n",
    "arr = ['e','ee','eee','eeee','eeeee']\n",
    "countConstruct2(target,arr,{})"
   ]
  },
  {
   "cell_type": "code",
   "execution_count": 79,
   "metadata": {},
   "outputs": [],
   "source": [
    "### Tabulation"
   ]
  },
  {
   "cell_type": "code",
   "execution_count": 91,
   "metadata": {},
   "outputs": [],
   "source": [
    "def countConstruct3(target, arr):\n",
    "    dp = [0 for i in range(len(target) + 1)]\n",
    "    dp[0] = 1\n",
    "    for i in range(len(dp)):\n",
    "        if(dp[i] != 0):\n",
    "            for word in arr:\n",
    "                if(i + len(word) < len(dp) and word == target[i: i + len(word)]):\n",
    "                    dp[i + len(word)] += dp[i]\n",
    "    return dp[len(target)]"
   ]
  },
  {
   "cell_type": "code",
   "execution_count": 94,
   "metadata": {},
   "outputs": [
    {
     "data": {
      "text/plain": [
       "0"
      ]
     },
     "execution_count": 94,
     "metadata": {},
     "output_type": "execute_result"
    }
   ],
   "source": [
    "# target = 'abcdef'\n",
    "# arr = ['ab','abc','cd','def','abcd']\n",
    "target = 'eeeeeeeeeeeeeeeeeeef'\n",
    "arr = ['e','ee','eee']\n",
    "countConstruct3(target,arr)"
   ]
  },
  {
   "cell_type": "code",
   "execution_count": null,
   "metadata": {},
   "outputs": [],
   "source": []
  }
 ],
 "metadata": {
  "kernelspec": {
   "display_name": "Python 3",
   "language": "python",
   "name": "python3"
  },
  "language_info": {
   "codemirror_mode": {
    "name": "ipython",
    "version": 3
   },
   "file_extension": ".py",
   "mimetype": "text/x-python",
   "name": "python",
   "nbconvert_exporter": "python",
   "pygments_lexer": "ipython3",
   "version": "3.8.5"
  }
 },
 "nbformat": 4,
 "nbformat_minor": 4
}
