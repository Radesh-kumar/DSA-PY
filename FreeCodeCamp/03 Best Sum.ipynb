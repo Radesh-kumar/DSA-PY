{
 "cells": [
  {
   "cell_type": "markdown",
   "metadata": {},
   "source": [
    "[Youtube](https://www.youtube.com/watch?v=oBt53YbR9Kk&t=2436s)"
   ]
  },
  {
   "cell_type": "code",
   "execution_count": 10,
   "metadata": {},
   "outputs": [],
   "source": [
    "### BruteForce \n",
    "# Time Complexity = O(m^n)\n",
    "# Space Complexity = O(m)"
   ]
  },
  {
   "cell_type": "code",
   "execution_count": 141,
   "metadata": {},
   "outputs": [],
   "source": [
    "def bestSum1(targetSum,arr):\n",
    "    if(targetSum < 0):\n",
    "        return None\n",
    "    if(targetSum == 0):\n",
    "        return []\n",
    "    \n",
    "\n",
    "    minSoFar = None\n",
    "    for item in arr:\n",
    "        diff = targetSum - item\n",
    "        ans = bestSum1(diff,arr)\n",
    "        if(ans != None):\n",
    "            ans.append(item)\n",
    "            result = ans\n",
    "            if(minSoFar == None or len(result) < len(minSoFar)):\n",
    "                minSoFar = result\n",
    "    return minSoFar"
   ]
  },
  {
   "cell_type": "code",
   "execution_count": 144,
   "metadata": {},
   "outputs": [
    {
     "data": {
      "text/plain": [
       "[4, 4]"
      ]
     },
     "execution_count": 144,
     "metadata": {},
     "output_type": "execute_result"
    }
   ],
   "source": [
    "arr = [1,2,4]\n",
    "targetSum  = 8\n",
    "# arr = [7,14]\n",
    "# targetSum  = 300\n",
    "bestSum1(targetSum, arr)"
   ]
  },
  {
   "cell_type": "code",
   "execution_count": 145,
   "metadata": {},
   "outputs": [],
   "source": [
    "### Memoization"
   ]
  },
  {
   "cell_type": "code",
   "execution_count": 153,
   "metadata": {},
   "outputs": [],
   "source": [
    "def bestSum2(targetSum,arr,hm):\n",
    "    if(targetSum in hm):\n",
    "        return hm[targetSum]\n",
    "    if(targetSum < 0):\n",
    "        return None\n",
    "    if(targetSum == 0):\n",
    "        return []\n",
    "    \n",
    "\n",
    "    minSoFar = None\n",
    "    for item in arr:\n",
    "        diff = targetSum - item\n",
    "        ans = bestSum2(diff,arr,hm)\n",
    "        if(ans != None):\n",
    "            ans.append(item)\n",
    "            result = ans\n",
    "            if(minSoFar == None or len(result) < len(minSoFar)):\n",
    "                minSoFar = result\n",
    "    hm[targetSum] = minSoFar       \n",
    "    return minSoFar"
   ]
  },
  {
   "cell_type": "code",
   "execution_count": 154,
   "metadata": {},
   "outputs": [],
   "source": [
    "# arr = [1,2,4]\n",
    "# targetSum  = 8\n",
    "arr = [7,14]\n",
    "targetSum  = 300\n",
    "bestSum2(targetSum, arr,{})"
   ]
  },
  {
   "cell_type": "code",
   "execution_count": 7,
   "metadata": {},
   "outputs": [],
   "source": [
    "def bestSum3(targetSum, arr):\n",
    "    ### Creating DP array and Filling values\n",
    "    dp = [None for i in range(targetSum + 1)]\n",
    "    ### Seeding initial value / Finding base case\n",
    "    dp[0] = []\n",
    "    for i in range(len(dp)):\n",
    "        if dp[i] != None:\n",
    "            for j in range(len(arr)):\n",
    "                if i + arr[j] < len(dp):\n",
    "                    if dp[i + arr[j]]  != None:\n",
    "                        if len(dp[i + arr[j]]) > len(dp[i]):\n",
    "                            dp[i + arr[j]] = dp[i].copy()\n",
    "                            dp[i + arr[j]].append(arr[j])\n",
    "                            \n",
    "                    else:\n",
    "                        dp[i + arr[j]] = dp[i].copy()\n",
    "                        dp[i + arr[j]].append(arr[j])\n",
    "                \n",
    "    return dp[targetSum]"
   ]
  },
  {
   "cell_type": "code",
   "execution_count": 10,
   "metadata": {},
   "outputs": [
    {
     "data": {
      "text/plain": [
       "[8]"
      ]
     },
     "execution_count": 10,
     "metadata": {},
     "output_type": "execute_result"
    }
   ],
   "source": [
    "arr = [1,2,4,8]\n",
    "targetSum  = 8\n",
    "# arr = [7,14]\n",
    "# targetSum  = 300\n",
    "bestSum3(targetSum, arr)"
   ]
  },
  {
   "cell_type": "code",
   "execution_count": null,
   "metadata": {},
   "outputs": [],
   "source": []
  }
 ],
 "metadata": {
  "kernelspec": {
   "display_name": "Python 3",
   "language": "python",
   "name": "python3"
  },
  "language_info": {
   "codemirror_mode": {
    "name": "ipython",
    "version": 3
   },
   "file_extension": ".py",
   "mimetype": "text/x-python",
   "name": "python",
   "nbconvert_exporter": "python",
   "pygments_lexer": "ipython3",
   "version": "3.8.5"
  }
 },
 "nbformat": 4,
 "nbformat_minor": 4
}
