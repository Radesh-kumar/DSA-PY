{
 "cells": [
  {
   "cell_type": "code",
   "execution_count": 2,
   "metadata": {},
   "outputs": [],
   "source": [
    "### Brute Force\n",
    "### Recursion"
   ]
  },
  {
   "cell_type": "code",
   "execution_count": 96,
   "metadata": {},
   "outputs": [],
   "source": [
    "def canConstruct(target,arr):\n",
    "    if(target == ''):\n",
    "        return True\n",
    "    for item in arr:\n",
    "        index = target.find(item)\n",
    "        if(index == 0):\n",
    "            suffix = target[len(item):]\n",
    "            if(canConstruct(suffix,arr) == True):\n",
    "                return True\n",
    "    return False "
   ]
  },
  {
   "cell_type": "code",
   "execution_count": 104,
   "metadata": {},
   "outputs": [
    {
     "data": {
      "text/plain": [
       "True"
      ]
     },
     "execution_count": 104,
     "metadata": {},
     "output_type": "execute_result"
    }
   ],
   "source": [
    "target = 'abcdef'\n",
    "arr = ['ab','abc','cd','def','abcd']\n",
    "# target = 'eeeeeeeeeeeeeeeeeeeeeeeeeeeeeeeeeeeef'\n",
    "# arr = ['e','ee','eee','eeee','eeeee']\n",
    "canConstruct(target,arr)"
   ]
  },
  {
   "cell_type": "code",
   "execution_count": 105,
   "metadata": {},
   "outputs": [],
   "source": [
    "### Dynamic Programming"
   ]
  },
  {
   "cell_type": "code",
   "execution_count": 108,
   "metadata": {},
   "outputs": [],
   "source": [
    "def canConstruct2(target,arr,hm):\n",
    "    if(target in hm):\n",
    "        return hm[target]\n",
    "    if(target == ''):\n",
    "        return True\n",
    "    for item in arr:\n",
    "        index = target.find(item)\n",
    "        if(index == 0):\n",
    "            suffix = target[len(item):]\n",
    "            if(canConstruct2(suffix,arr,hm) == True):\n",
    "                hm[target] = True\n",
    "                return True\n",
    "    hm[target] = False\n",
    "    return False "
   ]
  },
  {
   "cell_type": "code",
   "execution_count": 110,
   "metadata": {},
   "outputs": [
    {
     "data": {
      "text/plain": [
       "False"
      ]
     },
     "execution_count": 110,
     "metadata": {},
     "output_type": "execute_result"
    }
   ],
   "source": [
    "# target = 'abcdef'\n",
    "# arr = ['ab','abc','cd','def','abcd']\n",
    "target = 'eeeeeeeeeeeeeeeeeeeeeeeeeeeeeeeeeeeef'\n",
    "arr = ['e','ee','eee','eeee','eeeee']\n",
    "canConstruct2(target,arr,{})"
   ]
  },
  {
   "cell_type": "code",
   "execution_count": 84,
   "metadata": {},
   "outputs": [],
   "source": [
    "def canConstruct3(target,arr):\n",
    "    dp = [False for i in range(len(target) + 1)]\n",
    "    dp[0] = True\n",
    "    for i in range(len(dp)):\n",
    "        if(dp[i]):\n",
    "            for word in arr:\n",
    "                if(i + len(word) < len(dp) and word == target[i: i + len(word)]):\n",
    "                    dp[i + len(word)] = True\n",
    "    return dp[len(target)]"
   ]
  },
  {
   "cell_type": "code",
   "execution_count": 85,
   "metadata": {},
   "outputs": [
    {
     "data": {
      "text/plain": [
       "True"
      ]
     },
     "execution_count": 85,
     "metadata": {},
     "output_type": "execute_result"
    }
   ],
   "source": [
    "# target = 'abcdef'\n",
    "# arr = ['ab','abc','cd','def','abcd']\n",
    "target = 'eeeeeeeeeeeeeeeeeeeeeeeeeeeeeeeeeeee'\n",
    "arr = ['e','ee','eee','eeee','eeeee']\n",
    "canConstruct3(target,arr)"
   ]
  },
  {
   "cell_type": "code",
   "execution_count": null,
   "metadata": {},
   "outputs": [],
   "source": []
  }
 ],
 "metadata": {
  "kernelspec": {
   "display_name": "Python 3",
   "language": "python",
   "name": "python3"
  },
  "language_info": {
   "codemirror_mode": {
    "name": "ipython",
    "version": 3
   },
   "file_extension": ".py",
   "mimetype": "text/x-python",
   "name": "python",
   "nbconvert_exporter": "python",
   "pygments_lexer": "ipython3",
   "version": "3.8.5"
  }
 },
 "nbformat": 4,
 "nbformat_minor": 4
}
