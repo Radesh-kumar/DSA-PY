{
 "cells": [
  {
   "cell_type": "markdown",
   "metadata": {},
   "source": [
    "[Youtube](https://www.youtube.com/watch?v=oBt53YbR9Kk&t=2436s)"
   ]
  },
  {
   "cell_type": "code",
   "execution_count": 40,
   "metadata": {},
   "outputs": [],
   "source": [
    "### BruteForce \n",
    "# Time Complexity = O(m^n)\n",
    "# Space Complexity = O(m)"
   ]
  },
  {
   "cell_type": "code",
   "execution_count": 53,
   "metadata": {},
   "outputs": [],
   "source": [
    "def howSum1(targetSum,arr,result):\n",
    "    if(targetSum < 0):\n",
    "        return False\n",
    "    if(targetSum == 0):\n",
    "        return True\n",
    "\n",
    "    for item in arr:\n",
    "        diff = targetSum - item\n",
    "        ans = howSum1(diff,arr,result)\n",
    "        if(ans):\n",
    "            result.append(item)\n",
    "            return result\n",
    "    return result\n"
   ]
  },
  {
   "cell_type": "code",
   "execution_count": 58,
   "metadata": {},
   "outputs": [
    {
     "data": {
      "text/plain": [
       "[1, 1, 1, 1, 1, 1, 1, 1]"
      ]
     },
     "execution_count": 58,
     "metadata": {},
     "output_type": "execute_result"
    }
   ],
   "source": [
    "arr = [1,2,3,4]\n",
    "targetSum  = 8\n",
    "howSum(targetSum, arr, [])"
   ]
  },
  {
   "cell_type": "code",
   "execution_count": 41,
   "metadata": {},
   "outputs": [],
   "source": [
    "### Dynamic Programming"
   ]
  },
  {
   "cell_type": "code",
   "execution_count": 55,
   "metadata": {},
   "outputs": [],
   "source": [
    "def howSum2(targetSum,arr,result,hm):\n",
    "    if(targetSum in hm):\n",
    "        return hm[targetSum]\n",
    "    if(targetSum < 0):\n",
    "        return False\n",
    "    if(targetSum == 0):\n",
    "        return True\n",
    "\n",
    "    for item in arr:\n",
    "        diff = targetSum - item\n",
    "        ans = howSum2(diff,arr,result,hm)\n",
    "        hm[targetSum] = ans\n",
    "        if(ans):\n",
    "            result.append(item)\n",
    "            return result\n",
    "    return result\n"
   ]
  },
  {
   "cell_type": "code",
   "execution_count": 56,
   "metadata": {},
   "outputs": [
    {
     "data": {
      "text/plain": [
       "[]"
      ]
     },
     "execution_count": 56,
     "metadata": {},
     "output_type": "execute_result"
    }
   ],
   "source": [
    "arr = [7,14]\n",
    "targetSum  = 300\n",
    "howSum2(targetSum, arr, [], {})"
   ]
  },
  {
   "cell_type": "code",
   "execution_count": null,
   "metadata": {},
   "outputs": [],
   "source": [
    "def howSum3(targetSum, arr):\n",
    "    "
   ]
  },
  {
   "cell_type": "code",
   "execution_count": null,
   "metadata": {},
   "outputs": [],
   "source": []
  }
 ],
 "metadata": {
  "kernelspec": {
   "display_name": "Python 3",
   "language": "python",
   "name": "python3"
  },
  "language_info": {
   "codemirror_mode": {
    "name": "ipython",
    "version": 3
   },
   "file_extension": ".py",
   "mimetype": "text/x-python",
   "name": "python",
   "nbconvert_exporter": "python",
   "pygments_lexer": "ipython3",
   "version": "3.8.5"
  }
 },
 "nbformat": 4,
 "nbformat_minor": 4
}
