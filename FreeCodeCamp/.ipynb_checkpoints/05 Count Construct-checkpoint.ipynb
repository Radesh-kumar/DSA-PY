{
 "cells": [
  {
   "cell_type": "code",
   "execution_count": 2,
   "metadata": {},
   "outputs": [],
   "source": [
    "### Brute Force\n",
    "### Recursion"
   ]
  },
  {
   "cell_type": "code",
   "execution_count": 51,
   "metadata": {},
   "outputs": [],
   "source": [
    "def countConstruct(target,arr):\n",
    "    if(target == ''):\n",
    "        return 1\n",
    "    count = 0\n",
    "    for item in arr:\n",
    "        index = target.find(item)\n",
    "        if(index == 0):\n",
    "            suffix = target[len(item):]\n",
    "            count += countConstruct(suffix,arr)\n",
    "    return count"
   ]
  },
  {
   "cell_type": "code",
   "execution_count": 54,
   "metadata": {},
   "outputs": [
    {
     "data": {
      "text/plain": [
       "4"
      ]
     },
     "execution_count": 54,
     "metadata": {},
     "output_type": "execute_result"
    }
   ],
   "source": [
    "# target = 'abcdef'\n",
    "# arr = ['ab','abc','cd','def','abcd']\n",
    "target = 'eee'\n",
    "arr = ['e','ee','eee']\n",
    "countConstruct(target,arr)"
   ]
  },
  {
   "cell_type": "code",
   "execution_count": 3,
   "metadata": {},
   "outputs": [],
   "source": [
    "### Dynamic Programming"
   ]
  },
  {
   "cell_type": "code",
   "execution_count": 57,
   "metadata": {},
   "outputs": [],
   "source": [
    "def countConstruct2(target,arr,hm):\n",
    "    if(target in hm):\n",
    "        return hm[target]\n",
    "    if(target == ''):\n",
    "        return 1\n",
    "    count = 0\n",
    "    for item in arr:\n",
    "        index = target.find(item)\n",
    "        if(index == 0):\n",
    "            suffix = target[len(item):]\n",
    "            count += countConstruct2(suffix,arr,hm)\n",
    "    hm[target] = count\n",
    "    return count"
   ]
  },
  {
   "cell_type": "code",
   "execution_count": 62,
   "metadata": {},
   "outputs": [
    {
     "data": {
      "text/plain": [
       "0"
      ]
     },
     "execution_count": 62,
     "metadata": {},
     "output_type": "execute_result"
    }
   ],
   "source": [
    "# target = 'abcdef'\n",
    "# arr = ['ab','abc','cd','def','abcd']\n",
    "target = 'eeeeeeeeeeeeeeeeeeeeeeeeeeeeeeeeeeeef'\n",
    "arr = ['e','ee','eee','eeee','eeeee']\n",
    "countConstruct2(target,arr,{})"
   ]
  },
  {
   "cell_type": "code",
   "execution_count": 1,
   "metadata": {},
   "outputs": [],
   "source": [
    "### Tabulation"
   ]
  },
  {
   "cell_type": "code",
   "execution_count": null,
   "metadata": {},
   "outputs": [],
   "source": [
    "def countConstruct3(target, arr):\n",
    "    if"
   ]
  }
 ],
 "metadata": {
  "kernelspec": {
   "display_name": "Python 3",
   "language": "python",
   "name": "python3"
  },
  "language_info": {
   "codemirror_mode": {
    "name": "ipython",
    "version": 3
   },
   "file_extension": ".py",
   "mimetype": "text/x-python",
   "name": "python",
   "nbconvert_exporter": "python",
   "pygments_lexer": "ipython3",
   "version": "3.8.5"
  }
 },
 "nbformat": 4,
 "nbformat_minor": 4
}
