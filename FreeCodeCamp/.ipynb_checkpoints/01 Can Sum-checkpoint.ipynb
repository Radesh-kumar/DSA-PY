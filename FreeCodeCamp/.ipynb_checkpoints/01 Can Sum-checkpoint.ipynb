{
 "cells": [
  {
   "cell_type": "markdown",
   "metadata": {},
   "source": [
    "[Youtube](https://www.youtube.com/watch?v=oBt53YbR9Kk&t=2436s)"
   ]
  },
  {
   "cell_type": "code",
   "execution_count": 1,
   "metadata": {},
   "outputs": [],
   "source": [
    "### BruteForce \n",
    "# Time Complexity = O(m^n)\n",
    "# Space Complexity = O(m)"
   ]
  },
  {
   "cell_type": "code",
   "execution_count": 5,
   "metadata": {},
   "outputs": [],
   "source": [
    "def canSum1(targetSum,arr):\n",
    "    if(targetSum == 0):\n",
    "        return True\n",
    "    if(targetSum < 0):\n",
    "        return False\n",
    "    for item in arr:\n",
    "        diff = targetSum - item\n",
    "        if(canSum1(diff, arr) == True):\n",
    "            return True\n",
    "    return False"
   ]
  },
  {
   "cell_type": "code",
   "execution_count": 6,
   "metadata": {},
   "outputs": [
    {
     "data": {
      "text/plain": [
       "False"
      ]
     },
     "execution_count": 6,
     "metadata": {},
     "output_type": "execute_result"
    }
   ],
   "source": [
    "targetSum = 300\n",
    "# targetSum = 10000 # Max recursion Depth\n",
    "arr = [7,14]\n",
    "canSum1(targetSum,arr)"
   ]
  },
  {
   "cell_type": "code",
   "execution_count": 7,
   "metadata": {},
   "outputs": [],
   "source": [
    "### Dynamic Programming"
   ]
  },
  {
   "cell_type": "code",
   "execution_count": 8,
   "metadata": {},
   "outputs": [],
   "source": [
    "def canSum2(targetSum,arr,hm):\n",
    "    if(targetSum in hm):\n",
    "        return hm[targetSum]\n",
    "    if(targetSum == 0):\n",
    "        return True\n",
    "    if(targetSum < 0):\n",
    "        return False\n",
    "    for item in arr:\n",
    "        diff = targetSum - item\n",
    "        ans = canSum2(diff, arr,hm)\n",
    "        hm[targetSum] = ans\n",
    "        if(ans == True):\n",
    "            return True\n",
    "    return False"
   ]
  },
  {
   "cell_type": "code",
   "execution_count": 9,
   "metadata": {},
   "outputs": [
    {
     "data": {
      "text/plain": [
       "False"
      ]
     },
     "execution_count": 9,
     "metadata": {},
     "output_type": "execute_result"
    }
   ],
   "source": [
    "targetSum = 300\n",
    "# targetSum = 10000 # Max recursion Depth\n",
    "arr = [7,14]\n",
    "hashMap = {}\n",
    "canSum2(targetSum,arr,hashMap)"
   ]
  },
  {
   "cell_type": "code",
   "execution_count": 1,
   "metadata": {},
   "outputs": [],
   "source": [
    "### Tabulation"
   ]
  },
  {
   "cell_type": "code",
   "execution_count": 25,
   "metadata": {},
   "outputs": [],
   "source": [
    "def canSum3(targetSum,arr):\n",
    "    ### Creating DP array and Filling values\n",
    "    dp = [False for i in range(targetSum + 1)]\n",
    "    ### Seeding initial value / Finding base case\n",
    "    dp[0] = True\n",
    "    for i in range(len(dp)):\n",
    "        if dp[i]:\n",
    "            for j in range(len(arr)):\n",
    "                if i + arr[j] < len(dp):\n",
    "                    dp[i + arr[j]] = True\n",
    "                \n",
    "    return dp[targetSum]"
   ]
  },
  {
   "cell_type": "code",
   "execution_count": 31,
   "metadata": {},
   "outputs": [
    {
     "data": {
      "text/plain": [
       "False"
      ]
     },
     "execution_count": 31,
     "metadata": {},
     "output_type": "execute_result"
    }
   ],
   "source": [
    "targetSum = 100000\n",
    "# targetSum = 10000 # Max recursion Depth\n",
    "arr = [7,14]\n",
    "canSum3(targetSum,arr)"
   ]
  },
  {
   "cell_type": "code",
   "execution_count": null,
   "metadata": {},
   "outputs": [],
   "source": []
  }
 ],
 "metadata": {
  "kernelspec": {
   "display_name": "Python 3",
   "language": "python",
   "name": "python3"
  },
  "language_info": {
   "codemirror_mode": {
    "name": "ipython",
    "version": 3
   },
   "file_extension": ".py",
   "mimetype": "text/x-python",
   "name": "python",
   "nbconvert_exporter": "python",
   "pygments_lexer": "ipython3",
   "version": "3.8.5"
  }
 },
 "nbformat": 4,
 "nbformat_minor": 4
}
