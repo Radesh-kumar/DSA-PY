{
 "cells": [
  {
   "cell_type": "code",
   "execution_count": 1,
   "metadata": {},
   "outputs": [],
   "source": [
    "### Brute Force\n",
    "### Recursion"
   ]
  },
  {
   "cell_type": "code",
   "execution_count": 33,
   "metadata": {},
   "outputs": [],
   "source": [
    "def allConstruct(target,arr):\n",
    "    if(target == ''):\n",
    "        return [[]]\n",
    "    \n",
    "    smallresult = None\n",
    "    for item in arr:\n",
    "        index = target.find(item)\n",
    "        if(index == 0):\n",
    "            suffix = target[len(item):]\n",
    "            result = allConstruct(suffix,arr)\n",
    "            if(result != None):\n",
    "                for ans in result:\n",
    "                    ans.insert(0,item)\n",
    "                if(smallresult == None):\n",
    "                    smallresult = result\n",
    "                else:\n",
    "                    smallresult += result\n",
    "    return smallresult"
   ]
  },
  {
   "cell_type": "code",
   "execution_count": 34,
   "metadata": {},
   "outputs": [
    {
     "data": {
      "text/plain": [
       "[['abc', 'def']]"
      ]
     },
     "execution_count": 34,
     "metadata": {},
     "output_type": "execute_result"
    }
   ],
   "source": [
    "target = 'abcdef'\n",
    "arr = ['ab','abc','cd','def','abcd']\n",
    "# target = 'eeeeeeeeeeeeeeeeeeeeeeeeeeeeeeef'\n",
    "# arr = ['e','ee','eee','eeee']\n",
    "allConstruct(target,arr)"
   ]
  },
  {
   "cell_type": "code",
   "execution_count": 9,
   "metadata": {},
   "outputs": [],
   "source": [
    "### Dynamic Programming"
   ]
  },
  {
   "cell_type": "code",
   "execution_count": 39,
   "metadata": {},
   "outputs": [],
   "source": [
    "def allConstruct2(target,arr,hm):\n",
    "    if(target == ''):\n",
    "        return [[]]\n",
    "    if(target in hm):\n",
    "        return hm[target]\n",
    "    \n",
    "    smallresult = None\n",
    "    for item in arr:\n",
    "        index = target.find(item)\n",
    "        if(index == 0):\n",
    "            suffix = target[len(item):]\n",
    "            result = allConstruct2(suffix,arr,hm)\n",
    "            if(result != None):\n",
    "                for ans in result:\n",
    "                    ans.insert(0,item)\n",
    "                if(smallresult == None):\n",
    "                    smallresult = result\n",
    "                else:\n",
    "                    smallresult += result\n",
    "    hm[target] = smallresult\n",
    "    return smallresult"
   ]
  },
  {
   "cell_type": "code",
   "execution_count": 41,
   "metadata": {},
   "outputs": [
    {
     "data": {
      "text/plain": [
       "[['abc', 'def']]"
      ]
     },
     "execution_count": 41,
     "metadata": {},
     "output_type": "execute_result"
    }
   ],
   "source": [
    "target = 'abcdef'\n",
    "arr = ['ab','abc','cd','def','abcd']\n",
    "# target = 'eeeeeeeeeee'\n",
    "# arr = ['e','ee','eee','eeee','eeeee']\n",
    "allConstruct2(target,arr,{})"
   ]
  },
  {
   "cell_type": "code",
   "execution_count": 1,
   "metadata": {},
   "outputs": [],
   "source": [
    "### Tabulation"
   ]
  },
  {
   "cell_type": "code",
   "execution_count": 34,
   "metadata": {},
   "outputs": [],
   "source": [
    "def allConstruct3(target, arr):\n",
    "    dp = [[]for i in range(len(target) + 1)]\n",
    "    dp[0] = [[]]\n",
    "    for i in range(len(dp)):\n",
    "        if(dp[i] != 0):\n",
    "            for word in arr:\n",
    "                if(i + len(word) < len(dp) and word == target[i: i + len(word)]):\n",
    "                    for item in dp[i]:\n",
    "                        dp[i + len(word)].append(item + [word])\n",
    "    return dp[len(target)]"
   ]
  },
  {
   "cell_type": "code",
   "execution_count": 36,
   "metadata": {},
   "outputs": [
    {
     "data": {
      "text/plain": [
       "[['eee'], ['e', 'ee'], ['ee', 'e'], ['e', 'e', 'e']]"
      ]
     },
     "execution_count": 36,
     "metadata": {},
     "output_type": "execute_result"
    }
   ],
   "source": [
    "# target = 'abcdef'\n",
    "# arr = ['ab','abc','cd','def','abcd']\n",
    "target = 'eee'\n",
    "arr = ['e','ee','eee']\n",
    "allConstruct3(target,arr)"
   ]
  },
  {
   "cell_type": "code",
   "execution_count": null,
   "metadata": {},
   "outputs": [],
   "source": []
  }
 ],
 "metadata": {
  "kernelspec": {
   "display_name": "Python 3",
   "language": "python",
   "name": "python3"
  },
  "language_info": {
   "codemirror_mode": {
    "name": "ipython",
    "version": 3
   },
   "file_extension": ".py",
   "mimetype": "text/x-python",
   "name": "python",
   "nbconvert_exporter": "python",
   "pygments_lexer": "ipython3",
   "version": "3.8.5"
  }
 },
 "nbformat": 4,
 "nbformat_minor": 4
}
