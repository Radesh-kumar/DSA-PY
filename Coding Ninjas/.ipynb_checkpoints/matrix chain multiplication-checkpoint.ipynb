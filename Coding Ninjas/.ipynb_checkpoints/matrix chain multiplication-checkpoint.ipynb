{
 "cells": [
  {
   "cell_type": "code",
   "execution_count": 15,
   "metadata": {},
   "outputs": [],
   "source": [
    "def mcm(arr,l,r):\n",
    "    minCost = float('inf')\n",
    "\n",
    "    if(l == r):\n",
    "        return 0\n",
    "\n",
    "    for i in range(l,r):\n",
    "        print(l-1,i,i+1,r)\n",
    "        ans1 = mcm(arr, l,i)\n",
    "        ans2 = mcm(arr, i+1,r)\n",
    "        \n",
    "        currCost = arr[l-1]*arr[i]*arr[r]\n",
    "        ans = ans1 + ans2 + currCost\n",
    "        \n",
    "        minCost = min(ans,minCost)\n",
    "        break\n",
    "    return minCost\n",
    "        \n",
    "    \n",
    "        \n",
    "        \n",
    "    "
   ]
  },
  {
   "cell_type": "code",
   "execution_count": 16,
   "metadata": {},
   "outputs": [
    {
     "name": "stdout",
     "output_type": "stream",
     "text": [
      "0 1 2 4\n",
      "1 2 3 4\n",
      "2 3 4 4\n"
     ]
    },
    {
     "data": {
      "text/plain": [
       "228"
      ]
     },
     "execution_count": 16,
     "metadata": {},
     "output_type": "execute_result"
    }
   ],
   "source": [
    "arr = [2,3,4,5,6]\n",
    "mcm(arr,1,len(arr)-1)"
   ]
  }
 ],
 "metadata": {
  "kernelspec": {
   "display_name": "Python 3",
   "language": "python",
   "name": "python3"
  },
  "language_info": {
   "codemirror_mode": {
    "name": "ipython",
    "version": 3
   },
   "file_extension": ".py",
   "mimetype": "text/x-python",
   "name": "python",
   "nbconvert_exporter": "python",
   "pygments_lexer": "ipython3",
   "version": "3.8.5"
  }
 },
 "nbformat": 4,
 "nbformat_minor": 4
}
