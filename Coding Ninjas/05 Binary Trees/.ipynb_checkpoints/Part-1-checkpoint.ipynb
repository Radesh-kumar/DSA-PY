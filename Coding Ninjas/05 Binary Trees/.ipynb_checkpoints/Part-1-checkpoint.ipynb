{
 "cells": [
  {
   "cell_type": "markdown",
   "metadata": {},
   "source": [
    "### Creating a Tree"
   ]
  },
  {
   "cell_type": "code",
   "execution_count": 6,
   "metadata": {},
   "outputs": [],
   "source": [
    "class BinarySearchNode:\n",
    "    def __init__(self, data):\n",
    "        self.data = data\n",
    "        self.left = None\n",
    "        self.right = None\n",
    "        "
   ]
  },
  {
   "cell_type": "code",
   "execution_count": 7,
   "metadata": {},
   "outputs": [],
   "source": [
    "btn1 = BinarySearchNode(1)\n",
    "btn2 = BinarySearchNode(2)\n",
    "btn3 = BinarySearchNode(3)\n",
    "btn4 = BinarySearchNode(4)\n",
    "btn5 = BinarySearchNode(5)"
   ]
  },
  {
   "cell_type": "code",
   "execution_count": 8,
   "metadata": {},
   "outputs": [
    {
     "data": {
      "text/plain": [
       "3"
      ]
     },
     "execution_count": 8,
     "metadata": {},
     "output_type": "execute_result"
    }
   ],
   "source": [
    "btn1.left = btn2\n",
    "btn1.right = btn3\n",
    "btn2.left = btn4\n",
    "btn2.right = btn5\n",
    "btn1.right.data\n",
    "\n"
   ]
  },
  {
   "cell_type": "markdown",
   "metadata": {},
   "source": [
    "### Printing a Tree"
   ]
  },
  {
   "cell_type": "code",
   "execution_count": 9,
   "metadata": {},
   "outputs": [],
   "source": [
    "def printTree(root):\n",
    "    if(root == None):\n",
    "        return\n",
    "    print(root.data)\n",
    "    printTree(root.left)\n",
    "    printTree(root.right)"
   ]
  },
  {
   "cell_type": "code",
   "execution_count": 10,
   "metadata": {},
   "outputs": [
    {
     "name": "stdout",
     "output_type": "stream",
     "text": [
      "1\n",
      "2\n",
      "4\n",
      "5\n",
      "3\n"
     ]
    }
   ],
   "source": [
    "printTree(btn1)"
   ]
  },
  {
   "cell_type": "markdown",
   "metadata": {},
   "source": [
    "### Printing a tree in detail"
   ]
  },
  {
   "cell_type": "code",
   "execution_count": 11,
   "metadata": {},
   "outputs": [],
   "source": [
    "def printTreeDetailed(parent, child):\n",
    "    if(child == None):\n",
    "        return\n",
    "    if(child.left == None and child.right == None):\n",
    "        print(child.data)\n",
    "    elif(child.right == None):\n",
    "        print(child.data,': ', child.left.data)\n",
    "    elif(child.left == None):\n",
    "        print(child.data,': ', child.right.data)\n",
    "    else:\n",
    "        print(child.data,': ', child.left.data, child.right.data)\n",
    "    printTreeDetailed(child, child.left)\n",
    "    printTreeDetailed(child, child.right)"
   ]
  },
  {
   "cell_type": "code",
   "execution_count": 12,
   "metadata": {},
   "outputs": [
    {
     "name": "stdout",
     "output_type": "stream",
     "text": [
      "1 :  2 3\n",
      "2 :  4 5\n",
      "4\n",
      "5\n",
      "3\n"
     ]
    }
   ],
   "source": [
    "printTreeDetailed(None, btn1)"
   ]
  },
  {
   "cell_type": "markdown",
   "metadata": {},
   "source": [
    "### Taking Input"
   ]
  },
  {
   "cell_type": "code",
   "execution_count": 13,
   "metadata": {},
   "outputs": [],
   "source": [
    "def treeInput():\n",
    "    rootData = int(input())\n",
    "    \n",
    "    if(rootData == -1):\n",
    "        return\n",
    "    root = BinarySearchNode(rootData)\n",
    "    leftTree = treeInput()\n",
    "    rightTree = treeInput()\n",
    "\n",
    "\n",
    "    root.left = leftTree\n",
    "    root.right = rightTree\n",
    "    \n",
    "    return root\n",
    "    \n"
   ]
  },
  {
   "cell_type": "code",
   "execution_count": 14,
   "metadata": {},
   "outputs": [
    {
     "name": "stdout",
     "output_type": "stream",
     "text": [
      "-1\n"
     ]
    }
   ],
   "source": [
    "root = treeInput()\n"
   ]
  },
  {
   "cell_type": "code",
   "execution_count": 15,
   "metadata": {},
   "outputs": [],
   "source": [
    "printTreeDetailed(None, root)"
   ]
  },
  {
   "cell_type": "markdown",
   "metadata": {},
   "source": [
    "### Level wise input"
   ]
  },
  {
   "cell_type": "code",
   "execution_count": 24,
   "metadata": {},
   "outputs": [],
   "source": [
    "import queue\n",
    "def levelwiseInput():\n",
    "    q = queue.Queue()\n",
    "    print('Enter root')\n",
    "    rootData = int(input())\n",
    "    if rootData < 0:\n",
    "        pass\n",
    "    root = BinarySearchNode(rootData)\n",
    "    q.put(root)\n",
    "    while(not(q.empty())):\n",
    "        current_node = q.get()\n",
    "          \n",
    "        print(\"Enter Left child\")\n",
    "        leftChildData = int(input())\n",
    "        leftChildNode = BinarySearchNode(leftChildData)\n",
    "        if leftChildData < 0:\n",
    "            current_node.left = None\n",
    "        else:\n",
    "            current_node.left = leftChildNode\n",
    "            q.put(leftChildNode)\n",
    "          \n",
    "        print(\"Enter Right child\")\n",
    "        rightChildData = int(input())\n",
    "        rightChildNode = BinarySearchNode(rightChildData)\n",
    "        if rightChildData < 0:\n",
    "            current_node.right = None\n",
    "        else:\n",
    "            current_node.right = rightChildNode\n",
    "            q.put(rightChildNode)\n",
    "    return root"
   ]
  },
  {
   "cell_type": "code",
   "execution_count": 26,
   "metadata": {},
   "outputs": [
    {
     "name": "stdout",
     "output_type": "stream",
     "text": [
      "Enter root\n",
      "1\n",
      "Enter Left child\n",
      "2\n",
      "Enter Right child\n",
      "4\n",
      "Enter Left child\n",
      "-1\n",
      "Enter Right child\n",
      "-1\n",
      "Enter Left child\n",
      "-1\n",
      "Enter Right child\n",
      "-1\n"
     ]
    }
   ],
   "source": [
    "root = levelwiseInput()"
   ]
  },
  {
   "cell_type": "markdown",
   "metadata": {},
   "source": [
    "### No. of Nodes "
   ]
  },
  {
   "cell_type": "code",
   "execution_count": 17,
   "metadata": {},
   "outputs": [],
   "source": [
    "def numNodes(root, count):\n",
    "    if root == None:\n",
    "        return 0\n",
    "    else:\n",
    "        count += 1\n",
    "    leftCount = numNodes(root.left, count)\n",
    "    rightCount = numNodes(root.right, count)\n",
    "    return leftCount + rightCount + 1"
   ]
  },
  {
   "cell_type": "code",
   "execution_count": 18,
   "metadata": {},
   "outputs": [
    {
     "data": {
      "text/plain": [
       "5"
      ]
     },
     "execution_count": 18,
     "metadata": {},
     "output_type": "execute_result"
    }
   ],
   "source": [
    "numNodes(btn1, 0)"
   ]
  },
  {
   "cell_type": "markdown",
   "metadata": {},
   "source": [
    "### Largest Node Data"
   ]
  },
  {
   "cell_type": "code",
   "execution_count": 19,
   "metadata": {},
   "outputs": [],
   "source": [
    "def largestNode(root):\n",
    "    if root == None:\n",
    "        return -1\n",
    "    leftLargestNode = largestNode(root.left)\n",
    "    rightLargestNode = largestNode(root.right)\n",
    "    return max(leftLargestNode, rightLargestNode, root.data)"
   ]
  },
  {
   "cell_type": "code",
   "execution_count": 20,
   "metadata": {},
   "outputs": [
    {
     "data": {
      "text/plain": [
       "5"
      ]
     },
     "execution_count": 20,
     "metadata": {},
     "output_type": "execute_result"
    }
   ],
   "source": [
    "largestNode(btn1)"
   ]
  },
  {
   "cell_type": "markdown",
   "metadata": {},
   "source": [
    "### Print all elements at depth k"
   ]
  },
  {
   "cell_type": "code",
   "execution_count": 26,
   "metadata": {},
   "outputs": [],
   "source": [
    "def printAtdepthk(root, k):\n",
    "    if root == None:\n",
    "        return\n",
    "    if k == 0:\n",
    "        print(root.data)\n",
    "        return\n",
    "    printAtdepthk(root.left, k-1)\n",
    "    printAtdepthk(root.right, k-1)\n",
    "    "
   ]
  },
  {
   "cell_type": "code",
   "execution_count": 27,
   "metadata": {},
   "outputs": [
    {
     "name": "stdout",
     "output_type": "stream",
     "text": [
      "4\n",
      "5\n"
     ]
    }
   ],
   "source": [
    "printAtdepthk(btn1, 2)"
   ]
  },
  {
   "cell_type": "code",
   "execution_count": 29,
   "metadata": {},
   "outputs": [],
   "source": [
    "def printAtdepthk2(root, k, currDepth = 0):\n",
    "    if root == None:\n",
    "        return\n",
    "    if k == currDepth:\n",
    "        print(root.data)\n",
    "        return\n",
    "    printAtdepthk2(root.left, k, currDepth+1)\n",
    "    printAtdepthk2(root.left, k, currDepth+1)    "
   ]
  },
  {
   "cell_type": "code",
   "execution_count": 30,
   "metadata": {},
   "outputs": [
    {
     "name": "stdout",
     "output_type": "stream",
     "text": [
      "4\n",
      "5\n"
     ]
    }
   ],
   "source": [
    "printAtdepthk(btn1, 2)"
   ]
  }
 ],
 "metadata": {
  "kernelspec": {
   "display_name": "Python 3",
   "language": "python",
   "name": "python3"
  },
  "language_info": {
   "codemirror_mode": {
    "name": "ipython",
    "version": 3
   },
   "file_extension": ".py",
   "mimetype": "text/x-python",
   "name": "python",
   "nbconvert_exporter": "python",
   "pygments_lexer": "ipython3",
   "version": "3.8.5"
  }
 },
 "nbformat": 4,
 "nbformat_minor": 4
}
