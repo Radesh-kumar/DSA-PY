{
 "cells": [
  {
   "cell_type": "markdown",
   "metadata": {},
   "source": [
    "### Creating a Tree"
   ]
  },
  {
   "cell_type": "code",
   "execution_count": 1,
   "metadata": {},
   "outputs": [],
   "source": [
    "class BinarySearchNode:\n",
    "    def __init__(self, data):\n",
    "        self.data = data\n",
    "        self.left = None\n",
    "        self.right = None\n",
    "        \n",
    "\n",
    "btn1 = BinarySearchNode(1)\n",
    "btn2 = BinarySearchNode(2)\n",
    "btn3 = BinarySearchNode(3)\n",
    "btn4 = BinarySearchNode(4)\n",
    "btn5 = BinarySearchNode(5)\n",
    "btn6 = BinarySearchNode(6)\n",
    "\n",
    "btn1.left = btn2\n",
    "btn1.right = btn3\n",
    "btn2.left = btn4\n",
    "# btn2.right = btn5\n",
    "# btn4.left = btn6\n"
   ]
  },
  {
   "cell_type": "markdown",
   "metadata": {},
   "source": [
    "### Printing a Tree"
   ]
  },
  {
   "cell_type": "code",
   "execution_count": 2,
   "metadata": {},
   "outputs": [
    {
     "name": "stdout",
     "output_type": "stream",
     "text": [
      "1\n",
      "2\n",
      "4\n",
      "3\n"
     ]
    }
   ],
   "source": [
    "def printTree(root):\n",
    "    if(root == None):\n",
    "        return\n",
    "    print(root.data)\n",
    "    printTree(root.left)\n",
    "    printTree(root.right)\n",
    "\n",
    "printTree(btn1)"
   ]
  },
  {
   "cell_type": "markdown",
   "metadata": {},
   "source": [
    "### Printing a tree in detail"
   ]
  },
  {
   "cell_type": "code",
   "execution_count": 3,
   "metadata": {},
   "outputs": [],
   "source": [
    "def printTreeDetailed(parent, child):\n",
    "    if(child == None):\n",
    "        return\n",
    "    if(child.left == None and child.right == None):\n",
    "        print(child.data)\n",
    "    elif(child.right == None):\n",
    "        print(child.data,': ', child.left.data)\n",
    "    elif(child.left == None):\n",
    "        print(child.data,': ', child.right.data)\n",
    "    else:\n",
    "        print(child.data,': ', child.left.data, child.right.data)\n",
    "    printTreeDetailed(child, child.left)\n",
    "    printTreeDetailed(child, child.right)"
   ]
  },
  {
   "cell_type": "code",
   "execution_count": 4,
   "metadata": {},
   "outputs": [
    {
     "name": "stdout",
     "output_type": "stream",
     "text": [
      "1 :  2 3\n",
      "2 :  4\n",
      "4\n",
      "3\n"
     ]
    }
   ],
   "source": [
    "printTreeDetailed(None, btn1)"
   ]
  },
  {
   "cell_type": "markdown",
   "metadata": {},
   "source": [
    "### Removing leaf node"
   ]
  },
  {
   "cell_type": "code",
   "execution_count": 5,
   "metadata": {},
   "outputs": [],
   "source": [
    "def isLeaf(node):\n",
    "    return node.left == None and node.right == None\n",
    "\n",
    "def removeLeafNodes(root):\n",
    "    if root == None:\n",
    "        return\n",
    "    if (isLeaf(root)):\n",
    "        return None\n",
    "    root.left = removeLeafNodes(root.left)\n",
    "    root.right = removeLeafNodes(root.right)\n",
    "    return root"
   ]
  },
  {
   "cell_type": "code",
   "execution_count": 6,
   "metadata": {},
   "outputs": [
    {
     "data": {
      "text/plain": [
       "<__main__.BinarySearchNode at 0x277a54d20a0>"
      ]
     },
     "execution_count": 6,
     "metadata": {},
     "output_type": "execute_result"
    }
   ],
   "source": [
    "removeLeafNodes(btn1)"
   ]
  },
  {
   "cell_type": "code",
   "execution_count": 7,
   "metadata": {},
   "outputs": [
    {
     "name": "stdout",
     "output_type": "stream",
     "text": [
      "1\n",
      "2\n"
     ]
    }
   ],
   "source": [
    "printTree(btn1)"
   ]
  },
  {
   "cell_type": "markdown",
   "metadata": {},
   "source": [
    "### Balanced Tree\n"
   ]
  },
  {
   "cell_type": "code",
   "execution_count": 8,
   "metadata": {},
   "outputs": [],
   "source": [
    "btn1 = BinarySearchNode(1)\n",
    "btn2 = BinarySearchNode(2)\n",
    "btn3 = BinarySearchNode(3)\n",
    "btn4 = BinarySearchNode(4)\n",
    "btn5 = BinarySearchNode(5)\n",
    "btn6 = BinarySearchNode(6)\n",
    "btn7 = BinarySearchNode(7)\n",
    "\n",
    "btn1.left = btn2\n",
    "btn1.right = btn3\n",
    "btn2.left = btn4"
   ]
  },
  {
   "cell_type": "code",
   "execution_count": 9,
   "metadata": {},
   "outputs": [],
   "source": [
    "# Height of left sub tree = +1/-1/=1 of right sub tree\n",
    "# Time complexity --> Worst Case --> O(n^2) --> When tree is linear like a linked List\n",
    "# Time complexity --> Best Case --> O(n(logn)) --> When tree is perfectly balanced\n",
    "\n",
    "def height(root):\n",
    "    if root == None:\n",
    "        return 0\n",
    "    return 1 + max(height(root.left), height(root.right))\n",
    "\n",
    "def isBalanced(root):\n",
    "    if root == None:\n",
    "        return True\n",
    "    lh = height(root.left)\n",
    "    rh = height(root.right)\n",
    "    \n",
    "    # Height of left sub tree = +1/-1/=1 of right sub tree\n",
    "    if(abs(lh - rh) == 1 or lh - rh == 0):\n",
    "        leftBalanced = isBalanced(root.left)\n",
    "        rightBalanced = isBalanced(root.right)\n",
    "    else:\n",
    "        return False\n",
    "    return leftBalanced and rightBalanced\n",
    "    "
   ]
  },
  {
   "cell_type": "code",
   "execution_count": 10,
   "metadata": {},
   "outputs": [
    {
     "data": {
      "text/plain": [
       "True"
      ]
     },
     "execution_count": 10,
     "metadata": {},
     "output_type": "execute_result"
    }
   ],
   "source": [
    "isBalanced(btn1)"
   ]
  },
  {
   "cell_type": "code",
   "execution_count": 11,
   "metadata": {},
   "outputs": [],
   "source": [
    "### Optimized version of height balanced\n",
    "### Time complexity --> O(n)"
   ]
  },
  {
   "cell_type": "code",
   "execution_count": 12,
   "metadata": {},
   "outputs": [],
   "source": [
    "### Can be used as helper function\n",
    "\n",
    "def getHeightAndCheckBalanced(root):\n",
    "    if root == None:\n",
    "        return 0, True\n",
    "    \n",
    "    lh, leftBalanced = getHeightAndCheckBalanced(root.left)\n",
    "    rh, rightBalanced = getHeightAndCheckBalanced(root.right)\n",
    "    \n",
    "    height = 1 + max(lh, rh)\n",
    "    if(leftBalanced and rightBalanced):     \n",
    "        if(abs(lh - rh) == 1 or lh - rh == 0):\n",
    "            return height, True\n",
    "    return height, False\n",
    "\n",
    "### Main Function\n",
    "def isBalanced2(root):\n",
    "    height, isBalanced = getHeightAndCheckBalanced(root)\n",
    "    return isBalanced\n",
    "    "
   ]
  },
  {
   "cell_type": "code",
   "execution_count": 13,
   "metadata": {},
   "outputs": [
    {
     "data": {
      "text/plain": [
       "True"
      ]
     },
     "execution_count": 13,
     "metadata": {},
     "output_type": "execute_result"
    }
   ],
   "source": [
    "isBalanced2(btn1)"
   ]
  },
  {
   "cell_type": "code",
   "execution_count": 14,
   "metadata": {},
   "outputs": [],
   "source": [
    "btn1 = BinarySearchNode(1)\n",
    "btn2 = BinarySearchNode(2)\n",
    "btn3 = BinarySearchNode(3)\n",
    "btn4 = BinarySearchNode(4)\n",
    "btn5 = BinarySearchNode(5)\n",
    "btn6 = BinarySearchNode(6)\n",
    "btn7 = BinarySearchNode(7)\n",
    "\n",
    "btn1.left = btn2\n",
    "btn1.right = btn3\n",
    "btn2.left = btn4\n",
    "btn2.right = btn5\n",
    "btn4.left = btn6\n",
    "btn5.right = btn7"
   ]
  },
  {
   "cell_type": "code",
   "execution_count": 15,
   "metadata": {},
   "outputs": [],
   "source": [
    "### Calculating two Farthest points in a tree"
   ]
  },
  {
   "cell_type": "code",
   "execution_count": 16,
   "metadata": {},
   "outputs": [],
   "source": [
    "def height(root):\n",
    "    if root is None:\n",
    "        return 0\n",
    "    return 1 + max(height(root.left), height(root.right))\n",
    "def farthestDistance(root):\n",
    "    if root == None:\n",
    "        return 0\n",
    "\n",
    "    lh = height(root.left)\n",
    "    rh = height(root.right)\n",
    "    \n",
    "    ld = farthestDistance(root.left)\n",
    "    rd = farthestDistance(root.right)\n",
    "\n",
    "    return max(ld, rd, 1 + lh + rh)\n",
    "    \n",
    "    "
   ]
  },
  {
   "cell_type": "code",
   "execution_count": 17,
   "metadata": {},
   "outputs": [
    {
     "data": {
      "text/plain": [
       "5"
      ]
     },
     "execution_count": 17,
     "metadata": {},
     "output_type": "execute_result"
    }
   ],
   "source": [
    "farthestDistance(btn1)"
   ]
  },
  {
   "cell_type": "markdown",
   "metadata": {},
   "source": [
    "### Build a Tree Given Pre-Order and In-order"
   ]
  },
  {
   "cell_type": "code",
   "execution_count": 34,
   "metadata": {},
   "outputs": [],
   "source": [
    "def buildTree(preOrder, inOrder):\n",
    "    if(len(preOrder) == 0):\n",
    "        return None\n",
    "    \n",
    "    # Selecting Root Node\n",
    "    rootData = preOrder[0]\n",
    "    rootNode = BinarySearchNode(rootData)\n",
    "    \n",
    "    for i in range(len(inOrder)):\n",
    "        if inOrder[i] == rootData:\n",
    "            midIndex = i\n",
    "            \n",
    "    leftInOrder = inOrder[0: midIndex]\n",
    "    rightInOrder = inOrder[midIndex + 1:]\n",
    "    \n",
    "    leftPreOrder = preOrder[1: midIndex + 1]\n",
    "    rightPreOrder = preOrder[midIndex +1  :]\n",
    "    \n",
    "    leftNode = buildTree(leftPreOrder, leftInOrder)\n",
    "    rightNode = buildTree(rightPreOrder, rightInOrder)\n",
    "    \n",
    "    rootNode.left = leftNode\n",
    "    rootNode.right = rightNode\n",
    "    \n",
    "    return rootNode\n",
    "    "
   ]
  },
  {
   "cell_type": "code",
   "execution_count": 35,
   "metadata": {},
   "outputs": [
    {
     "name": "stdout",
     "output_type": "stream",
     "text": [
      "1 :  2 3\n",
      "2 :  4 5\n",
      "4\n",
      "5\n",
      "3 :  6 7\n",
      "6\n",
      "7\n"
     ]
    }
   ],
   "source": [
    "root = buildTree([1,2,4,5,3,6,7], [4,2,5,1,6,3,7])\n",
    "printTreeDetailed(None, root)"
   ]
  },
  {
   "cell_type": "code",
   "execution_count": null,
   "metadata": {},
   "outputs": [],
   "source": []
  }
 ],
 "metadata": {
  "kernelspec": {
   "display_name": "Python 3",
   "language": "python",
   "name": "python3"
  },
  "language_info": {
   "codemirror_mode": {
    "name": "ipython",
    "version": 3
   },
   "file_extension": ".py",
   "mimetype": "text/x-python",
   "name": "python",
   "nbconvert_exporter": "python",
   "pygments_lexer": "ipython3",
   "version": "3.8.5"
  }
 },
 "nbformat": 4,
 "nbformat_minor": 4
}
