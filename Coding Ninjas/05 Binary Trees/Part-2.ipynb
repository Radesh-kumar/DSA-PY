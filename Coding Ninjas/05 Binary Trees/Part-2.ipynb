{
 "cells": [
  {
   "cell_type": "markdown",
   "metadata": {},
   "source": [
    "### Creating a Tree"
   ]
  },
  {
   "cell_type": "code",
   "execution_count": 4,
   "metadata": {},
   "outputs": [],
   "source": [
    "class BinarySearchNode:\n",
    "    def __init__(self, data):\n",
    "        self.data = data\n",
    "        self.left = None\n",
    "        self.right = None\n",
    "        \n",
    "\n",
    "btn1 = BinarySearchNode(1)\n",
    "btn2 = BinarySearchNode(2)\n",
    "btn3 = BinarySearchNode(3)\n",
    "btn4 = BinarySearchNode(4)\n",
    "btn5 = BinarySearchNode(5)\n",
    "btn6 = BinarySearchNode(6)\n",
    "\n",
    "btn1.left = btn2\n",
    "btn1.right = btn3\n",
    "btn2.left = btn4\n",
    "btn2.right = btn5\n",
    "btn4.left = btn6\n"
   ]
  },
  {
   "cell_type": "markdown",
   "metadata": {},
   "source": [
    "### Printing a Tree"
   ]
  },
  {
   "cell_type": "code",
   "execution_count": 5,
   "metadata": {},
   "outputs": [
    {
     "name": "stdout",
     "output_type": "stream",
     "text": [
      "1\n",
      "2\n",
      "4\n",
      "6\n",
      "5\n",
      "3\n"
     ]
    }
   ],
   "source": [
    "def printTree(root):\n",
    "    if(root == None):\n",
    "        return\n",
    "    print(root.data)\n",
    "    printTree(root.left)\n",
    "    printTree(root.right)\n",
    "\n",
    "printTree(btn1)"
   ]
  },
  {
   "cell_type": "markdown",
   "metadata": {},
   "source": [
    "### Removing leaf node"
   ]
  },
  {
   "cell_type": "code",
   "execution_count": 6,
   "metadata": {},
   "outputs": [],
   "source": [
    "def isLeaf(node):\n",
    "    return node.left == None and node.right == None\n",
    "\n",
    "def removeLeafNodes(root):\n",
    "    if root == None:\n",
    "        return\n",
    "    if (isLeaf(root)):\n",
    "        return None\n",
    "    root.left = removeLeafNodes(root.left)\n",
    "    root.right = removeLeafNodes(root.right)\n",
    "    return root"
   ]
  },
  {
   "cell_type": "code",
   "execution_count": 7,
   "metadata": {},
   "outputs": [
    {
     "data": {
      "text/plain": [
       "<__main__.BinarySearchNode at 0x187aa290b50>"
      ]
     },
     "execution_count": 7,
     "metadata": {},
     "output_type": "execute_result"
    }
   ],
   "source": [
    "removeLeafNodes(btn1)"
   ]
  },
  {
   "cell_type": "code",
   "execution_count": 8,
   "metadata": {},
   "outputs": [
    {
     "name": "stdout",
     "output_type": "stream",
     "text": [
      "1\n",
      "2\n",
      "4\n"
     ]
    }
   ],
   "source": [
    "printTree(btn1)"
   ]
  },
  {
   "cell_type": "markdown",
   "metadata": {},
   "source": [
    "### Balanced Tree\n"
   ]
  },
  {
   "cell_type": "code",
   "execution_count": 21,
   "metadata": {},
   "outputs": [],
   "source": [
    "btn1 = BinarySearchNode(1)\n",
    "btn2 = BinarySearchNode(2)\n",
    "btn3 = BinarySearchNode(3)\n",
    "btn4 = BinarySearchNode(4)\n",
    "btn5 = BinarySearchNode(5)\n",
    "btn6 = BinarySearchNode(6)\n",
    "\n",
    "btn1.left = btn2\n",
    "btn1.right = btn3\n",
    "btn2.left = btn4\n",
    "# btn2.right = btn5\n",
    "# btn4.left = btn6"
   ]
  },
  {
   "cell_type": "code",
   "execution_count": 22,
   "metadata": {},
   "outputs": [],
   "source": [
    "# Height of left sub tree = +1/-1/=1 of right sub tree\n",
    "# Time complexity --> Worst Case --> O(n^2) --> When tree is linear like a linked List\n",
    "# Time complexity --> Best Case --> O(n(logn)) --> When tree is perfectly balanced\n",
    "\n",
    "def height(root):\n",
    "    if root == None:\n",
    "        return 0\n",
    "    return 1 + max(height(root.left), height(root.right))\n",
    "\n",
    "def isBalanced(root):\n",
    "    if root == None:\n",
    "        return True\n",
    "    lh = height(root.left)\n",
    "    rh = height(root.right)\n",
    "    \n",
    "    # Height of left sub tree = +1/-1/=1 of right sub tree\n",
    "    if(abs(lh - rh) == 1 or lh - rh == 0):\n",
    "        leftBalanced = isBalanced(root.left)\n",
    "        rightBalanced = isBalanced(root.right)\n",
    "    else:\n",
    "        return False\n",
    "    return leftBalanced and rightBalanced\n",
    "    "
   ]
  },
  {
   "cell_type": "code",
   "execution_count": 23,
   "metadata": {},
   "outputs": [
    {
     "data": {
      "text/plain": [
       "True"
      ]
     },
     "execution_count": 23,
     "metadata": {},
     "output_type": "execute_result"
    }
   ],
   "source": [
    "isBalanced(btn1)"
   ]
  },
  {
   "cell_type": "code",
   "execution_count": 24,
   "metadata": {},
   "outputs": [],
   "source": [
    "### Optimized version of height balanced"
   ]
  },
  {
   "cell_type": "code",
   "execution_count": 25,
   "metadata": {},
   "outputs": [],
   "source": [
    "def getHeightAndCheckBalanced(root):\n",
    "    if root == None:\n",
    "        return 0, True\n",
    "    \n",
    "    lh, leftBalanced = getHeightAndCheckBalanced(root.left)\n",
    "    rh, rightBalanced = getHeightAndCheckBalanced(root.right)\n",
    "    \n",
    "    height = 1 + max(lh, rh)\n",
    "    if(leftBalanced and rightBalanced):     \n",
    "        if(abs(lh - rh) == 1 or lh - rh == 0):\n",
    "            return height, True\n",
    "    return height, False\n",
    "    "
   ]
  },
  {
   "cell_type": "code",
   "execution_count": 26,
   "metadata": {},
   "outputs": [
    {
     "data": {
      "text/plain": [
       "(3, True)"
      ]
     },
     "execution_count": 26,
     "metadata": {},
     "output_type": "execute_result"
    }
   ],
   "source": [
    "getHeightAndCheckBalanced(btn1)"
   ]
  }
 ],
 "metadata": {
  "kernelspec": {
   "display_name": "Python 3",
   "language": "python",
   "name": "python3"
  },
  "language_info": {
   "codemirror_mode": {
    "name": "ipython",
    "version": 3
   },
   "file_extension": ".py",
   "mimetype": "text/x-python",
   "name": "python",
   "nbconvert_exporter": "python",
   "pygments_lexer": "ipython3",
   "version": "3.8.5"
  }
 },
 "nbformat": 4,
 "nbformat_minor": 4
}
