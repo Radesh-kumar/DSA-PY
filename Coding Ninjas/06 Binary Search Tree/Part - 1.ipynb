{
 "cells": [
  {
   "cell_type": "markdown",
   "metadata": {},
   "source": [
    "### Creating a Tree"
   ]
  },
  {
   "cell_type": "code",
   "execution_count": 10,
   "metadata": {},
   "outputs": [],
   "source": [
    "class BinarySearchNode:\n",
    "    def __init__(self, data):\n",
    "        self.data = data\n",
    "        self.left = None\n",
    "        self.right = None\n",
    "        "
   ]
  },
  {
   "cell_type": "markdown",
   "metadata": {},
   "source": [
    "### Level wise input"
   ]
  },
  {
   "cell_type": "code",
   "execution_count": 11,
   "metadata": {},
   "outputs": [],
   "source": [
    "import queue\n",
    "def levelwiseInput():\n",
    "    q = queue.Queue()\n",
    "    print('Enter root')\n",
    "    rootData = int(input())\n",
    "    if rootData < 0:\n",
    "        pass\n",
    "    root = BinarySearchNode(rootData)\n",
    "    q.put(root)\n",
    "    while(not(q.empty())):\n",
    "        current_node = q.get()\n",
    "          \n",
    "        print(\"Enter Left child\")\n",
    "        leftChildData = int(input())\n",
    "        leftChildNode = BinarySearchNode(leftChildData)\n",
    "        if leftChildData < 0:\n",
    "            current_node.left = None\n",
    "        else:\n",
    "            current_node.left = leftChildNode\n",
    "            q.put(leftChildNode)\n",
    "          \n",
    "        print(\"Enter Right child\")\n",
    "        rightChildData = int(input())\n",
    "        rightChildNode = BinarySearchNode(rightChildData)\n",
    "        if rightChildData < 0:\n",
    "            current_node.right = None\n",
    "        else:\n",
    "            current_node.right = rightChildNode\n",
    "            q.put(rightChildNode)\n",
    "    return root"
   ]
  },
  {
   "cell_type": "markdown",
   "metadata": {},
   "source": [
    "### Printing a tree in detail"
   ]
  },
  {
   "cell_type": "code",
   "execution_count": 12,
   "metadata": {},
   "outputs": [],
   "source": [
    "def printTreeDetailed(parent, child):\n",
    "    if(child == None):\n",
    "        return\n",
    "    if(child.left == None and child.right == None):\n",
    "        print(child.data)\n",
    "    elif(child.right == None):\n",
    "        print(child.data,': ', child.left.data)\n",
    "    elif(child.left == None):\n",
    "        print(child.data,': ', child.right.data)\n",
    "    else:\n",
    "        print(child.data,': ', child.left.data, child.right.data)\n",
    "    printTreeDetailed(child, child.left)\n",
    "    printTreeDetailed(child, child.right)"
   ]
  },
  {
   "cell_type": "markdown",
   "metadata": {},
   "source": [
    "### Checking if x is in BST"
   ]
  },
  {
   "cell_type": "code",
   "execution_count": 61,
   "metadata": {},
   "outputs": [],
   "source": [
    "def search(x, root):\n",
    "    if(root == None):\n",
    "        return False\n",
    "\n",
    "    if(root.data == x):\n",
    "        return True\n",
    "    elif(root.data < x):\n",
    "        return search(x, root.right)\n",
    "\n",
    "    else:\n",
    "        return search(x, root.left)"
   ]
  },
  {
   "cell_type": "code",
   "execution_count": 41,
   "metadata": {},
   "outputs": [
    {
     "name": "stdout",
     "output_type": "stream",
     "text": [
      "Enter root\n"
     ]
    },
    {
     "ename": "KeyboardInterrupt",
     "evalue": "Interrupted by user",
     "output_type": "error",
     "traceback": [
      "\u001b[1;31m---------------------------------------------------------------------------\u001b[0m",
      "\u001b[1;31mKeyboardInterrupt\u001b[0m                         Traceback (most recent call last)",
      "\u001b[1;32m<ipython-input-41-71d41bca1a3e>\u001b[0m in \u001b[0;36m<module>\u001b[1;34m\u001b[0m\n\u001b[1;32m----> 1\u001b[1;33m \u001b[0mroot\u001b[0m \u001b[1;33m=\u001b[0m \u001b[0mlevelwiseInput\u001b[0m\u001b[1;33m(\u001b[0m\u001b[1;33m)\u001b[0m\u001b[1;33m\u001b[0m\u001b[1;33m\u001b[0m\u001b[0m\n\u001b[0m",
      "\u001b[1;32m<ipython-input-11-0b2e6c16e076>\u001b[0m in \u001b[0;36mlevelwiseInput\u001b[1;34m()\u001b[0m\n\u001b[0;32m      3\u001b[0m     \u001b[0mq\u001b[0m \u001b[1;33m=\u001b[0m \u001b[0mqueue\u001b[0m\u001b[1;33m.\u001b[0m\u001b[0mQueue\u001b[0m\u001b[1;33m(\u001b[0m\u001b[1;33m)\u001b[0m\u001b[1;33m\u001b[0m\u001b[1;33m\u001b[0m\u001b[0m\n\u001b[0;32m      4\u001b[0m     \u001b[0mprint\u001b[0m\u001b[1;33m(\u001b[0m\u001b[1;34m'Enter root'\u001b[0m\u001b[1;33m)\u001b[0m\u001b[1;33m\u001b[0m\u001b[1;33m\u001b[0m\u001b[0m\n\u001b[1;32m----> 5\u001b[1;33m     \u001b[0mrootData\u001b[0m \u001b[1;33m=\u001b[0m \u001b[0mint\u001b[0m\u001b[1;33m(\u001b[0m\u001b[0minput\u001b[0m\u001b[1;33m(\u001b[0m\u001b[1;33m)\u001b[0m\u001b[1;33m)\u001b[0m\u001b[1;33m\u001b[0m\u001b[1;33m\u001b[0m\u001b[0m\n\u001b[0m\u001b[0;32m      6\u001b[0m     \u001b[1;32mif\u001b[0m \u001b[0mrootData\u001b[0m \u001b[1;33m<\u001b[0m \u001b[1;36m0\u001b[0m\u001b[1;33m:\u001b[0m\u001b[1;33m\u001b[0m\u001b[1;33m\u001b[0m\u001b[0m\n\u001b[0;32m      7\u001b[0m         \u001b[1;32mpass\u001b[0m\u001b[1;33m\u001b[0m\u001b[1;33m\u001b[0m\u001b[0m\n",
      "\u001b[1;32m~\\anaconda3\\lib\\site-packages\\ipykernel\\kernelbase.py\u001b[0m in \u001b[0;36mraw_input\u001b[1;34m(self, prompt)\u001b[0m\n\u001b[0;32m    858\u001b[0m                 \u001b[1;34m\"raw_input was called, but this frontend does not support input requests.\"\u001b[0m\u001b[1;33m\u001b[0m\u001b[1;33m\u001b[0m\u001b[0m\n\u001b[0;32m    859\u001b[0m             )\n\u001b[1;32m--> 860\u001b[1;33m         return self._input_request(str(prompt),\n\u001b[0m\u001b[0;32m    861\u001b[0m             \u001b[0mself\u001b[0m\u001b[1;33m.\u001b[0m\u001b[0m_parent_ident\u001b[0m\u001b[1;33m,\u001b[0m\u001b[1;33m\u001b[0m\u001b[1;33m\u001b[0m\u001b[0m\n\u001b[0;32m    862\u001b[0m             \u001b[0mself\u001b[0m\u001b[1;33m.\u001b[0m\u001b[0m_parent_header\u001b[0m\u001b[1;33m,\u001b[0m\u001b[1;33m\u001b[0m\u001b[1;33m\u001b[0m\u001b[0m\n",
      "\u001b[1;32m~\\anaconda3\\lib\\site-packages\\ipykernel\\kernelbase.py\u001b[0m in \u001b[0;36m_input_request\u001b[1;34m(self, prompt, ident, parent, password)\u001b[0m\n\u001b[0;32m    902\u001b[0m             \u001b[1;32mexcept\u001b[0m \u001b[0mKeyboardInterrupt\u001b[0m\u001b[1;33m:\u001b[0m\u001b[1;33m\u001b[0m\u001b[1;33m\u001b[0m\u001b[0m\n\u001b[0;32m    903\u001b[0m                 \u001b[1;31m# re-raise KeyboardInterrupt, to truncate traceback\u001b[0m\u001b[1;33m\u001b[0m\u001b[1;33m\u001b[0m\u001b[1;33m\u001b[0m\u001b[0m\n\u001b[1;32m--> 904\u001b[1;33m                 \u001b[1;32mraise\u001b[0m \u001b[0mKeyboardInterrupt\u001b[0m\u001b[1;33m(\u001b[0m\u001b[1;34m\"Interrupted by user\"\u001b[0m\u001b[1;33m)\u001b[0m \u001b[1;32mfrom\u001b[0m \u001b[1;32mNone\u001b[0m\u001b[1;33m\u001b[0m\u001b[1;33m\u001b[0m\u001b[0m\n\u001b[0m\u001b[0;32m    905\u001b[0m             \u001b[1;32mexcept\u001b[0m \u001b[0mException\u001b[0m \u001b[1;32mas\u001b[0m \u001b[0me\u001b[0m\u001b[1;33m:\u001b[0m\u001b[1;33m\u001b[0m\u001b[1;33m\u001b[0m\u001b[0m\n\u001b[0;32m    906\u001b[0m                 \u001b[0mself\u001b[0m\u001b[1;33m.\u001b[0m\u001b[0mlog\u001b[0m\u001b[1;33m.\u001b[0m\u001b[0mwarning\u001b[0m\u001b[1;33m(\u001b[0m\u001b[1;34m\"Invalid Message:\"\u001b[0m\u001b[1;33m,\u001b[0m \u001b[0mexc_info\u001b[0m\u001b[1;33m=\u001b[0m\u001b[1;32mTrue\u001b[0m\u001b[1;33m)\u001b[0m\u001b[1;33m\u001b[0m\u001b[1;33m\u001b[0m\u001b[0m\n",
      "\u001b[1;31mKeyboardInterrupt\u001b[0m: Interrupted by user"
     ]
    }
   ],
   "source": [
    "root = levelwiseInput()"
   ]
  },
  {
   "cell_type": "code",
   "execution_count": 62,
   "metadata": {
    "scrolled": true
   },
   "outputs": [
    {
     "name": "stdout",
     "output_type": "stream",
     "text": [
      "10 :  8 12\n",
      "8 :  7 9\n",
      "7\n",
      "9\n",
      "12 :  11 13\n",
      "11\n",
      "13\n"
     ]
    }
   ],
   "source": [
    "printTreeDetailed(None, root)"
   ]
  },
  {
   "cell_type": "code",
   "execution_count": 63,
   "metadata": {},
   "outputs": [
    {
     "data": {
      "text/plain": [
       "True"
      ]
     },
     "execution_count": 63,
     "metadata": {},
     "output_type": "execute_result"
    }
   ],
   "source": [
    "x = 8\n",
    "search(x, root)"
   ]
  },
  {
   "cell_type": "markdown",
   "metadata": {},
   "source": [
    "### Print Between K1 and K2"
   ]
  },
  {
   "cell_type": "code",
   "execution_count": 70,
   "metadata": {},
   "outputs": [],
   "source": [
    "def printBetweenK1andK2(root, k1, k2):\n",
    "    if root == None:\n",
    "        return None\n",
    "    if(root.data < k1):\n",
    "        # No Need to traverse left side\n",
    "        printBetweenK1andK2(root.right, k1, k2)\n",
    "    elif(root.data > k2):\n",
    "        # No Need to traverse right side\n",
    "        printBetweenK1andK2(root.left, k1, k2)\n",
    "    else:\n",
    "        # We should traverse both sides\n",
    "        print(root.data)\n",
    "        printBetweenK1andK2(root.right, k1, k2)\n",
    "        printBetweenK1andK2(root.left, k1, k2)"
   ]
  },
  {
   "cell_type": "code",
   "execution_count": 80,
   "metadata": {},
   "outputs": [
    {
     "name": "stdout",
     "output_type": "stream",
     "text": [
      "10\n",
      "12\n",
      "13\n",
      "11\n",
      "8\n",
      "9\n",
      "7\n"
     ]
    }
   ],
   "source": [
    "printBetweenK1andK2(root, 7, 13)"
   ]
  },
  {
   "cell_type": "markdown",
   "metadata": {},
   "source": [
    "### Array To BST"
   ]
  },
  {
   "cell_type": "code",
   "execution_count": 94,
   "metadata": {},
   "outputs": [],
   "source": [
    "### Note: Array need to be sorted to produce BST\n",
    "### Or else it would be only a binary tree\n",
    "def arrayToBST(arr):\n",
    "    length = len(arr)\n",
    "    # Base case\n",
    "    if(length == 0):\n",
    "        return None\n",
    "    mid = length // 2\n",
    "    \n",
    "    # Selecting middle Element as root node\n",
    "    rootNode = BinarySearchNode(arr[mid])\n",
    "    \n",
    "    # Using recursion to fill the left sub tree\n",
    "    rootNode.left = arrayToBST(arr[: mid])\n",
    "    \n",
    "    # Using recursion to fill the right sub tree\n",
    "    rootNode.right = arrayToBST(arr[mid + 1:])\n",
    "    \n",
    "    return rootNode\n",
    "    \n",
    "    \n",
    "    \n",
    "    "
   ]
  },
  {
   "cell_type": "code",
   "execution_count": 130,
   "metadata": {},
   "outputs": [
    {
     "name": "stdout",
     "output_type": "stream",
     "text": [
      "4 :  2 6\n",
      "2 :  1 3\n",
      "1\n",
      "3\n",
      "6 :  5 7\n",
      "5\n",
      "7\n"
     ]
    }
   ],
   "source": [
    "root = arrayToBST([1,2,3,4,5,6,7])\n",
    "printTreeDetailed(None, root)"
   ]
  },
  {
   "cell_type": "markdown",
   "metadata": {},
   "source": [
    "### Check whether the binary tree is BST\n"
   ]
  },
  {
   "cell_type": "code",
   "execution_count": 131,
   "metadata": {},
   "outputs": [],
   "source": [
    "\n",
    "\n",
    "def minTree(root):\n",
    "    if root == None:\n",
    "        return float('inf')\n",
    "    leftMin = minTree(root.left)\n",
    "    rightMin = minTree(root.right)\n",
    "    return min(leftMin, rightMin, root.data)\n",
    "\n",
    "def maxTree(root):\n",
    "    if root == None:\n",
    "        return float('-inf')\n",
    "    leftMax = maxTree(root.left)\n",
    "    rightMax = maxTree(root.right)\n",
    "    return max(leftMax, rightMax, root.data)\n",
    "\n",
    "def isBst(root):\n",
    "    if root == None:\n",
    "        return True\n",
    "    # We should check if max of left sub tree is less than root.data\n",
    "    left_max = maxTree(root.left)\n",
    "    # We should check if min of right sub tree is greater than root.data\n",
    "    right_min = minTree(root.right)\n",
    "    \n",
    "    if(left_max > root.data or right_min < root.data):\n",
    "        return False\n",
    "    \n",
    "    isLeftBst = isBst(root.left)\n",
    "    isrightBst = isBst(root.right)\n",
    "    return isLeftBst and isrightBst\n",
    "        \n",
    "    \n",
    "    "
   ]
  },
  {
   "cell_type": "code",
   "execution_count": 132,
   "metadata": {},
   "outputs": [
    {
     "data": {
      "text/plain": [
       "True"
      ]
     },
     "execution_count": 132,
     "metadata": {},
     "output_type": "execute_result"
    }
   ],
   "source": [
    "isBst(root)"
   ]
  },
  {
   "cell_type": "code",
   "execution_count": null,
   "metadata": {},
   "outputs": [],
   "source": [
    "def isBst2(root):\n",
    "    if root == None:\n",
    "        return float('inf'), float('-inf'), True\n",
    "    # We should check if max of left sub tree is less than root.data\n",
    "    left_min, left_max, isLeftBst = isBst2(root.left)\n",
    "    # We should check if min of right sub tree is greater than root.data\n",
    "    right_min, right_max, isrightBst = isBst2(root.right)\n",
    "    \n",
    "    if(left_max > root.data or right_min < root.data):\n",
    "        return False\n",
    "    \n",
    "    isLeftBst = isBst(root.left)\n",
    "    isrightBst = isBst(root.right)\n",
    "    return isLeftBst and isrightBst"
   ]
  }
 ],
 "metadata": {
  "kernelspec": {
   "display_name": "Python 3",
   "language": "python",
   "name": "python3"
  },
  "language_info": {
   "codemirror_mode": {
    "name": "ipython",
    "version": 3
   },
   "file_extension": ".py",
   "mimetype": "text/x-python",
   "name": "python",
   "nbconvert_exporter": "python",
   "pygments_lexer": "ipython3",
   "version": "3.8.5"
  }
 },
 "nbformat": 4,
 "nbformat_minor": 4
}
