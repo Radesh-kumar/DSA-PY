{
 "cells": [
  {
   "cell_type": "code",
   "execution_count": 2,
   "metadata": {},
   "outputs": [],
   "source": [
    "# There are 3 Discs A,B,C\n",
    "# We need to move all discs from A to C\n",
    "# Using B as helper\n",
    "# There are only two conditions\n",
    "# We can move only 1 disc at a time\n",
    "# We can't place higher disc on the lower disc"
   ]
  },
  {
   "cell_type": "code",
   "execution_count": 12,
   "metadata": {},
   "outputs": [],
   "source": [
    "def hannoi(n, a, b, c):\n",
    "    if(n == 1):\n",
    "        print('Move Disc: 1 from ',a ,'to ',c)\n",
    "        return\n",
    "    hannoi(n-1, a, c, b)\n",
    "    print('Move Disc:',n, 'from ',a ,'to ',c)\n",
    "    hannoi(n-1, b, a, c)\n",
    "    \n",
    "    "
   ]
  },
  {
   "cell_type": "code",
   "execution_count": 22,
   "metadata": {},
   "outputs": [
    {
     "name": "stdout",
     "output_type": "stream",
     "text": [
      "Move Disc: 1 from  A to  C\n",
      "Move Disc: 2 from  A to  B\n",
      "Move Disc: 1 from  C to  B\n",
      "Move Disc: 3 from  A to  C\n",
      "Move Disc: 1 from  B to  A\n",
      "Move Disc: 2 from  B to  C\n",
      "Move Disc: 1 from  A to  C\n"
     ]
    }
   ],
   "source": [
    "hannoi(3, 'A','B','C')"
   ]
  },
  {
   "cell_type": "code",
   "execution_count": null,
   "metadata": {},
   "outputs": [],
   "source": []
  }
 ],
 "metadata": {
  "kernelspec": {
   "display_name": "Python 3",
   "language": "python",
   "name": "python3"
  },
  "language_info": {
   "codemirror_mode": {
    "name": "ipython",
    "version": 3
   },
   "file_extension": ".py",
   "mimetype": "text/x-python",
   "name": "python",
   "nbconvert_exporter": "python",
   "pygments_lexer": "ipython3",
   "version": "3.8.5"
  }
 },
 "nbformat": 4,
 "nbformat_minor": 4
}
