{
 "cells": [
  {
   "cell_type": "code",
   "execution_count": 1,
   "metadata": {},
   "outputs": [],
   "source": [
    "# Recursion"
   ]
  },
  {
   "cell_type": "code",
   "execution_count": 4,
   "metadata": {},
   "outputs": [],
   "source": [
    "def knapsack(W,wt,val,n,i):\n",
    "    if(i == n):\n",
    "        return 0\n",
    "    if(wt[i] > W):\n",
    "        ans = knapsack(W,wt,val,n,i+1)\n",
    "    else:\n",
    "        # ith index included\n",
    "        ans1 = val[i] + knapsack(W - wt[i],wt,val,n,i+1)\n",
    "        # ith index not included\n",
    "        ans2 = knapsack(W,wt,val,n,i+1)\n",
    "        \n",
    "        ans = max(ans1,ans2)\n",
    "    return ans"
   ]
  },
  {
   "cell_type": "code",
   "execution_count": 5,
   "metadata": {},
   "outputs": [
    {
     "name": "stdout",
     "output_type": "stream",
     "text": [
      "500\n"
     ]
    }
   ],
   "source": [
    "val = [200,300,100]\n",
    "wt = [20,25,30]\n",
    "W = 50\n",
    "n = len(val)\n",
    "print(knapsack(W,wt,val,n,0))"
   ]
  },
  {
   "cell_type": "code",
   "execution_count": 7,
   "metadata": {},
   "outputs": [],
   "source": [
    "# Dynamic Programming"
   ]
  },
  {
   "cell_type": "code",
   "execution_count": 27,
   "metadata": {},
   "outputs": [],
   "source": [
    "def knapsack(W,wt,val,n):\n",
    "    dp = [[0 for j in range(W + 1)] for i in range(n + 1)]\n",
    "    \n",
    "    for i in range(1,n + 1):\n",
    "        for j in range(1, W + 1):\n",
    "            if j < wt[i - 1]:\n",
    "                dp[i][j] = dp[i-1][j]\n",
    "            else:\n",
    "                ans1 = val[i-1] + dp[i-1][j- wt[i-1]]\n",
    "                ans2 = dp[i-1][j]\n",
    "                dp[i][j] = max(ans1,ans2)\n",
    "    return dp[n][W]\n",
    "    "
   ]
  },
  {
   "cell_type": "code",
   "execution_count": 28,
   "metadata": {},
   "outputs": [
    {
     "name": "stdout",
     "output_type": "stream",
     "text": [
      "500\n"
     ]
    }
   ],
   "source": [
    "val = [200,300,100]\n",
    "wt = [20,25,30]\n",
    "W = 50\n",
    "n = len(val)\n",
    "print(knapsack(W,wt,val,n))"
   ]
  },
  {
   "cell_type": "code",
   "execution_count": null,
   "metadata": {},
   "outputs": [],
   "source": []
  },
  {
   "cell_type": "code",
   "execution_count": null,
   "metadata": {},
   "outputs": [],
   "source": []
  }
 ],
 "metadata": {
  "kernelspec": {
   "display_name": "Python 3",
   "language": "python",
   "name": "python3"
  },
  "language_info": {
   "codemirror_mode": {
    "name": "ipython",
    "version": 3
   },
   "file_extension": ".py",
   "mimetype": "text/x-python",
   "name": "python",
   "nbconvert_exporter": "python",
   "pygments_lexer": "ipython3",
   "version": "3.8.5"
  }
 },
 "nbformat": 4,
 "nbformat_minor": 4
}
