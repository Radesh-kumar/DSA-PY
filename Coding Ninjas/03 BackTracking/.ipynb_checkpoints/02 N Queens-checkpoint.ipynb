{
 "cells": [
  {
   "cell_type": "code",
   "execution_count": 16,
   "metadata": {},
   "outputs": [],
   "source": [
    "def isSafe(board, row, col, n):\n",
    "    # Checking left diagonal\n",
    "    i = row - 1\n",
    "    j = col - 1\n",
    "    while(i >= 0 and j >= 0 ):\n",
    "        if(board[i][j] == 'Q'):\n",
    "            return False\n",
    "        i -= 1\n",
    "        j -= 1\n",
    "        \n",
    "    # Checking right diagonal\n",
    "    i = row - 1\n",
    "    j = col + 1\n",
    "    while(i >= 0 and j < n ):\n",
    "        if(board[i][j] == 'Q'):\n",
    "            return False\n",
    "        i -= 1\n",
    "        j += 1 \n",
    "    \n",
    "    # Checking Vertically Upward\n",
    "    i = row - 1\n",
    "    j = col\n",
    "    while(i >= 0):\n",
    "        if(board[i][j] == 'Q'):\n",
    "            return False\n",
    "        i -= 1\n",
    "    return True\n",
    "def nQueens(n):\n",
    "    board = [['.' for j in range(n)] for i in range(n)]\n",
    "    \n",
    "    for i in range(len(n)):\n",
    "        for j in range(len(n)):\n",
    "            if(isSafe(board, i, j, n)):\n",
    "                board[i][j] = 'Q'\n",
    "            "
   ]
  },
  {
   "cell_type": "code",
   "execution_count": 19,
   "metadata": {},
   "outputs": [
    {
     "data": {
      "text/plain": [
       "True"
      ]
     },
     "execution_count": 19,
     "metadata": {},
     "output_type": "execute_result"
    }
   ],
   "source": [
    "# n = int(input())\n",
    "# board = [[elem for elem in input().split()] for i in range(n)]\n",
    "board = [['.','.','.','Q'], ['.','.','.','.'], ['.','.','.','.'], ['.','.','.','.']]\n",
    "isSafe(board, 1, 1, n)"
   ]
  },
  {
   "cell_type": "code",
   "execution_count": null,
   "metadata": {},
   "outputs": [],
   "source": []
  }
 ],
 "metadata": {
  "kernelspec": {
   "display_name": "Python 3",
   "language": "python",
   "name": "python3"
  },
  "language_info": {
   "codemirror_mode": {
    "name": "ipython",
    "version": 3
   },
   "file_extension": ".py",
   "mimetype": "text/x-python",
   "name": "python",
   "nbconvert_exporter": "python",
   "pygments_lexer": "ipython3",
   "version": "3.8.5"
  }
 },
 "nbformat": 4,
 "nbformat_minor": 4
}
