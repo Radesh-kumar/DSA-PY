{
 "cells": [
  {
   "cell_type": "code",
   "execution_count": 46,
   "metadata": {},
   "outputs": [],
   "source": [
    "def isSafe(board, row, col, n):\n",
    "    # Checking left diagonal\n",
    "    i = row - 1\n",
    "    j = col - 1\n",
    "    while(i >= 0 and j >= 0 ):\n",
    "        if(board[i][j] == 'Q'):\n",
    "            return False\n",
    "        i -= 1\n",
    "        j -= 1\n",
    "        \n",
    "    # Checking right diagonal\n",
    "    i = row - 1\n",
    "    j = col + 1\n",
    "    while(i >= 0 and j < n ):\n",
    "        if(board[i][j] == 'Q'):\n",
    "            return False\n",
    "        i -= 1\n",
    "        j += 1 \n",
    "    \n",
    "    # Checking Vertically Upward\n",
    "    i = row - 1\n",
    "    j = col\n",
    "    while(i >= 0):\n",
    "        if(board[i][j] == 'Q'):\n",
    "            return False\n",
    "        i -= 1\n",
    "    return True\n",
    "def solve(board, row, n):\n",
    "    if (row == n):\n",
    "        for row in board:\n",
    "            print(row)\n",
    "        print()\n",
    "        return\n",
    "    for j in range(n):\n",
    "        if(isSafe(board, row, j, n) == True):\n",
    "            board[row][j] = 'Q' \n",
    "            solve(board, row + 1, n)\n",
    "            board[row][j] = '.'\n",
    "    return\n",
    "        \n",
    "def nQueens(n):\n",
    "    board = [['.' for j in range(n)] for i in range(n)]\n",
    "    solve(board, 0, n)\n",
    "\n",
    "            "
   ]
  },
  {
   "cell_type": "code",
   "execution_count": 47,
   "metadata": {},
   "outputs": [
    {
     "name": "stdout",
     "output_type": "stream",
     "text": [
      "['.', 'Q', '.', '.']\n",
      "['.', '.', '.', 'Q']\n",
      "['Q', '.', '.', '.']\n",
      "['.', '.', 'Q', '.']\n",
      "\n",
      "['.', '.', 'Q', '.']\n",
      "['Q', '.', '.', '.']\n",
      "['.', '.', '.', 'Q']\n",
      "['.', 'Q', '.', '.']\n",
      "\n"
     ]
    }
   ],
   "source": [
    "# n = int(input())\n",
    "# board = [[elem for elem in input().split()] for i in range(n)]\n",
    "# board = [['.','.','.','Q'], ['.','.','.','.'], ['.','.','.','.'], ['.','.','.','.']]\n",
    "# isSafe(board, 1, 1, n)\n",
    "nQueens(4)"
   ]
  },
  {
   "cell_type": "code",
   "execution_count": null,
   "metadata": {},
   "outputs": [],
   "source": []
  }
 ],
 "metadata": {
  "kernelspec": {
   "display_name": "Python 3",
   "language": "python",
   "name": "python3"
  },
  "language_info": {
   "codemirror_mode": {
    "name": "ipython",
    "version": 3
   },
   "file_extension": ".py",
   "mimetype": "text/x-python",
   "name": "python",
   "nbconvert_exporter": "python",
   "pygments_lexer": "ipython3",
   "version": "3.8.5"
  }
 },
 "nbformat": 4,
 "nbformat_minor": 4
}
