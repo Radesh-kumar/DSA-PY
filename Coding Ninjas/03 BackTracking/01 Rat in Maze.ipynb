{
 "cells": [
  {
   "cell_type": "markdown",
   "metadata": {},
   "source": [
    "[Youtube](https://www.youtube.com/watch?v=bLGZhJlt4y0)"
   ]
  },
  {
   "cell_type": "code",
   "execution_count": 42,
   "metadata": {},
   "outputs": [],
   "source": [
    "def traverse(maze, visited, res, ans, i, j, n):\n",
    "    if (i == n-1 and j == n-1):\n",
    "        ans.append(res)\n",
    "        return \n",
    "    # Traverse Down:\n",
    "    if(i+1 < n and visited[i+1][j] == 0 and maze[i+1][j] == 1):\n",
    "        visited[i][j] = 1\n",
    "        traverse(maze, visited, res + 'D', ans, i+1, j, n)\n",
    "        visited[i][j] = 0\n",
    "        \n",
    "    # Traverse Left:\n",
    "    if(j-1 >= 0 and visited[i][j-1] == 0 and maze[i][j-1] == 1):\n",
    "        visited[i][j] = 1\n",
    "        traverse(maze, visited, res + 'L', ans, i, j-1, n)\n",
    "        visited[i][j] = 0\n",
    "        \n",
    "    # Traverse Right:\n",
    "    if(j+1 < n and visited[i][j+1] == 0 and maze[i][j+1] == 1):\n",
    "        visited[i][j] = 1\n",
    "        traverse(maze, visited, res + 'R', ans, i, j+1, n)\n",
    "        visited[i][j] = 0\n",
    "        \n",
    "    # Traverse Up:\n",
    "    if(i-1 < n and visited[i-1][j] == 0 and maze[i-1][j] == 1):\n",
    "        visited[i][j] = 1\n",
    "        traverse(maze, visited, res + 'U', ans, i-1, j, n)\n",
    "        visited[i][j] = 0\n",
    "    return ans\n",
    "    \n",
    "    "
   ]
  },
  {
   "cell_type": "code",
   "execution_count": 43,
   "metadata": {},
   "outputs": [],
   "source": [
    "def ratInMaze(maze, n):\n",
    "    ans = []\n",
    "    if(maze[0][0] == 0):\n",
    "        return ans\n",
    "    visited = [[0 for j in range(len(maze[0]))]for j in range(len(maze))]\n",
    "    ans = traverse(maze, visited, '', ans, 0, 0, n)\n",
    "    return ans"
   ]
  },
  {
   "cell_type": "code",
   "execution_count": 44,
   "metadata": {},
   "outputs": [
    {
     "data": {
      "text/plain": [
       "['DDDRRR', 'DDRDRR']"
      ]
     },
     "execution_count": 44,
     "metadata": {},
     "output_type": "execute_result"
    }
   ],
   "source": [
    "maze = [[1, 0, 0, 0],\n",
    "        [1, 0, 0, 1],\n",
    "        [1, 1, 0, 0],\n",
    "        [1, 1, 1, 1]]\n",
    "ratInMaze(maze, len(maze))"
   ]
  },
  {
   "cell_type": "code",
   "execution_count": null,
   "metadata": {},
   "outputs": [],
   "source": []
  }
 ],
 "metadata": {
  "kernelspec": {
   "display_name": "Python 3",
   "language": "python",
   "name": "python3"
  },
  "language_info": {
   "codemirror_mode": {
    "name": "ipython",
    "version": 3
   },
   "file_extension": ".py",
   "mimetype": "text/x-python",
   "name": "python",
   "nbconvert_exporter": "python",
   "pygments_lexer": "ipython3",
   "version": "3.8.5"
  }
 },
 "nbformat": 4,
 "nbformat_minor": 4
}
