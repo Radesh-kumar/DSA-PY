{
 "cells": [
  {
   "cell_type": "code",
   "execution_count": 49,
   "metadata": {},
   "outputs": [],
   "source": [
    "### More Functionality in the Coding ninjas Folder"
   ]
  },
  {
   "cell_type": "code",
   "execution_count": 102,
   "metadata": {},
   "outputs": [],
   "source": [
    "class Node:\n",
    "    def __init__(self, data):\n",
    "        self.data = data\n",
    "        self.prev = None\n",
    "        \n",
    "class LinkedList1:\n",
    "    def __init__(self):\n",
    "        self.head = None\n",
    "    def push(self,data):\n",
    "        newNode = Node(data)\n",
    "        newNode.prev = self.head\n",
    "        self.head = newNode\n",
    "    def printAll(self):\n",
    "        curr = self.head\n",
    "        while(curr):\n",
    "            print(curr.data)\n",
    "            curr = curr.prev"
   ]
  },
  {
   "cell_type": "code",
   "execution_count": 168,
   "metadata": {},
   "outputs": [],
   "source": [
    "class Node:\n",
    "    def __init__(self, data):\n",
    "        self.data = data\n",
    "        self.next = None\n",
    "        \n",
    "class LinkedList2:\n",
    "    def __init__(self):\n",
    "        self.head = None\n",
    "        self.curr = None\n",
    "        \n",
    "    def push(self,data):\n",
    "        newNode = Node(data)\n",
    "        if(self.head == None):\n",
    "            self.head = newNode\n",
    "        if(self.curr != None):\n",
    "            self.curr.next = newNode\n",
    "        self.curr = newNode\n",
    "            \n",
    "    def printAll(self):\n",
    "        curr = self.head\n",
    "        while(curr):\n",
    "            print(curr.data)\n",
    "            curr = curr.next\n",
    "\n",
    "    def reverseIterative(self):\n",
    "        curr = self.head\n",
    "        prev = None\n",
    "        while(curr):\n",
    "            next = curr.next\n",
    "            curr.next = prev\n",
    "            prev = curr\n",
    "            curr = next\n",
    "        # Always reset the head after making changes to LL\n",
    "        self.head = prev\n",
    "        \n",
    "    def reverseRecursion(self, curr = 'default', prev = None):\n",
    "        if(curr == 'default'):\n",
    "            curr = self.head\n",
    "        if(curr == None):\n",
    "            return\n",
    "        \n",
    "        next = curr.next\n",
    "        curr.next = prev\n",
    "        prev = curr\n",
    "        curr = next\n",
    "        # Always reset the head after making changes to LL\n",
    "        self.head = prev\n",
    "        \n",
    "        self.reverseRecursion(curr,prev)"
   ]
  },
  {
   "cell_type": "code",
   "execution_count": 169,
   "metadata": {},
   "outputs": [],
   "source": [
    "ll2 = LinkedList2()"
   ]
  },
  {
   "cell_type": "code",
   "execution_count": 170,
   "metadata": {},
   "outputs": [],
   "source": [
    "ll2.push(1)\n",
    "ll2.push(2)\n",
    "ll2.push(3)"
   ]
  },
  {
   "cell_type": "code",
   "execution_count": 174,
   "metadata": {},
   "outputs": [
    {
     "name": "stdout",
     "output_type": "stream",
     "text": [
      "3\n",
      "2\n",
      "1\n"
     ]
    }
   ],
   "source": [
    "ll2.printAll()"
   ]
  },
  {
   "cell_type": "code",
   "execution_count": 173,
   "metadata": {},
   "outputs": [],
   "source": [
    "ll2.reverseRecursion()"
   ]
  },
  {
   "cell_type": "code",
   "execution_count": null,
   "metadata": {},
   "outputs": [],
   "source": []
  }
 ],
 "metadata": {
  "kernelspec": {
   "display_name": "Python 3",
   "language": "python",
   "name": "python3"
  },
  "language_info": {
   "codemirror_mode": {
    "name": "ipython",
    "version": 3
   },
   "file_extension": ".py",
   "mimetype": "text/x-python",
   "name": "python",
   "nbconvert_exporter": "python",
   "pygments_lexer": "ipython3",
   "version": "3.8.5"
  }
 },
 "nbformat": 4,
 "nbformat_minor": 4
}
