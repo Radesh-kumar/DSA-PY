{
 "cells": [
  {
   "cell_type": "code",
   "execution_count": 71,
   "metadata": {},
   "outputs": [],
   "source": [
    "class Node:\n",
    "    def __init__(self, data):\n",
    "        self.data = data\n",
    "        self.next = None\n",
    "        \n",
    "class LinkedList:\n",
    "    def __init__(self):\n",
    "        self.head = None\n",
    "        self.curr = None\n",
    "        \n",
    "    def push(self,data):\n",
    "        newNode = Node(data)\n",
    "        if(self.head == None):\n",
    "            self.head = newNode\n",
    "        if(self.curr != None):\n",
    "            self.curr.next = newNode\n",
    "        self.curr = newNode\n",
    "\n",
    "    def printAll(self):\n",
    "        curr = self.head\n",
    "        while(curr):\n",
    "            print(curr.data)\n",
    "            curr = curr.next\n",
    "    def length(self):\n",
    "        curr = self.head\n",
    "        count = 0\n",
    "        while(curr):\n",
    "            count += 1\n",
    "            curr = curr.next\n",
    "        return count\n"
   ]
  },
  {
   "cell_type": "code",
   "execution_count": 72,
   "metadata": {},
   "outputs": [],
   "source": [
    "def length(head):\n",
    "    curr = head\n",
    "    count = 0\n",
    "    while(curr != None):\n",
    "        count += 1\n",
    "        curr = curr.next\n",
    "    return count\n",
    "def reverse(head):\n",
    "    prev = None\n",
    "    curr = head\n",
    "    while(curr != None):\n",
    "        next = curr.next\n",
    "        curr.next = prev\n",
    "        prev = curr\n",
    "        curr = next\n",
    "    head = prev\n",
    "    return head\n",
    "\n",
    "def add(head1, head2):\n",
    "    # Reverse both Linked List\n",
    "    head1 = reverse(head1)\n",
    "    head2 = reverse(head2)\n",
    "    # We assume that head1 is always larger than head2\n",
    "    if(length(head1) < length(head2)):\n",
    "        head1, head2 = head2, head1\n",
    "        \n",
    "    # Adding 1 to the 1st element\n",
    "    curr1 = head1\n",
    "    prev1 = None\n",
    "    curr2 = head2\n",
    "    carry = 0\n",
    "    while(curr1 != None or curr2 != None):\n",
    "        if(curr1 == None):\n",
    "            newNode = Node(curr2.data)\n",
    "            prev1.next = newNode\n",
    "            continue\n",
    "        elif(curr2 == None):\n",
    "            curr1.data = curr1.data + carry\n",
    "        else:\n",
    "            curr1.data = curr1.data + curr2.data + carry\n",
    "\n",
    "        unitsPlace = curr1.data % 10\n",
    "        tenthsPlace = curr1.data // 10\n",
    "\n",
    "        curr1.data = unitsPlace\n",
    "        carry = tenthsPlace\n",
    "\n",
    "        prev1 = curr1\n",
    "        if(curr1 != None):\n",
    "            curr1 = curr1.next\n",
    "        if(curr2 != None):\n",
    "            curr2 = curr2.next\n",
    "    # Creating new Node if carry remains after the last element\n",
    "    if(carry != 0):\n",
    "        newNode = Node(carry)\n",
    "        prev1.next = newNode\n",
    "    # Reverse a Linked List\n",
    "    return reverse(head1)"
   ]
  },
  {
   "cell_type": "code",
   "execution_count": 73,
   "metadata": {},
   "outputs": [
    {
     "name": "stdout",
     "output_type": "stream",
     "text": [
      "3\n",
      "9\n",
      "0\n"
     ]
    }
   ],
   "source": [
    "ll1 = LinkedList()\n",
    "ll2 = LinkedList()\n",
    "\n",
    "ll1.push(3)\n",
    "ll1.push(4)\n",
    "ll1.push(5)\n",
    "\n",
    "\n",
    "ll2.push(4)\n",
    "ll2.push(5)\n",
    "\n",
    "ll1.head = add(ll1.head,ll2.head)\n",
    "ll1.printAll()"
   ]
  },
  {
   "cell_type": "code",
   "execution_count": null,
   "metadata": {},
   "outputs": [],
   "source": []
  },
  {
   "cell_type": "code",
   "execution_count": null,
   "metadata": {},
   "outputs": [],
   "source": []
  }
 ],
 "metadata": {
  "kernelspec": {
   "display_name": "Python 3",
   "language": "python",
   "name": "python3"
  },
  "language_info": {
   "codemirror_mode": {
    "name": "ipython",
    "version": 3
   },
   "file_extension": ".py",
   "mimetype": "text/x-python",
   "name": "python",
   "nbconvert_exporter": "python",
   "pygments_lexer": "ipython3",
   "version": "3.8.5"
  }
 },
 "nbformat": 4,
 "nbformat_minor": 4
}
