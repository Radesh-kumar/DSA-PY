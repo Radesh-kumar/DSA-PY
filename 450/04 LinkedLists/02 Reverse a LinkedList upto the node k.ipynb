{
 "cells": [
  {
   "cell_type": "code",
   "execution_count": 272,
   "metadata": {},
   "outputs": [],
   "source": [
    "class Node:\n",
    "    def __init__(self, data):\n",
    "        self.data = data\n",
    "        self.next = None\n",
    "        \n",
    "class LinkedList:\n",
    "    def __init__(self):\n",
    "        self.head = None\n",
    "        self.curr = None\n",
    "        \n",
    "    def push(self,data):\n",
    "        newNode = Node(data)\n",
    "        if(self.head == None):\n",
    "            self.head = newNode\n",
    "        if(self.curr != None):\n",
    "            self.curr.next = newNode\n",
    "        self.curr = newNode\n",
    "            \n",
    "    def printAll(self):\n",
    "        curr = self.head\n",
    "        while(curr):\n",
    "            print(curr.data)\n",
    "            curr = curr.next\n",
    "    def length(self):\n",
    "        curr = self.head\n",
    "        count = 0\n",
    "        while(curr):\n",
    "            count += 1\n",
    "            curr = curr.next\n",
    "        return count\n",
    "\n",
    "    def reverseIterative(self):\n",
    "        curr = self.head\n",
    "        prev = None\n",
    "        while(curr):\n",
    "            next = curr.next\n",
    "            curr.next = prev\n",
    "            prev = curr\n",
    "            curr = next\n",
    "        # Always reset the head after making changes to LL\n",
    "        self.head = prev\n",
    "        \n",
    "    def returnHead(self):\n",
    "        return self.head\n",
    "    \n",
    "    def updateHead(self, node):\n",
    "        self.head = node\n",
    "    \n",
    "    ### We should also reverse the remaining elements at the end\n",
    "    ### GFG version\n",
    "    def reverseRecursionK1(self, k, head):\n",
    "        prev = None\n",
    "        next = None\n",
    "        curr = head\n",
    "        count = 0\n",
    "        while(curr != None and count < k ):\n",
    "            next = curr.next\n",
    "            curr.next = prev\n",
    "            prev = curr\n",
    "            curr = next\n",
    "            count += 1\n",
    "        if(curr != None):\n",
    "            head.next = self.reverseRecursionK1(k, next)\n",
    "        self.head = prev\n",
    "        return prev\n",
    "    \n",
    "    ### We should also reverse the remaining elements at the end\n",
    "    ### GFG version\n",
    "    def reverseItterativeK1(self, k, head):\n",
    "        temp = None\n",
    "        prev = None\n",
    "        next = None\n",
    "        curr = head\n",
    "        count = 0\n",
    "        while(curr != None):\n",
    "            if(count == 0):\n",
    "                head = curr\n",
    "                \n",
    "            next = curr.next\n",
    "            curr.next = prev\n",
    "            prev = curr\n",
    "            curr = next\n",
    "            count += 1\n",
    "            \n",
    "            if(count == k-1  and curr !=  None):\n",
    "                count = 0\n",
    "                if(temp != None):\n",
    "                    temp.next = prev\n",
    "                temp = head\n",
    "    \n",
    "    ### We should not reverse the remaining elements at the end\n",
    "    ### Leet Code Version\n",
    "    def reverseRecursionK2(self, k, head):\n",
    "        prev = None\n",
    "        next = None\n",
    "        curr = head\n",
    "        count = 0\n",
    "        rem = self.length()\n",
    "        while(curr != None and count < k ):\n",
    "            next = curr.next\n",
    "            curr.next = prev\n",
    "            prev = curr\n",
    "            curr = next\n",
    "            count += 1\n",
    "            rem -= 1\n",
    "        if(curr != None and rem >= k):\n",
    "            head.next = self.reverseRecursionK2(k, next)\n",
    "        elif(curr!= None and rem < k):\n",
    "            head.next = next\n",
    "        self.head = prev\n",
    "        return prev\n",
    "        "
   ]
  },
  {
   "cell_type": "code",
   "execution_count": 273,
   "metadata": {},
   "outputs": [],
   "source": [
    "ll = LinkedList()"
   ]
  },
  {
   "cell_type": "code",
   "execution_count": 274,
   "metadata": {},
   "outputs": [],
   "source": [
    "ll.push(1)\n",
    "ll.push(2)\n",
    "ll.push(3)\n",
    "ll.push(4)\n",
    "ll.push(5)"
   ]
  },
  {
   "cell_type": "code",
   "execution_count": 275,
   "metadata": {},
   "outputs": [
    {
     "name": "stdout",
     "output_type": "stream",
     "text": [
      "1\n",
      "2\n",
      "3\n",
      "4\n",
      "5\n"
     ]
    }
   ],
   "source": [
    "ll.printAll()"
   ]
  },
  {
   "cell_type": "code",
   "execution_count": 276,
   "metadata": {},
   "outputs": [],
   "source": [
    "ll.reverseItterativeK1(2, ll.returnHead())"
   ]
  },
  {
   "cell_type": "code",
   "execution_count": 277,
   "metadata": {},
   "outputs": [
    {
     "name": "stdout",
     "output_type": "stream",
     "text": [
      "1\n"
     ]
    }
   ],
   "source": [
    "ll.printAll()"
   ]
  },
  {
   "cell_type": "code",
   "execution_count": null,
   "metadata": {},
   "outputs": [],
   "source": []
  }
 ],
 "metadata": {
  "kernelspec": {
   "display_name": "Python 3",
   "language": "python",
   "name": "python3"
  },
  "language_info": {
   "codemirror_mode": {
    "name": "ipython",
    "version": 3
   },
   "file_extension": ".py",
   "mimetype": "text/x-python",
   "name": "python",
   "nbconvert_exporter": "python",
   "pygments_lexer": "ipython3",
   "version": "3.8.5"
  }
 },
 "nbformat": 4,
 "nbformat_minor": 4
}
