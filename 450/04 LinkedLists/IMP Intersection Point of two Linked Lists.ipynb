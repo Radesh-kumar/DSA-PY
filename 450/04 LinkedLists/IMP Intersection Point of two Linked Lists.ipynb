{
 "cells": [
  {
   "cell_type": "markdown",
   "metadata": {},
   "source": [
    "[Youtube](https://www.youtube.com/watch?v=u4FWXfgS8jw)"
   ]
  },
  {
   "cell_type": "code",
   "execution_count": 40,
   "metadata": {},
   "outputs": [],
   "source": [
    "class Node:\n",
    "    def __init__(self, data):\n",
    "        self.data = data\n",
    "        self.next = None\n",
    "class LinkedList:\n",
    "    def __init__(self):\n",
    "        self.head = None\n",
    "        self.curr = None\n",
    "    def push(self, data):\n",
    "        newNode = Node(data)\n",
    "        if(self.head == None):\n",
    "            self.head = newNode\n",
    "        if(self.curr != None):\n",
    "            self.curr.next = newNode\n",
    "        self.curr = newNode\n",
    "    def printAll(self):\n",
    "        curr = self.head\n",
    "        while(curr != None):\n",
    "            print(curr.data)\n",
    "            curr = curr.next\n",
    "def connect(head, node):\n",
    "        head.next = node"
   ]
  },
  {
   "cell_type": "code",
   "execution_count": 41,
   "metadata": {},
   "outputs": [],
   "source": [
    "ll1 = LinkedList()\n",
    "ll2 = LinkedList()\n",
    "\n",
    "ll1.push(1)\n",
    "ll1.push(2)\n",
    "ll1.push(3)\n",
    "ll1.push(5)\n",
    "common = ll1.curr\n",
    "ll1.push(6)\n",
    "\n",
    "ll2.push(4)\n",
    "head = ll2.head\n",
    "\n",
    "connect(head, common)"
   ]
  },
  {
   "cell_type": "code",
   "execution_count": 55,
   "metadata": {},
   "outputs": [
    {
     "name": "stdout",
     "output_type": "stream",
     "text": [
      "1\n",
      "2\n",
      "3\n",
      "5\n",
      "6\n"
     ]
    }
   ],
   "source": [
    "ll1.printAll()"
   ]
  },
  {
   "cell_type": "code",
   "execution_count": 43,
   "metadata": {},
   "outputs": [],
   "source": [
    "def intersection(head1, head2):\n",
    "    curr1 = head1\n",
    "    curr2 = head2\n",
    "    while(curr1 != None or curr2 != None):\n",
    "        if(curr1 == curr2):\n",
    "            return curr1\n",
    "        elif(curr1 == None):\n",
    "            curr1 = head2\n",
    "            continue\n",
    "        elif(curr2 == None):\n",
    "            curr2 = head1\n",
    "            continue\n",
    "        \n",
    "        curr1 = curr1.next\n",
    "        curr2 = curr2.next\n",
    "    return None\n",
    "        \n",
    "    "
   ]
  },
  {
   "cell_type": "code",
   "execution_count": 44,
   "metadata": {},
   "outputs": [
    {
     "data": {
      "text/plain": [
       "5"
      ]
     },
     "execution_count": 44,
     "metadata": {},
     "output_type": "execute_result"
    }
   ],
   "source": [
    "intersection(ll1.head, ll2.head).data"
   ]
  },
  {
   "cell_type": "code",
   "execution_count": 64,
   "metadata": {},
   "outputs": [],
   "source": [
    "def length(head):\n",
    "    count = 0\n",
    "    while(head != None):\n",
    "        count += 1\n",
    "        head = head.next\n",
    "    return count\n",
    "def skipNodes(head, n):\n",
    "    count = 0\n",
    "    while(head != None and count < n):\n",
    "        head = head.next\n",
    "        count += 1\n",
    "    return head\n",
    "def intersection2(head1,head2):\n",
    "    smaller = head1\n",
    "    larger = head2\n",
    "    len1 = length(head1)\n",
    "    len2 = length(head2)\n",
    "    diff = abs(len2 - len1)\n",
    "    if(len1 > len2):\n",
    "        smaller, larger = larger, smaller\n",
    "    larger = skipNodes(larger, diff)\n",
    "    while(larger != None and smaller != None):\n",
    "        if(larger == smaller):\n",
    "            return larger\n",
    "        larger = larger.next\n",
    "        smaller = smaller.next\n",
    "    return None\n",
    "    \n",
    "    \n",
    "    \n",
    "    "
   ]
  },
  {
   "cell_type": "code",
   "execution_count": 66,
   "metadata": {},
   "outputs": [
    {
     "data": {
      "text/plain": [
       "5"
      ]
     },
     "execution_count": 66,
     "metadata": {},
     "output_type": "execute_result"
    }
   ],
   "source": [
    "intersection2(ll1.head, ll2.head).data"
   ]
  },
  {
   "cell_type": "code",
   "execution_count": null,
   "metadata": {},
   "outputs": [],
   "source": []
  }
 ],
 "metadata": {
  "kernelspec": {
   "display_name": "Python 3",
   "language": "python",
   "name": "python3"
  },
  "language_info": {
   "codemirror_mode": {
    "name": "ipython",
    "version": 3
   },
   "file_extension": ".py",
   "mimetype": "text/x-python",
   "name": "python",
   "nbconvert_exporter": "python",
   "pygments_lexer": "ipython3",
   "version": "3.8.5"
  }
 },
 "nbformat": 4,
 "nbformat_minor": 4
}
