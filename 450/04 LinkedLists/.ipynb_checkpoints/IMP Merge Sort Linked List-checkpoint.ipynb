{
 "cells": [
  {
   "cell_type": "code",
   "execution_count": 10,
   "metadata": {},
   "outputs": [],
   "source": [
    "class Node:\n",
    "    def __init__(self, data):\n",
    "        self.data = data\n",
    "        self.next = None\n",
    "class LinkedList:\n",
    "    def __init__(self):\n",
    "        self.head = None\n",
    "        self.curr = None\n",
    "    def push(self, data):\n",
    "        newNode = Node(data)\n",
    "        if(self.head == None):\n",
    "            self.head = newNode\n",
    "        if(self.curr != None):\n",
    "            self.curr.next = newNode\n",
    "        self.curr = newNode\n",
    "def printAll(head):\n",
    "    curr = head\n",
    "    while(curr != None):\n",
    "        print(curr.data)\n",
    "        curr = curr.next\n",
    "def length(head):\n",
    "    count = 0\n",
    "    while(head != None):\n",
    "        head = head.next\n",
    "        count += 1\n",
    "    return count"
   ]
  },
  {
   "cell_type": "code",
   "execution_count": 11,
   "metadata": {},
   "outputs": [],
   "source": [
    "ll1 = LinkedList()\n",
    "ll2 = LinkedList()\n",
    "\n",
    "ll1.push(1)\n",
    "ll1.push(3)\n",
    "ll1.push(5)\n",
    "\n",
    "ll2.push(2)\n",
    "ll2.push(4)\n",
    "# ll2.push(6)\n"
   ]
  },
  {
   "cell_type": "code",
   "execution_count": 12,
   "metadata": {},
   "outputs": [],
   "source": [
    "def merge(head1, head2):\n",
    "    curr1 = head1\n",
    "    curr2 = head2\n",
    "    fakeNode = Node(-1)\n",
    "    ### Keeping track of last is important to add the current element\n",
    "    lastNode = fakeNode\n",
    "    while(curr1 != None and curr2 != None):\n",
    "        if(curr1.data < curr2.data):\n",
    "            lastNode.next = curr1\n",
    "            lastNode = curr1\n",
    "            curr1 = curr1.next\n",
    "        else:\n",
    "            lastNode.next = curr2\n",
    "            lastNode = curr2\n",
    "            curr2 = curr2.next\n",
    "    if(curr1 != None):\n",
    "        lastNode.next = curr1\n",
    "    if(curr2 != None):\n",
    "        lastNode.next = curr2\n",
    "    return fakeNode.next"
   ]
  },
  {
   "cell_type": "code",
   "execution_count": 13,
   "metadata": {},
   "outputs": [
    {
     "name": "stdout",
     "output_type": "stream",
     "text": [
      "1\n",
      "2\n",
      "3\n",
      "4\n",
      "5\n"
     ]
    }
   ],
   "source": [
    "head = merge(ll1.head,ll2.head)\n",
    "printAll(head)"
   ]
  },
  {
   "cell_type": "code",
   "execution_count": 28,
   "metadata": {},
   "outputs": [],
   "source": [
    "def mergeSort(head):\n",
    "    if(head.next == None):\n",
    "        return head\n",
    "    # Selecting the mid point using slow and fast runners\n",
    "    slow = fast = head\n",
    "    pre = None\n",
    "    while(slow != None and fast != None and fast.next != None):\n",
    "        pre = slow\n",
    "        slow = slow.next\n",
    "        fast = fast.next.next\n",
    "    pre.next = None\n",
    "    \n",
    "    firstHalf = mergeSort(head)\n",
    "    secondHalf = mergeSort(slow)\n",
    "    \n",
    "    return merge(firstHalf, secondHalf)"
   ]
  },
  {
   "cell_type": "code",
   "execution_count": 32,
   "metadata": {},
   "outputs": [
    {
     "name": "stdout",
     "output_type": "stream",
     "text": [
      "1\n",
      "2\n",
      "3\n",
      "4\n",
      "5\n",
      "6\n"
     ]
    }
   ],
   "source": [
    "ll = LinkedList()\n",
    "ll.push(5)\n",
    "ll.push(4)\n",
    "ll.push(3)\n",
    "ll.push(6)\n",
    "ll.push(2)\n",
    "ll.push(1)\n",
    "printAll(mergeSort(ll.head))"
   ]
  },
  {
   "cell_type": "code",
   "execution_count": null,
   "metadata": {},
   "outputs": [],
   "source": []
  },
  {
   "cell_type": "code",
   "execution_count": null,
   "metadata": {},
   "outputs": [],
   "source": []
  }
 ],
 "metadata": {
  "kernelspec": {
   "display_name": "Python 3",
   "language": "python",
   "name": "python3"
  },
  "language_info": {
   "codemirror_mode": {
    "name": "ipython",
    "version": 3
   },
   "file_extension": ".py",
   "mimetype": "text/x-python",
   "name": "python",
   "nbconvert_exporter": "python",
   "pygments_lexer": "ipython3",
   "version": "3.8.5"
  }
 },
 "nbformat": 4,
 "nbformat_minor": 4
}
