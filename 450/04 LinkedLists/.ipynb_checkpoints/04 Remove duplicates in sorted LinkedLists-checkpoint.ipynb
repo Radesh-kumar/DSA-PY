{
 "cells": [
  {
   "cell_type": "code",
   "execution_count": 72,
   "metadata": {},
   "outputs": [],
   "source": [
    "class Node:\n",
    "    def __init__(self, data):\n",
    "        self.data = data\n",
    "        self.next = None\n",
    "        \n",
    "class LinkedList:\n",
    "    def __init__(self):\n",
    "        self.head = None\n",
    "        self.curr = None\n",
    "        \n",
    "    def push(self,data):\n",
    "        newNode = Node(data)\n",
    "        if(self.head == None):\n",
    "            self.head = newNode\n",
    "        if(self.curr != None):\n",
    "            self.curr.next = newNode\n",
    "        self.curr = newNode\n",
    "\n",
    "    def printAll(self):\n",
    "        curr = self.head\n",
    "        while(curr):\n",
    "            print(curr.data)\n",
    "            curr = curr.next\n",
    "    def length(self):\n",
    "        curr = self.head\n",
    "        count = 0\n",
    "        while(curr):\n",
    "            count += 1\n",
    "            curr = curr.next\n",
    "        return count\n",
    "    def removeDuplicates(self):\n",
    "        pre = None\n",
    "        curr = self.head\n",
    "        while(curr != None and curr.next != None):\n",
    "            pre = curr\n",
    "            curr = curr.next\n",
    "            while(pre != None and curr != None and pre.data == curr.data):\n",
    "                pre.next = curr.next\n",
    "                curr = curr.next\n",
    "            "
   ]
  },
  {
   "cell_type": "code",
   "execution_count": 77,
   "metadata": {},
   "outputs": [],
   "source": [
    "ll = LinkedList()\n",
    "ll.push(1)\n",
    "ll.push(2)\n",
    "ll.push(3)\n",
    "ll.push(3)\n",
    "ll.push(3)\n",
    "ll.push(4)\n"
   ]
  },
  {
   "cell_type": "code",
   "execution_count": 78,
   "metadata": {},
   "outputs": [
    {
     "name": "stdout",
     "output_type": "stream",
     "text": [
      "1\n",
      "2\n",
      "3\n",
      "3\n",
      "3\n",
      "4\n"
     ]
    }
   ],
   "source": [
    "ll.printAll()"
   ]
  },
  {
   "cell_type": "code",
   "execution_count": 79,
   "metadata": {},
   "outputs": [],
   "source": [
    "ll.removeDuplicates()"
   ]
  },
  {
   "cell_type": "code",
   "execution_count": 80,
   "metadata": {},
   "outputs": [
    {
     "name": "stdout",
     "output_type": "stream",
     "text": [
      "1\n",
      "2\n",
      "3\n",
      "4\n"
     ]
    }
   ],
   "source": [
    "ll.printAll()"
   ]
  },
  {
   "cell_type": "code",
   "execution_count": null,
   "metadata": {},
   "outputs": [],
   "source": []
  }
 ],
 "metadata": {
  "kernelspec": {
   "display_name": "Python 3",
   "language": "python",
   "name": "python3"
  },
  "language_info": {
   "codemirror_mode": {
    "name": "ipython",
    "version": 3
   },
   "file_extension": ".py",
   "mimetype": "text/x-python",
   "name": "python",
   "nbconvert_exporter": "python",
   "pygments_lexer": "ipython3",
   "version": "3.8.5"
  }
 },
 "nbformat": 4,
 "nbformat_minor": 4
}
