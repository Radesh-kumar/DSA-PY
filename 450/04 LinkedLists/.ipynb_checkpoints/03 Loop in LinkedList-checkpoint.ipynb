{
 "cells": [
  {
   "cell_type": "code",
   "execution_count": 108,
   "metadata": {},
   "outputs": [],
   "source": [
    "class Node:\n",
    "    def __init__(self, data):\n",
    "        self.data = data\n",
    "        self.next = None\n",
    "        \n",
    "class LinkedList:\n",
    "    def __init__(self):\n",
    "        self.head = None\n",
    "        self.curr = None\n",
    "        \n",
    "    def push(self,data):\n",
    "        newNode = Node(data)\n",
    "        if(self.head == None):\n",
    "            self.head = newNode\n",
    "        if(self.curr != None):\n",
    "            self.curr.next = newNode\n",
    "        self.curr = newNode\n",
    "    def connect(self):\n",
    "        self.curr.next = self.head\n",
    "\n",
    "    def printAll(self):\n",
    "        curr = self.head\n",
    "        while(curr):\n",
    "            print(curr.data)\n",
    "            curr = curr.next\n",
    "    def length(self):\n",
    "        curr = self.head\n",
    "        count = 0\n",
    "        while(curr):\n",
    "            count += 1\n",
    "            curr = curr.next\n",
    "        return count\n",
    "\n",
    "    def reverseIterative(self):\n",
    "        curr = self.head\n",
    "        prev = None\n",
    "        while(curr):\n",
    "            next = curr.next\n",
    "            curr.next = prev\n",
    "            prev = curr\n",
    "            curr = next\n",
    "        # Always reset the head after making changes to LL\n",
    "        self.head = prev\n",
    "        \n",
    "    def returnHead(self):\n",
    "        return self.head\n",
    "    \n",
    "    def updateHead(self, node):\n",
    "        self.head = node\n",
    "    def hasLoop(self):\n",
    "        p,q = self.head, self.head\n",
    "        while True:\n",
    "            p = p.next\n",
    "            if(q.next != None):\n",
    "                q = q.next.next\n",
    "            else:\n",
    "                q = None\n",
    "\n",
    "            if(p == None or q == None):\n",
    "                return False\n",
    "            elif(p == q):\n",
    "                return True\n",
    "\n",
    "    ### Space Complexity --> O(n)\n",
    "    def removeLoop(self):\n",
    "        hs = set()\n",
    "        prev = self.head\n",
    "        curr = self.head\n",
    "        while(curr != None):\n",
    "            if hex(id(curr)) in hs:\n",
    "                prev.next = None\n",
    "                return\n",
    "            else:\n",
    "                hs.add(hex(id(curr)))\n",
    "\n",
    "            prev = curr\n",
    "            curr = curr.next\n",
    "        "
   ]
  },
  {
   "cell_type": "code",
   "execution_count": 109,
   "metadata": {},
   "outputs": [],
   "source": [
    "ll = LinkedList()\n",
    "ll.push(1)\n",
    "ll.push(2)\n",
    "ll.push(3)\n",
    "ll.connect()\n",
    "ll.removeLoop()\n",
    "\n"
   ]
  },
  {
   "cell_type": "code",
   "execution_count": 110,
   "metadata": {},
   "outputs": [
    {
     "name": "stdout",
     "output_type": "stream",
     "text": [
      "1\n",
      "2\n",
      "3\n"
     ]
    }
   ],
   "source": [
    "ll.printAll()"
   ]
  },
  {
   "cell_type": "code",
   "execution_count": null,
   "metadata": {},
   "outputs": [],
   "source": []
  }
 ],
 "metadata": {
  "kernelspec": {
   "display_name": "Python 3",
   "language": "python",
   "name": "python3"
  },
  "language_info": {
   "codemirror_mode": {
    "name": "ipython",
    "version": 3
   },
   "file_extension": ".py",
   "mimetype": "text/x-python",
   "name": "python",
   "nbconvert_exporter": "python",
   "pygments_lexer": "ipython3",
   "version": "3.8.5"
  }
 },
 "nbformat": 4,
 "nbformat_minor": 4
}
