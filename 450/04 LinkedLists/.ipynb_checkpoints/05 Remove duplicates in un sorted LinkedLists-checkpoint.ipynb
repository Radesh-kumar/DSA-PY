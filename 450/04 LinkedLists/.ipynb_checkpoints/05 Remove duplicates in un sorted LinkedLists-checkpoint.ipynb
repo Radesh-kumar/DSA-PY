{
 "cells": [
  {
   "cell_type": "code",
   "execution_count": 35,
   "metadata": {},
   "outputs": [],
   "source": [
    "class Node:\n",
    "    def __init__(self, data):\n",
    "        self.data = data\n",
    "        self.next = None\n",
    "        \n",
    "class LinkedList:\n",
    "    def __init__(self):\n",
    "        self.head = None\n",
    "        self.curr = None\n",
    "        \n",
    "    def push(self,data):\n",
    "        newNode = Node(data)\n",
    "        if(self.head == None):\n",
    "            self.head = newNode\n",
    "        if(self.curr != None):\n",
    "            self.curr.next = newNode\n",
    "        self.curr = newNode\n",
    "\n",
    "    def printAll(self):\n",
    "        curr = self.head\n",
    "        while(curr):\n",
    "            print(curr.data)\n",
    "            curr = curr.next\n",
    "    def length(self):\n",
    "        curr = self.head\n",
    "        count = 0\n",
    "        while(curr):\n",
    "            count += 1\n",
    "            curr = curr.next\n",
    "        return count\n",
    "    def removeDuplicates(self):\n",
    "        hs = set()\n",
    "        prev = None\n",
    "        curr = self.head\n",
    "        while(curr != None):\n",
    "            if(curr.data in hs):\n",
    "                prev.next = curr.next\n",
    "            else:\n",
    "                hs.add(curr.data)\n",
    "                prev = curr\n",
    "            curr = curr.next\n",
    "\n",
    "            "
   ]
  },
  {
   "cell_type": "code",
   "execution_count": 36,
   "metadata": {},
   "outputs": [],
   "source": [
    "ll = LinkedList()\n",
    "ll.push(2)\n",
    "ll.push(2)\n",
    "ll.push(2)\n",
    "ll.push(2)\n",
    "ll.push(2)\n"
   ]
  },
  {
   "cell_type": "code",
   "execution_count": 37,
   "metadata": {},
   "outputs": [
    {
     "name": "stdout",
     "output_type": "stream",
     "text": [
      "2\n",
      "2\n",
      "2\n",
      "2\n",
      "2\n"
     ]
    }
   ],
   "source": [
    "ll.printAll()"
   ]
  },
  {
   "cell_type": "code",
   "execution_count": 38,
   "metadata": {},
   "outputs": [
    {
     "name": "stdout",
     "output_type": "stream",
     "text": [
      "2\n"
     ]
    }
   ],
   "source": [
    "ll.removeDuplicates()\n",
    "\n",
    "ll.printAll()"
   ]
  },
  {
   "cell_type": "code",
   "execution_count": null,
   "metadata": {},
   "outputs": [],
   "source": []
  }
 ],
 "metadata": {
  "kernelspec": {
   "display_name": "Python 3",
   "language": "python",
   "name": "python3"
  },
  "language_info": {
   "codemirror_mode": {
    "name": "ipython",
    "version": 3
   },
   "file_extension": ".py",
   "mimetype": "text/x-python",
   "name": "python",
   "nbconvert_exporter": "python",
   "pygments_lexer": "ipython3",
   "version": "3.8.5"
  }
 },
 "nbformat": 4,
 "nbformat_minor": 4
}
