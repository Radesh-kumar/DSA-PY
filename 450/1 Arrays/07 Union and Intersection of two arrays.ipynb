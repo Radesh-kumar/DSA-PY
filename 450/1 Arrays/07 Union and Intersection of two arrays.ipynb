{
 "cells": [
  {
   "cell_type": "code",
   "execution_count": 21,
   "metadata": {},
   "outputs": [],
   "source": [
    "def union(list1, list2):\n",
    "    hashSet = set()\n",
    "    for item in list1:\n",
    "        hashSet.add(item)\n",
    "    for item in list2:\n",
    "        hashSet.add(item)\n",
    "    for item in hashSet:\n",
    "        print(item, end=\" \")\n",
    "\n",
    "def intersection(list1, list2):\n",
    "    hashSet1 = set()\n",
    "    hashSet2 = set()\n",
    "    \n",
    "    for item in list1:\n",
    "        hashSet1.add(item)\n",
    "    for item in list2:\n",
    "        hashSet2.add(item)\n",
    "    for item in hashSet1:\n",
    "        if(item in hashSet2):\n",
    "            print(item, end=\" \")"
   ]
  },
  {
   "cell_type": "code",
   "execution_count": 28,
   "metadata": {},
   "outputs": [],
   "source": [
    "list1 = [1,2,3,4,5]\n",
    "list2 = [2,3,4,5,6,7]"
   ]
  },
  {
   "cell_type": "code",
   "execution_count": 29,
   "metadata": {},
   "outputs": [
    {
     "name": "stdout",
     "output_type": "stream",
     "text": [
      "1 2 3 4 5 6 7 "
     ]
    }
   ],
   "source": [
    "union(list1, list2)"
   ]
  },
  {
   "cell_type": "code",
   "execution_count": 30,
   "metadata": {},
   "outputs": [
    {
     "name": "stdout",
     "output_type": "stream",
     "text": [
      "2 3 4 5 "
     ]
    }
   ],
   "source": [
    "intersection(list1,list2)"
   ]
  }
 ],
 "metadata": {
  "kernelspec": {
   "display_name": "Python 3",
   "language": "python",
   "name": "python3"
  },
  "language_info": {
   "codemirror_mode": {
    "name": "ipython",
    "version": 3
   },
   "file_extension": ".py",
   "mimetype": "text/x-python",
   "name": "python",
   "nbconvert_exporter": "python",
   "pygments_lexer": "ipython3",
   "version": "3.8.5"
  }
 },
 "nbformat": 4,
 "nbformat_minor": 4
}
