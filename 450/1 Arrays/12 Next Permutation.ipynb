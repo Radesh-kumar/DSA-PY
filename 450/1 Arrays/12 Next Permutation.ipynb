{
 "cells": [
  {
   "cell_type": "code",
   "execution_count": 58,
   "metadata": {},
   "outputs": [],
   "source": [
    "def reverse(arr, begin, end):\n",
    "    while(begin < end):\n",
    "        arr[begin], arr[end] = arr[end], arr[begin]\n",
    "        begin += 1\n",
    "        end -= 1\n",
    "    return arr\n",
    "def nextPermutation(arr):\n",
    "    idx = -1\n",
    "    for i in range(len(arr) - 1,-1,-1):\n",
    "        if(arr[i - 1] < arr[i]):\n",
    "            idx = i-1\n",
    "            break\n",
    "    if(idx >= 0):\n",
    "        for i in range(len(arr)-1,idx,-1):\n",
    "            if(arr[idx] < arr[i]):\n",
    "                arr[i], arr[idx] = arr[idx], arr[i]\n",
    "                break\n",
    "    reverse(arr, idx+1,len(arr)-1)\n",
    "    return arr\n",
    "\n",
    "        "
   ]
  },
  {
   "cell_type": "code",
   "execution_count": 61,
   "metadata": {},
   "outputs": [
    {
     "data": {
      "text/plain": [
       "[1, 2, 3, 4, 5]"
      ]
     },
     "execution_count": 61,
     "metadata": {},
     "output_type": "execute_result"
    }
   ],
   "source": [
    "arr = [5,4,3,2,1]\n",
    "nextPermutation(arr)"
   ]
  },
  {
   "cell_type": "code",
   "execution_count": null,
   "metadata": {},
   "outputs": [],
   "source": []
  },
  {
   "cell_type": "code",
   "execution_count": null,
   "metadata": {},
   "outputs": [],
   "source": []
  }
 ],
 "metadata": {
  "kernelspec": {
   "display_name": "Python 3",
   "language": "python",
   "name": "python3"
  },
  "language_info": {
   "codemirror_mode": {
    "name": "ipython",
    "version": 3
   },
   "file_extension": ".py",
   "mimetype": "text/x-python",
   "name": "python",
   "nbconvert_exporter": "python",
   "pygments_lexer": "ipython3",
   "version": "3.8.5"
  }
 },
 "nbformat": 4,
 "nbformat_minor": 4
}
