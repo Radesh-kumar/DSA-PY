{
 "cells": [
  {
   "cell_type": "code",
   "execution_count": 2,
   "metadata": {},
   "outputs": [
    {
     "name": "stdout",
     "output_type": "stream",
     "text": [
      "[0, 0, 1, 1, 1, 2, 2]\n"
     ]
    }
   ],
   "source": [
    "def sort012(arr):\n",
    "    count_0 = []\n",
    "    count_1 = []\n",
    "    count_2 = []\n",
    "    for i in range(len(arr)):\n",
    "        if(arr[i] == 0):\n",
    "            count_0.append(0)\n",
    "        elif(arr[i] == 1):\n",
    "            count_1.append(1)\n",
    "        elif(arr[i] == 2):\n",
    "            count_2.append(2)\n",
    "    print(count_0 + count_1 + count_2)\n",
    "\n",
    "\n",
    "sort012([1,0,2,0,1,2,1])"
   ]
  },
  {
   "cell_type": "code",
   "execution_count": null,
   "metadata": {},
   "outputs": [],
   "source": []
  }
 ],
 "metadata": {
  "kernelspec": {
   "display_name": "Python 3",
   "language": "python",
   "name": "python3"
  },
  "language_info": {
   "codemirror_mode": {
    "name": "ipython",
    "version": 3
   },
   "file_extension": ".py",
   "mimetype": "text/x-python",
   "name": "python",
   "nbconvert_exporter": "python",
   "pygments_lexer": "ipython3",
   "version": "3.8.5"
  }
 },
 "nbformat": 4,
 "nbformat_minor": 4
}
