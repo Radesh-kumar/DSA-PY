{
 "cells": [
  {
   "cell_type": "markdown",
   "metadata": {},
   "source": [
    "### Brute Force"
   ]
  },
  {
   "cell_type": "code",
   "execution_count": 14,
   "metadata": {},
   "outputs": [],
   "source": [
    "def tripletSum(arr, n, k):\n",
    "    for l in range(n):\n",
    "        for m in range(1,n):\n",
    "            for d in range(2, n):\n",
    "                if l + m + d == k:\n",
    "                    return 1\n",
    "    return 0"
   ]
  },
  {
   "cell_type": "code",
   "execution_count": 15,
   "metadata": {},
   "outputs": [
    {
     "data": {
      "text/plain": [
       "1"
      ]
     },
     "execution_count": 15,
     "metadata": {},
     "output_type": "execute_result"
    }
   ],
   "source": [
    "tripletSum([1, 2, 4, 3, 6], 5, 11)"
   ]
  },
  {
   "cell_type": "markdown",
   "metadata": {},
   "source": [
    "### Optimized"
   ]
  },
  {
   "cell_type": "code",
   "execution_count": 32,
   "metadata": {},
   "outputs": [],
   "source": [
    "def tripletSum(arr, n, k):\n",
    "    hashSet = set()\n",
    "    for i in range(n-2):\n",
    "        toFind = k - arr[i]\n",
    "        for j in range(i+1,n):\n",
    "            if(k - (toFind - arr[j]) in hashSet):\n",
    "                return True\n",
    "            else:\n",
    "                hashSet.add(arr[j])\n",
    "    return False"
   ]
  },
  {
   "cell_type": "code",
   "execution_count": 30,
   "metadata": {},
   "outputs": [
    {
     "data": {
      "text/plain": [
       "False"
      ]
     },
     "execution_count": 30,
     "metadata": {},
     "output_type": "execute_result"
    }
   ],
   "source": [
    "tripletSum([1, 2, 4, 3, 6], 5, 111)"
   ]
  },
  {
   "cell_type": "markdown",
   "metadata": {},
   "source": [
    "### Sorting approach"
   ]
  },
  {
   "cell_type": "code",
   "execution_count": 41,
   "metadata": {},
   "outputs": [],
   "source": [
    "def tripletSum(arr, n, k):\n",
    "    arr.sort()\n",
    "    for i in range(n-2):\n",
    "        low = i + 1\n",
    "        high = n - 1\n",
    "        toFind = k - arr[i]\n",
    "        while(low < high and low < n and high > -1):\n",
    "            if(toFind == arr[low] + arr[high]):\n",
    "                return True\n",
    "            elif(toFind > arr[low] + arr[high]):\n",
    "                low += 1\n",
    "            else:\n",
    "                high -= 1\n",
    "    return False"
   ]
  },
  {
   "cell_type": "code",
   "execution_count": 40,
   "metadata": {},
   "outputs": [
    {
     "data": {
      "text/plain": [
       "True"
      ]
     },
     "execution_count": 40,
     "metadata": {},
     "output_type": "execute_result"
    }
   ],
   "source": [
    "tripletSum([1, 2, 4, 3, 6], 5, 11)"
   ]
  },
  {
   "cell_type": "code",
   "execution_count": null,
   "metadata": {},
   "outputs": [],
   "source": []
  }
 ],
 "metadata": {
  "kernelspec": {
   "display_name": "Python 3",
   "language": "python",
   "name": "python3"
  },
  "language_info": {
   "codemirror_mode": {
    "name": "ipython",
    "version": 3
   },
   "file_extension": ".py",
   "mimetype": "text/x-python",
   "name": "python",
   "nbconvert_exporter": "python",
   "pygments_lexer": "ipython3",
   "version": "3.8.5"
  }
 },
 "nbformat": 4,
 "nbformat_minor": 4
}
