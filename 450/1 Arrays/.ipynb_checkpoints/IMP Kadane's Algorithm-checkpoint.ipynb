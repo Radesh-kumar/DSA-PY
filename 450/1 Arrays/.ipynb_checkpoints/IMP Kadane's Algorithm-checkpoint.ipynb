{
 "cells": [
  {
   "cell_type": "markdown",
   "metadata": {},
   "source": [
    "### Maximum sum of sub arrays"
   ]
  },
  {
   "cell_type": "code",
   "execution_count": 107,
   "metadata": {},
   "outputs": [],
   "source": [
    "def maxSumSubArrays(arr):\n",
    "    maxSum = arr[0]\n",
    "    curSum = arr[0]\n",
    "    start = end = temp = 0\n",
    "    for i in range(1,len(arr)):\n",
    "        curSum += arr[i]\n",
    "        if(curSum > maxSum):\n",
    "            maxSum = curSum\n",
    "            start = temp\n",
    "            end = i\n",
    "        if(curSum < 0):\n",
    "            curSum = 0\n",
    "            temp = i+1\n",
    "            \n",
    "    print('Maximum Sum of Sub Array: ', maxSum)\n",
    "    print(arr[start:end + 1])\n",
    "        \n",
    "        \n",
    "        "
   ]
  },
  {
   "cell_type": "code",
   "execution_count": 108,
   "metadata": {},
   "outputs": [
    {
     "name": "stdout",
     "output_type": "stream",
     "text": [
      "Maximum Sum of Sub Array:  14\n",
      "[4, -1, 5, 6]\n"
     ]
    }
   ],
   "source": [
    "arr = [1,-2,-3,4,-1,5,6,-1, -100]\n",
    "maxSumSubArrays(arr)"
   ]
  }
 ],
 "metadata": {
  "kernelspec": {
   "display_name": "Python 3",
   "language": "python",
   "name": "python3"
  },
  "language_info": {
   "codemirror_mode": {
    "name": "ipython",
    "version": 3
   },
   "file_extension": ".py",
   "mimetype": "text/x-python",
   "name": "python",
   "nbconvert_exporter": "python",
   "pygments_lexer": "ipython3",
   "version": "3.8.5"
  }
 },
 "nbformat": 4,
 "nbformat_minor": 4
}
