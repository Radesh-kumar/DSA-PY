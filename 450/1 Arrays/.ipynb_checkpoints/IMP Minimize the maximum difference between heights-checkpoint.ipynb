{
 "cells": [
  {
   "cell_type": "code",
   "execution_count": 29,
   "metadata": {},
   "outputs": [],
   "source": [
    "def getMinDiff(arr, n, k):\n",
    "   arr.sort()\n",
    "   ans = arr[-1] - arr[0]\n",
    "   small = arr[0] + k\n",
    "   large = arr[n-1] - k\n",
    "\n",
    "   for i in range(n-1):\n",
    "       mi = min(small , arr[i+1]-k)\n",
    "       ma = max(large , arr[i]+k)\n",
    "       if mi<0:\n",
    "           continue\n",
    "       ans = min(ans,ma-mi)\n",
    "   return ans "
   ]
  },
  {
   "cell_type": "code",
   "execution_count": 31,
   "metadata": {},
   "outputs": [
    {
     "data": {
      "text/plain": [
       "4"
      ]
     },
     "execution_count": 31,
     "metadata": {},
     "output_type": "execute_result"
    }
   ],
   "source": [
    "arr = [2,3,1,1,2,4,2,0,1,1]\n",
    "getMinDiff(arr,len(arr),5)"
   ]
  },
  {
   "cell_type": "code",
   "execution_count": null,
   "metadata": {},
   "outputs": [],
   "source": []
  }
 ],
 "metadata": {
  "kernelspec": {
   "display_name": "Python 3",
   "language": "python",
   "name": "python3"
  },
  "language_info": {
   "codemirror_mode": {
    "name": "ipython",
    "version": 3
   },
   "file_extension": ".py",
   "mimetype": "text/x-python",
   "name": "python",
   "nbconvert_exporter": "python",
   "pygments_lexer": "ipython3",
   "version": "3.8.5"
  }
 },
 "nbformat": 4,
 "nbformat_minor": 4
}
