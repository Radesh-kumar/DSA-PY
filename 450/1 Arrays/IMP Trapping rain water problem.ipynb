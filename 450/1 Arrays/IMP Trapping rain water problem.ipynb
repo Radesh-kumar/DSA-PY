{
 "cells": [
  {
   "cell_type": "code",
   "execution_count": 24,
   "metadata": {},
   "outputs": [],
   "source": [
    "def trapWater(arr, n):\n",
    "    i = 0\n",
    "    j = n-1\n",
    "    result = 0\n",
    "    maxLeft = arr[0]\n",
    "    maxRight = arr[-1]\n",
    "    while(i < j):\n",
    "        if(maxLeft < maxRight):\n",
    "            i += 1\n",
    "            maxLeft = max(maxLeft, arr[i])\n",
    "            result += maxLeft - arr[i]\n",
    "        else:\n",
    "            j -= 1\n",
    "            maxRight = max(maxRight, arr[j])\n",
    "            result += maxRight - arr[j]\n",
    "    return result"
   ]
  },
  {
   "cell_type": "code",
   "execution_count": 25,
   "metadata": {},
   "outputs": [
    {
     "data": {
      "text/plain": [
       "3"
      ]
     },
     "execution_count": 25,
     "metadata": {},
     "output_type": "execute_result"
    }
   ],
   "source": [
    "trapWater([0,2,0,1,2,0], 6)"
   ]
  },
  {
   "cell_type": "code",
   "execution_count": null,
   "metadata": {},
   "outputs": [],
   "source": []
  },
  {
   "cell_type": "code",
   "execution_count": null,
   "metadata": {},
   "outputs": [],
   "source": []
  }
 ],
 "metadata": {
  "kernelspec": {
   "display_name": "Python 3",
   "language": "python",
   "name": "python3"
  },
  "language_info": {
   "codemirror_mode": {
    "name": "ipython",
    "version": 3
   },
   "file_extension": ".py",
   "mimetype": "text/x-python",
   "name": "python",
   "nbconvert_exporter": "python",
   "pygments_lexer": "ipython3",
   "version": "3.8.5"
  }
 },
 "nbformat": 4,
 "nbformat_minor": 4
}
