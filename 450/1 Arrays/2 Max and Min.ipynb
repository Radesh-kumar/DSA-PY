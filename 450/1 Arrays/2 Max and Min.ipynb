{
 "cells": [
  {
   "cell_type": "markdown",
   "metadata": {},
   "source": [
    "## Brute Force"
   ]
  },
  {
   "cell_type": "code",
   "execution_count": 1,
   "metadata": {},
   "outputs": [],
   "source": [
    "a = [1, 2, 3, 4 ,5,]\n",
    "lenght_a = len(a)\n",
    "curr_max = a[0]\n",
    "curr_min = a[0]\n",
    "\n",
    "# Maximum\n",
    "for i in range(lenght_a):\n",
    "    if(a[i] > curr_max):\n",
    "        curr_max = a[i]\n",
    "print('Maximum:', curr_max)\n",
    "\n",
    "# Minimum\n",
    "for i in range(lenght_a):\n",
    "    if(curr_min > a[i]):\n",
    "        curr_min = a[i]\n",
    "print('Minimum:', curr_min)\n",
    "    "
   ]
  },
  {
   "cell_type": "markdown",
   "metadata": {},
   "source": [
    "## Using Structures"
   ]
  },
  {
   "cell_type": "code",
   "execution_count": 8,
   "metadata": {},
   "outputs": [
    {
     "name": "stdout",
     "output_type": "stream",
     "text": [
      "1\n",
      "2\n",
      "3\n",
      "4\n",
      "5\n",
      "6\n",
      "7\n",
      "Minimum element is -1\n",
      "Maximum element is 16\n"
     ]
    }
   ],
   "source": [
    "class pair:\n",
    "    def __init__(self):\n",
    "        self.min = 0\n",
    "        self.max = 0\n",
    "\n",
    "def getMinMax(arr: list, n: int) -> pair:\n",
    "    minmax = pair()\n",
    "    minmax.min = arr[0]\n",
    "    minmax.max = arr[0]\n",
    "    if(n==0):\n",
    "        print('Array must have atleast one element')\n",
    "    if(n>1):\n",
    "        for i in range(1, n):\n",
    "            print(i)\n",
    "            if(arr[i] > minmax.max):\n",
    "                minmax.max = arr[i]\n",
    "            if(arr[i] < minmax.min):\n",
    "                minmax.min = arr[i]  \n",
    "    return minmax\n",
    "\n",
    "\n",
    "minmax = getMinMax([-1,1,2,3,4,5,10, 16], 8)\n",
    "print(\"Minimum element is\", minmax.min)\n",
    "print(\"Maximum element is\", minmax.max)"
   ]
  },
  {
   "cell_type": "code",
   "execution_count": null,
   "metadata": {},
   "outputs": [],
   "source": []
  }
 ],
 "metadata": {
  "kernelspec": {
   "display_name": "Python 3",
   "language": "python",
   "name": "python3"
  },
  "language_info": {
   "codemirror_mode": {
    "name": "ipython",
    "version": 3
   },
   "file_extension": ".py",
   "mimetype": "text/x-python",
   "name": "python",
   "nbconvert_exporter": "python",
   "pygments_lexer": "ipython3",
   "version": "3.8.5"
  }
 },
 "nbformat": 4,
 "nbformat_minor": 4
}
