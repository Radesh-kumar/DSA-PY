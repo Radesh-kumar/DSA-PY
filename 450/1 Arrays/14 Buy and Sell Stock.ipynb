{
 "cells": [
  {
   "cell_type": "code",
   "execution_count": 38,
   "metadata": {},
   "outputs": [],
   "source": [
    "def stocks(arr):\n",
    "    cur_smallest = arr[0]\n",
    "    cur_largest = arr[0]\n",
    "    maxprofit = 0\n",
    "    for i in range(1,len(arr)):\n",
    "        if(arr[i] < cur_smallest):\n",
    "            cur_smallest = arr[i]\n",
    "            cur_largest = 0\n",
    "        else:\n",
    "            cur_largest = max(arr[i], cur_largest)\n",
    "            maxprofit = max(maxprofit, cur_largest - cur_smallest)\n",
    "    return maxprofit"
   ]
  },
  {
   "cell_type": "code",
   "execution_count": 40,
   "metadata": {},
   "outputs": [
    {
     "data": {
      "text/plain": [
       "0"
      ]
     },
     "execution_count": 40,
     "metadata": {},
     "output_type": "execute_result"
    }
   ],
   "source": [
    "arr = [3,2,1]\n",
    "stocks(arr)"
   ]
  },
  {
   "cell_type": "markdown",
   "metadata": {},
   "source": [
    "### Kadanes approach"
   ]
  },
  {
   "cell_type": "code",
   "execution_count": 50,
   "metadata": {},
   "outputs": [],
   "source": [
    "def maxProfit(prices):\n",
    "    maxCur = 0\n",
    "    maxSoFar = 0\n",
    "    for i in range(1, len(prices)):\n",
    "        maxCur += prices[i] - prices[i-1]\n",
    "        maxCur = max(0, maxCur);\n",
    "        maxSoFar = max(maxCur, maxSoFar)\n",
    "        print(maxCur,maxSoFar)\n",
    "    return maxSoFar\n"
   ]
  },
  {
   "cell_type": "code",
   "execution_count": 52,
   "metadata": {},
   "outputs": [
    {
     "name": "stdout",
     "output_type": "stream",
     "text": [
      "6 6\n",
      "3 6\n",
      "10 10\n"
     ]
    },
    {
     "data": {
      "text/plain": [
       "10"
      ]
     },
     "execution_count": 52,
     "metadata": {},
     "output_type": "execute_result"
    }
   ],
   "source": [
    "arr = [1, 7, 4, 11]\n",
    "maxProfit(arr)"
   ]
  },
  {
   "cell_type": "code",
   "execution_count": null,
   "metadata": {},
   "outputs": [],
   "source": []
  }
 ],
 "metadata": {
  "kernelspec": {
   "display_name": "Python 3",
   "language": "python",
   "name": "python3"
  },
  "language_info": {
   "codemirror_mode": {
    "name": "ipython",
    "version": 3
   },
   "file_extension": ".py",
   "mimetype": "text/x-python",
   "name": "python",
   "nbconvert_exporter": "python",
   "pygments_lexer": "ipython3",
   "version": "3.8.5"
  }
 },
 "nbformat": 4,
 "nbformat_minor": 4
}
