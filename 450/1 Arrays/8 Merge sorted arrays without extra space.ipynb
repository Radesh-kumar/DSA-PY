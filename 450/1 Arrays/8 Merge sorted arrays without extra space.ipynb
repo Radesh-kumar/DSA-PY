{
 "cells": [
  {
   "cell_type": "markdown",
   "metadata": {},
   "source": [
    "### Brute force"
   ]
  },
  {
   "cell_type": "code",
   "execution_count": 11,
   "metadata": {},
   "outputs": [],
   "source": [
    "def merge(arr1, arr2, n, m):\n",
    "    i = n - 1\n",
    "    j = 0\n",
    "    while(arr1[i] > arr2[j]):\n",
    "        print(arr1[i], arr2[j])\n",
    "        arr1[i], arr2[j] = arr2[j], arr1[i]\n",
    "        arr1.sort()\n",
    "        arr2.sort()\n",
    "    return arr1,arr2\n",
    "    "
   ]
  },
  {
   "cell_type": "code",
   "execution_count": 31,
   "metadata": {},
   "outputs": [
    {
     "data": {
      "text/plain": [
       "([0, 1, 2, 3], [5, 6, 7, 8, 9])"
      ]
     },
     "execution_count": 31,
     "metadata": {},
     "output_type": "execute_result"
    }
   ],
   "source": [
    "arr1 = [1,3,5,7]\n",
    "arr2 = [0,2,6,8,9]\n",
    "merge(arr1, arr2, len(arr1), len(arr2))"
   ]
  },
  {
   "cell_type": "markdown",
   "metadata": {},
   "source": [
    "### Optimized"
   ]
  },
  {
   "cell_type": "code",
   "execution_count": 74,
   "metadata": {},
   "outputs": [],
   "source": [
    "# https://www.youtube.com/watch?v=POTD3tZ2S4s\n",
    "# Time complexity:\n",
    "    # For traversing --> O(n + m)\n",
    "    # For sorting --> O(n+m(log(n+m)))\n",
    "    # Total = O(n + m) + O(n+m(log(n+m)))\n",
    "    # we will ignore O (n + m) since it is very low\n",
    "    # Final: O(n+m(log(n+m)))"
   ]
  },
  {
   "cell_type": "code",
   "execution_count": 72,
   "metadata": {},
   "outputs": [],
   "source": [
    "def merge(arr1, arr2, n, m):\n",
    "    # i used for traversing arr1\n",
    "    # j used for traversing arr2\n",
    "    # k used for swapping the largest element in arr1\n",
    "    i = j = 0\n",
    "    k = n - 1\n",
    "    while(i <= k and j < m):\n",
    "        if(arr1[i] > arr2[j]):\n",
    "            arr1[k], arr2[j] = arr2[j], arr1[k]\n",
    "            k -= 1\n",
    "            j += 1\n",
    "        else:\n",
    "            i += 1\n",
    "    arr1.sort()\n",
    "    arr2.sort()\n",
    "    return arr1, arr2"
   ]
  },
  {
   "cell_type": "code",
   "execution_count": 73,
   "metadata": {},
   "outputs": [
    {
     "data": {
      "text/plain": [
       "([1, 2, 3, 4, 5, 6], [7, 7, 8, 9])"
      ]
     },
     "execution_count": 73,
     "metadata": {},
     "output_type": "execute_result"
    }
   ],
   "source": [
    "arr1 = [1, 3, 5, 7, 7, 9]\n",
    "arr2 = [2, 4, 6, 8 ]\n",
    "merge(arr1, arr2, len(arr1), len(arr2))"
   ]
  },
  {
   "cell_type": "code",
   "execution_count": null,
   "metadata": {},
   "outputs": [],
   "source": []
  },
  {
   "cell_type": "code",
   "execution_count": null,
   "metadata": {},
   "outputs": [],
   "source": []
  }
 ],
 "metadata": {
  "kernelspec": {
   "display_name": "Python 3",
   "language": "python",
   "name": "python3"
  },
  "language_info": {
   "codemirror_mode": {
    "name": "ipython",
    "version": 3
   },
   "file_extension": ".py",
   "mimetype": "text/x-python",
   "name": "python",
   "nbconvert_exporter": "python",
   "pygments_lexer": "ipython3",
   "version": "3.8.5"
  }
 },
 "nbformat": 4,
 "nbformat_minor": 4
}
