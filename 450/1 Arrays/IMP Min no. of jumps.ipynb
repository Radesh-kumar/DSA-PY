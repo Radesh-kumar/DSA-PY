{
 "cells": [
  {
   "cell_type": "code",
   "execution_count": 45,
   "metadata": {},
   "outputs": [],
   "source": [
    "def minJumps(arr, length):\n",
    "    jumps = 0\n",
    "    curReach = 0\n",
    "    curMax = 0\n",
    "    for i in range(length - 1):\n",
    "        if(i + arr[i] > curMax):\n",
    "            curMax = arr[i] + i\n",
    "        if(curReach == i):\n",
    "            curReach = curMax\n",
    "            jumps += 1\n",
    "        #print(curReach, curMax)\n",
    "    return jumps"
   ]
  },
  {
   "cell_type": "code",
   "execution_count": 47,
   "metadata": {},
   "outputs": [
    {
     "data": {
      "text/plain": [
       "2"
      ]
     },
     "execution_count": 47,
     "metadata": {},
     "output_type": "execute_result"
    }
   ],
   "source": [
    "arr = [9, 10, 1, 2, 3, 4, 8, 0, 0, 0, 0, 0, 0, 0, 1]\n",
    "# arr = [2, 1, 0, 3]\n",
    "# DIY: small bug in this code\n",
    "minJumps(arr, len(arr))"
   ]
  },
  {
   "cell_type": "code",
   "execution_count": null,
   "metadata": {},
   "outputs": [],
   "source": []
  }
 ],
 "metadata": {
  "kernelspec": {
   "display_name": "Python 3",
   "language": "python",
   "name": "python3"
  },
  "language_info": {
   "codemirror_mode": {
    "name": "ipython",
    "version": 3
   },
   "file_extension": ".py",
   "mimetype": "text/x-python",
   "name": "python",
   "nbconvert_exporter": "python",
   "pygments_lexer": "ipython3",
   "version": "3.8.5"
  }
 },
 "nbformat": 4,
 "nbformat_minor": 4
}
