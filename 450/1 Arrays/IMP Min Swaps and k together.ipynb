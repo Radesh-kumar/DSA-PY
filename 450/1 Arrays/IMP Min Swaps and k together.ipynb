{
 "cells": [
  {
   "cell_type": "code",
   "execution_count": 39,
   "metadata": {},
   "outputs": [],
   "source": [
    "# Note: We just need to find out no. of swaps rather (No need for actual swapping)\n",
    "def minSwap(arr, n, k):\n",
    "\n",
    "    correctCount = 0\n",
    "    for i in range(n):\n",
    "        if (arr[i] <= k):\n",
    "            correctCount += 1\n",
    "\n",
    "    badCount = 0\n",
    "    for i in range(correctCount):\n",
    "        if(arr[i] > k):\n",
    "            badCount += 1\n",
    "\n",
    "    j = correctCount\n",
    "    ans = badCount\n",
    "    for i in range(n):\n",
    "        if(j == n):\n",
    "            break\n",
    "        if(arr[i] > k):\n",
    "            badCount -= 1\n",
    "        if(arr[j] > k):\n",
    "            badCount += 1\n",
    "        \n",
    "        ans = min(ans, badCount)\n",
    "        j += 1\n",
    "    return ans\n",
    "        \n",
    "        "
   ]
  },
  {
   "cell_type": "code",
   "execution_count": 40,
   "metadata": {},
   "outputs": [
    {
     "data": {
      "text/plain": [
       "2"
      ]
     },
     "execution_count": 40,
     "metadata": {},
     "output_type": "execute_result"
    }
   ],
   "source": [
    "arr = [2, 7, 9, 5, 8, 7, 4]\n",
    "minSwap(arr, len(arr), 6)"
   ]
  },
  {
   "cell_type": "code",
   "execution_count": null,
   "metadata": {},
   "outputs": [],
   "source": []
  }
 ],
 "metadata": {
  "kernelspec": {
   "display_name": "Python 3",
   "language": "python",
   "name": "python3"
  },
  "language_info": {
   "codemirror_mode": {
    "name": "ipython",
    "version": 3
   },
   "file_extension": ".py",
   "mimetype": "text/x-python",
   "name": "python",
   "nbconvert_exporter": "python",
   "pygments_lexer": "ipython3",
   "version": "3.8.5"
  }
 },
 "nbformat": 4,
 "nbformat_minor": 4
}
