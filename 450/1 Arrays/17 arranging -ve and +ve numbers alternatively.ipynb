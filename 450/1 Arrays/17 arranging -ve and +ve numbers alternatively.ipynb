{
 "cells": [
  {
   "cell_type": "markdown",
   "metadata": {},
   "source": [
    "### Brute Force"
   ]
  },
  {
   "cell_type": "code",
   "execution_count": 2,
   "metadata": {},
   "outputs": [],
   "source": [
    "# Note: We should follow the order"
   ]
  },
  {
   "cell_type": "code",
   "execution_count": 38,
   "metadata": {},
   "outputs": [],
   "source": [
    "# Time complexity -> O(n)\n",
    "# Space complexity -> O(n)"
   ]
  },
  {
   "cell_type": "code",
   "execution_count": 39,
   "metadata": {},
   "outputs": [],
   "source": [
    "def arrange(arr, n):\n",
    "    positive = []\n",
    "    negative = []\n",
    "    result = []\n",
    "    for i in range(n):\n",
    "        if(arr[i] < 0):\n",
    "            negative.append(arr[i])\n",
    "        else:\n",
    "            positive.append(arr[i])\n",
    "    i = j = 0\n",
    "    while(i < len(positive) and j < len(negative)):\n",
    "        result.append(negative[j])\n",
    "        result.append(positive[i])\n",
    "        i += 1\n",
    "        j += 1\n",
    "    while(i < len(positive)):\n",
    "        result.append(positive[i])\n",
    "        i += 1\n",
    "    while(j < len(negative)):\n",
    "        result.append(negative[j])\n",
    "        j += 1\n",
    "    return result\n",
    "        \n",
    "    "
   ]
  },
  {
   "cell_type": "code",
   "execution_count": 40,
   "metadata": {},
   "outputs": [
    {
     "data": {
      "text/plain": [
       "[-1, 4, -2, -3, -4]"
      ]
     },
     "execution_count": 40,
     "metadata": {},
     "output_type": "execute_result"
    }
   ],
   "source": [
    "arr = [4,-1,-2,-3,-4]\n",
    "arrange(arr, len(arr))"
   ]
  },
  {
   "cell_type": "markdown",
   "metadata": {},
   "source": [
    "### Without Using extra space"
   ]
  },
  {
   "cell_type": "code",
   "execution_count": null,
   "metadata": {},
   "outputs": [],
   "source": []
  },
  {
   "cell_type": "code",
   "execution_count": null,
   "metadata": {},
   "outputs": [],
   "source": []
  }
 ],
 "metadata": {
  "kernelspec": {
   "display_name": "Python 3",
   "language": "python",
   "name": "python3"
  },
  "language_info": {
   "codemirror_mode": {
    "name": "ipython",
    "version": 3
   },
   "file_extension": ".py",
   "mimetype": "text/x-python",
   "name": "python",
   "nbconvert_exporter": "python",
   "pygments_lexer": "ipython3",
   "version": "3.8.5"
  }
 },
 "nbformat": 4,
 "nbformat_minor": 4
}
