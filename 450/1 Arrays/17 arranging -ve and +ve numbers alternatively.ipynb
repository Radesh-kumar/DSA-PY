{
 "cells": [
  {
   "cell_type": "markdown",
   "metadata": {},
   "source": [
    "### Brute Force"
   ]
  },
  {
   "cell_type": "code",
   "execution_count": 2,
   "metadata": {},
   "outputs": [],
   "source": [
    "# Note: We should follow the order"
   ]
  },
  {
   "cell_type": "code",
   "execution_count": 38,
   "metadata": {},
   "outputs": [],
   "source": [
    "# Time complexity -> O(n)\n",
    "# Space complexity -> O(n)"
   ]
  },
  {
   "cell_type": "code",
   "execution_count": 39,
   "metadata": {},
   "outputs": [],
   "source": [
    "def arrange(arr, n):\n",
    "    positive = []\n",
    "    negative = []\n",
    "    result = []\n",
    "    for i in range(n):\n",
    "        if(arr[i] < 0):\n",
    "            negative.append(arr[i])\n",
    "        else:\n",
    "            positive.append(arr[i])\n",
    "    i = j = 0\n",
    "    while(i < len(positive) and j < len(negative)):\n",
    "        result.append(negative[j])\n",
    "        result.append(positive[i])\n",
    "        i += 1\n",
    "        j += 1\n",
    "    while(i < len(positive)):\n",
    "        result.append(positive[i])\n",
    "        i += 1\n",
    "    while(j < len(negative)):\n",
    "        result.append(negative[j])\n",
    "        j += 1\n",
    "    return result\n",
    "        \n",
    "    "
   ]
  },
  {
   "cell_type": "code",
   "execution_count": 40,
   "metadata": {},
   "outputs": [
    {
     "data": {
      "text/plain": [
       "[-1, 4, -2, -3, -4]"
      ]
     },
     "execution_count": 40,
     "metadata": {},
     "output_type": "execute_result"
    }
   ],
   "source": [
    "arr = [4,-1,-2,-3,-4]\n",
    "arrange(arr, len(arr))"
   ]
  },
  {
   "cell_type": "markdown",
   "metadata": {},
   "source": [
    "### Without Using extra space"
   ]
  },
  {
   "cell_type": "code",
   "execution_count": 77,
   "metadata": {},
   "outputs": [],
   "source": [
    "def rotateright(arr, left, right, n):\n",
    "    temp = arr[right]\n",
    "    i = left\n",
    "    j = right\n",
    "    while(i < j):\n",
    "        arr[j]  = arr[j - 1]\n",
    "        j -= 1\n",
    "    arr[left] = temp\n",
    "    return arr\n",
    "\n",
    "def rearrange(arr, n):\n",
    "    i = j = k = 0\n",
    "    # k is used for traversing each element\n",
    "    # i is used for negative elements\n",
    "    # j is used for positive elements\n",
    "    while(i < n and j < n and k < n):\n",
    "        # For checking even index\n",
    "        if(k % 2 == 0):\n",
    "            # if elements is negative\n",
    "            if(arr[k] < 0):\n",
    "                k += 1\n",
    "            # if element is positive (should be negative)\n",
    "            else:\n",
    "                # using i find next negative element\n",
    "                i = k + 1\n",
    "                j = k\n",
    "                while(i < n):\n",
    "                    if(arr[i] < 0):\n",
    "                        rotateright(arr,j,i,n)\n",
    "                        break\n",
    "                    i += 1\n",
    "        # For checking odd index\n",
    "        else:\n",
    "            # If element is negative (should be positive)\n",
    "            if(arr[k] < 0):\n",
    "                i = k\n",
    "                j = k + 1\n",
    "                while(j < n):\n",
    "                    if(arr[j] > 0):\n",
    "                        rotateright(arr,i,j,n)\n",
    "                        break\n",
    "                    j += 1\n",
    "            # If element is positive\n",
    "            else:\n",
    "                k += 1\n",
    "    return arr\n",
    "                \n",
    "                \n",
    "                \n",
    "            \n",
    "    "
   ]
  },
  {
   "cell_type": "code",
   "execution_count": 81,
   "metadata": {},
   "outputs": [
    {
     "data": {
      "text/plain": [
       "[-1, 1, -2, -3, -4]"
      ]
     },
     "execution_count": 81,
     "metadata": {},
     "output_type": "execute_result"
    }
   ],
   "source": [
    "arr = [-1,-2,-3,-4,1]\n",
    "rearrange(arr,len(arr))"
   ]
  },
  {
   "cell_type": "code",
   "execution_count": null,
   "metadata": {},
   "outputs": [],
   "source": []
  }
 ],
 "metadata": {
  "kernelspec": {
   "display_name": "Python 3",
   "language": "python",
   "name": "python3"
  },
  "language_info": {
   "codemirror_mode": {
    "name": "ipython",
    "version": 3
   },
   "file_extension": ".py",
   "mimetype": "text/x-python",
   "name": "python",
   "nbconvert_exporter": "python",
   "pygments_lexer": "ipython3",
   "version": "3.8.5"
  }
 },
 "nbformat": 4,
 "nbformat_minor": 4
}
