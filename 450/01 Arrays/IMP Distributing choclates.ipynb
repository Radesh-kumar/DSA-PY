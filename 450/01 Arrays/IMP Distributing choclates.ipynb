{
 "cells": [
  {
   "cell_type": "markdown",
   "metadata": {},
   "source": [
    "[Youtube](https://www.youtube.com/watch?v=jjPw45HkMQs)"
   ]
  },
  {
   "cell_type": "code",
   "execution_count": 68,
   "metadata": {},
   "outputs": [],
   "source": [
    "import sys\n",
    "def minimize(arr, n, k):\n",
    "    # arr -> no. of choclates in a packet\n",
    "    # n -> total no. of choclate packets\n",
    "    # k -> no. of people\n",
    "    # Goal min(maxChoclates - minChoclates)\n",
    "    arr.sort()\n",
    "    i = 0\n",
    "    end = k-1\n",
    "    # Since total elements = k\n",
    "    result = sys.maxsize\n",
    "    while(i + end < n):\n",
    "        result = min(result, arr[end + i] - arr[i])\n",
    "        i += 1\n",
    "    return result\n",
    "    "
   ]
  },
  {
   "cell_type": "code",
   "execution_count": 69,
   "metadata": {},
   "outputs": [
    {
     "name": "stdout",
     "output_type": "stream",
     "text": [
      "[2, 3, 4, 7, 9, 12, 56]\n"
     ]
    },
    {
     "data": {
      "text/plain": [
       "2"
      ]
     },
     "execution_count": 69,
     "metadata": {},
     "output_type": "execute_result"
    }
   ],
   "source": [
    "arr = [7, 3, 2, 4, 9, 12, 56]\n",
    "minimize(arr,len(arr),3)"
   ]
  },
  {
   "cell_type": "code",
   "execution_count": null,
   "metadata": {},
   "outputs": [],
   "source": []
  }
 ],
 "metadata": {
  "kernelspec": {
   "display_name": "Python 3",
   "language": "python",
   "name": "python3"
  },
  "language_info": {
   "codemirror_mode": {
    "name": "ipython",
    "version": 3
   },
   "file_extension": ".py",
   "mimetype": "text/x-python",
   "name": "python",
   "nbconvert_exporter": "python",
   "pygments_lexer": "ipython3",
   "version": "3.8.5"
  }
 },
 "nbformat": 4,
 "nbformat_minor": 4
}
