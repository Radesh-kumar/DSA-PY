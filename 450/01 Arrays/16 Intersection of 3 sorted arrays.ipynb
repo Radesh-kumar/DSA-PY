{
 "cells": [
  {
   "cell_type": "markdown",
   "metadata": {},
   "source": [
    "### Using hash sets"
   ]
  },
  {
   "cell_type": "code",
   "execution_count": 1,
   "metadata": {},
   "outputs": [],
   "source": [
    "## Time complexity -> O(n1 + n2 + n3)\n",
    "## Space complexity -> O(n1 + n2 + n3)\n"
   ]
  },
  {
   "cell_type": "code",
   "execution_count": 2,
   "metadata": {},
   "outputs": [],
   "source": [
    "def intersection(list1, list2, list3):\n",
    "    hashSet1 = set()\n",
    "    hashSet2 = set()\n",
    "    hashSet3 = set()\n",
    "    \n",
    "    for item in list1:\n",
    "        hashSet1.add(item)\n",
    "    for item in list2:\n",
    "        hashSet2.add(item)\n",
    "    for item in list3:\n",
    "        hashSet3.add(item)\n",
    "    for item in hashSet1:\n",
    "        if(item in hashSet2 and item in hashSet3):\n",
    "            print(item, end=\" \")"
   ]
  },
  {
   "cell_type": "code",
   "execution_count": 6,
   "metadata": {},
   "outputs": [
    {
     "name": "stdout",
     "output_type": "stream",
     "text": [
      "80 20 "
     ]
    }
   ],
   "source": [
    "arr1 = [1, 5, 10, 20, 40, 80]\n",
    "arr2 = [6, 7, 20, 80, 100]\n",
    "arr3 = [3, 4, 15, 20, 30, 70, 80, 120]\n",
    "intersection(arr1,arr2,arr3)"
   ]
  },
  {
   "cell_type": "markdown",
   "metadata": {},
   "source": [
    "### Best Solution"
   ]
  },
  {
   "cell_type": "code",
   "execution_count": 3,
   "metadata": {},
   "outputs": [],
   "source": [
    "## Time complexity -> O(n1 + n2 + n3)\n",
    "## Space complexity -> O(1)"
   ]
  },
  {
   "cell_type": "code",
   "execution_count": 59,
   "metadata": {},
   "outputs": [],
   "source": [
    "def commonElements(list1, list2, list3, n, m, l):\n",
    "    i = j = k = 0\n",
    "    result = []\n",
    "    while(i < n and j < m and k < l):\n",
    "        if(list1[i] == list2[j] == list3[k]):\n",
    "            result.append(list1[i])\n",
    "            i += 1\n",
    "            j += 1\n",
    "            k += 1\n",
    "        elif(list1[i] < list2[j]):\n",
    "            i += 1\n",
    "        elif(list2[j] < list3[k]):\n",
    "            j += 1\n",
    "        else:\n",
    "            k += 1\n",
    "        ### Loops for avoiding common elements\n",
    "        while(0 < i < n and list1[i] == list1[i-1]):\n",
    "            i += 1\n",
    "        while(0 < j < m and list2[j] == list2[j-1]):\n",
    "            j += 1\n",
    "        while(0 < k < l and list3[k] == list3[k-1]):\n",
    "            k += 1\n",
    "    return result"
   ]
  },
  {
   "cell_type": "code",
   "execution_count": 61,
   "metadata": {},
   "outputs": [
    {
     "data": {
      "text/plain": [
       "[1]"
      ]
     },
     "execution_count": 61,
     "metadata": {},
     "output_type": "execute_result"
    }
   ],
   "source": [
    "arr1 = [1,1,1]\n",
    "arr2 = [1,1,1]\n",
    "arr3 = [1,1,1]\n",
    "commonElements(arr1, arr2, arr3, len(arr1), len(arr2), len(arr3))"
   ]
  }
 ],
 "metadata": {
  "kernelspec": {
   "display_name": "Python 3",
   "language": "python",
   "name": "python3"
  },
  "language_info": {
   "codemirror_mode": {
    "name": "ipython",
    "version": 3
   },
   "file_extension": ".py",
   "mimetype": "text/x-python",
   "name": "python",
   "nbconvert_exporter": "python",
   "pygments_lexer": "ipython3",
   "version": "3.8.5"
  }
 },
 "nbformat": 4,
 "nbformat_minor": 4
}
