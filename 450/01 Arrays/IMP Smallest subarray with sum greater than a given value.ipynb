{
 "cells": [
  {
   "cell_type": "code",
   "execution_count": 60,
   "metadata": {},
   "outputs": [],
   "source": [
    "def subArray(arr, n, k):\n",
    "    Sum = 0\n",
    "    length = 0\n",
    "    left = 0\n",
    "    length = float('inf')\n",
    "    for i in range(n):\n",
    "        Sum += arr[i]\n",
    "        while(Sum > k):\n",
    "            length = min(length, i - left + 1)\n",
    "            print(Sum, i, length)\n",
    "            Sum -= arr[left]\n",
    "            left += 1\n",
    "    return length\n",
    "            \n",
    "            "
   ]
  },
  {
   "cell_type": "code",
   "execution_count": 62,
   "metadata": {},
   "outputs": [
    {
     "name": "stdout",
     "output_type": "stream",
     "text": [
      "56 3 4\n",
      "55 3 3\n",
      "61 4 3\n",
      "91 6 3\n",
      "85 6 3\n",
      "75 6 2\n",
      "56 6 1\n"
     ]
    },
    {
     "data": {
      "text/plain": [
       "1"
      ]
     },
     "execution_count": 62,
     "metadata": {},
     "output_type": "execute_result"
    }
   ],
   "source": [
    "arr = [1,4,45,6,10,19,56]\n",
    "subArray(arr, len(arr), 51)"
   ]
  }
 ],
 "metadata": {
  "kernelspec": {
   "display_name": "Python 3",
   "language": "python",
   "name": "python3"
  },
  "language_info": {
   "codemirror_mode": {
    "name": "ipython",
    "version": 3
   },
   "file_extension": ".py",
   "mimetype": "text/x-python",
   "name": "python",
   "nbconvert_exporter": "python",
   "pygments_lexer": "ipython3",
   "version": "3.8.5"
  }
 },
 "nbformat": 4,
 "nbformat_minor": 4
}
