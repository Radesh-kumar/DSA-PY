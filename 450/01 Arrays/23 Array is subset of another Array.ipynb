{
 "cells": [
  {
   "cell_type": "code",
   "execution_count": 9,
   "metadata": {},
   "outputs": [],
   "source": [
    "def subset(arr1, arr2):\n",
    "    hashSet1 = set()\n",
    "    hashSet2 = set()\n",
    "    for item in arr1:\n",
    "        hashSet1.add(item)\n",
    "    for item in arr2:\n",
    "        hashSet2.add(item)\n",
    "    if(len(arr1) > len(arr2)):\n",
    "        for item in hashSet2:\n",
    "            if item in hashSet1:\n",
    "                continue\n",
    "            else:\n",
    "                return 'No'\n",
    "        return 'Yes'\n",
    "    else:\n",
    "        for item in hashSet1:\n",
    "            if item in hashSet2:\n",
    "                continue\n",
    "            else:\n",
    "                return 'No'\n",
    "        return 'Yes'"
   ]
  },
  {
   "cell_type": "code",
   "execution_count": 16,
   "metadata": {},
   "outputs": [
    {
     "data": {
      "text/plain": [
       "'Yes'"
      ]
     },
     "execution_count": 16,
     "metadata": {},
     "output_type": "execute_result"
    }
   ],
   "source": [
    "subset([98, 97, 96, 95],[100, 99, 98, 97, 96, 95, 94])"
   ]
  },
  {
   "cell_type": "code",
   "execution_count": null,
   "metadata": {},
   "outputs": [],
   "source": []
  }
 ],
 "metadata": {
  "kernelspec": {
   "display_name": "Python 3",
   "language": "python",
   "name": "python3"
  },
  "language_info": {
   "codemirror_mode": {
    "name": "ipython",
    "version": 3
   },
   "file_extension": ".py",
   "mimetype": "text/x-python",
   "name": "python",
   "nbconvert_exporter": "python",
   "pygments_lexer": "ipython3",
   "version": "3.8.5"
  }
 },
 "nbformat": 4,
 "nbformat_minor": 4
}
