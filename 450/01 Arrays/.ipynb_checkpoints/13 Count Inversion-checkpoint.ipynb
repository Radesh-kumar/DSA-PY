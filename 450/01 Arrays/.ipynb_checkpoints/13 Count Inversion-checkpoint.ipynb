{
 "cells": [
  {
   "cell_type": "markdown",
   "metadata": {},
   "source": [
    "### Brute Force"
   ]
  },
  {
   "cell_type": "code",
   "execution_count": 11,
   "metadata": {},
   "outputs": [],
   "source": [
    "# Time Complexity --> O(n^2)"
   ]
  },
  {
   "cell_type": "code",
   "execution_count": 14,
   "metadata": {},
   "outputs": [],
   "source": [
    "def count(arr, n):\n",
    "    count = 0\n",
    "    for i in range(n):\n",
    "        for j in range(i, n):\n",
    "            if(arr[i] > arr[j]):\n",
    "                count += 1\n",
    "    return count"
   ]
  },
  {
   "cell_type": "code",
   "execution_count": 15,
   "metadata": {},
   "outputs": [
    {
     "data": {
      "text/plain": [
       "7"
      ]
     },
     "execution_count": 15,
     "metadata": {},
     "output_type": "execute_result"
    }
   ],
   "source": [
    "arr = [5,3,1,4,2]\n",
    "count(arr, len(arr))"
   ]
  },
  {
   "cell_type": "markdown",
   "metadata": {},
   "source": [
    "### Merge sort Method"
   ]
  },
  {
   "cell_type": "code",
   "execution_count": 16,
   "metadata": {},
   "outputs": [],
   "source": [
    "# Time Complexity --> O(nlog(n))"
   ]
  },
  {
   "cell_type": "code",
   "execution_count": 27,
   "metadata": {},
   "outputs": [],
   "source": [
    "count = 0\n",
    "def merge(left_arr, right_arr):\n",
    "    global count\n",
    "    # i left array index\n",
    "    # j right array index\n",
    "    # k Merged array index\n",
    "    merged_arr = []\n",
    "    i = j = 0\n",
    "    \n",
    "    while(i < len(left_arr) and j < len(right_arr)):\n",
    "        if(left_arr[i] < right_arr[j]):\n",
    "            merged_arr.append(left_arr[i])\n",
    "            i+=1\n",
    "        else:\n",
    "            merged_arr.append(right_arr[j])\n",
    "            ### Important Step ####\n",
    "            count += len(left_arr) - i\n",
    "            ### Important Step ####\n",
    "            j+=1\n",
    "    while(i < len(left_arr)):\n",
    "        merged_arr.append(left_arr[i])\n",
    "        i+=1\n",
    "    while(j < len(right_arr)):\n",
    "        merged_arr.append(right_arr[j])\n",
    "        j+=1\n",
    "    return merged_arr\n",
    "\n",
    "def mergeSort(arr):\n",
    "    if len(arr) < 2:\n",
    "        return arr\n",
    "    \n",
    "    left_arr = arr[:len(arr)//2]\n",
    "    right_arr = arr[len(arr)//2:]\n",
    "\n",
    "    # Recursion\n",
    "    left_arr = mergeSort(left_arr)\n",
    "    right_arr = mergeSort(right_arr)\n",
    "\n",
    "    return merge(left_arr, right_arr)"
   ]
  },
  {
   "cell_type": "code",
   "execution_count": 28,
   "metadata": {},
   "outputs": [
    {
     "data": {
      "text/plain": [
       "[1, 2, 3, 4, 5]"
      ]
     },
     "execution_count": 28,
     "metadata": {},
     "output_type": "execute_result"
    }
   ],
   "source": [
    "arr = [5,3,1,4,2]\n",
    "mergeSort(arr)"
   ]
  },
  {
   "cell_type": "code",
   "execution_count": 29,
   "metadata": {},
   "outputs": [
    {
     "data": {
      "text/plain": [
       "7"
      ]
     },
     "execution_count": 29,
     "metadata": {},
     "output_type": "execute_result"
    }
   ],
   "source": [
    "count"
   ]
  },
  {
   "cell_type": "code",
   "execution_count": null,
   "metadata": {},
   "outputs": [],
   "source": []
  }
 ],
 "metadata": {
  "kernelspec": {
   "display_name": "Python 3",
   "language": "python",
   "name": "python3"
  },
  "language_info": {
   "codemirror_mode": {
    "name": "ipython",
    "version": 3
   },
   "file_extension": ".py",
   "mimetype": "text/x-python",
   "name": "python",
   "nbconvert_exporter": "python",
   "pygments_lexer": "ipython3",
   "version": "3.8.5"
  }
 },
 "nbformat": 4,
 "nbformat_minor": 4
}
