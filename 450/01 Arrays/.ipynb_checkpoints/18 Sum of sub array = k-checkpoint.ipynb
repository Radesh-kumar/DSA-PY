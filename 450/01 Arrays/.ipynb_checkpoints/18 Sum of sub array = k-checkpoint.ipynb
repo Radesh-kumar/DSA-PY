{
 "cells": [
  {
   "cell_type": "markdown",
   "metadata": {},
   "source": [
    "[youtube](https://www.youtube.com/watch?v=fFVZt-6sgyo)"
   ]
  },
  {
   "cell_type": "code",
   "execution_count": 104,
   "metadata": {},
   "outputs": [],
   "source": [
    "def Ksum(arr, n, k):\n",
    "    hashmap = {\n",
    "        0:1\n",
    "    }\n",
    "    result = 0\n",
    "    curSum = 0\n",
    "    for i in range(n):\n",
    "        curSum += arr[i]\n",
    "        # print(curSum - k, hashmap)\n",
    "        if(curSum - k in hashmap):\n",
    "            result += hashmap[curSum - k]\n",
    "        if(curSum in hashmap):\n",
    "            hashmap[curSum] += 1\n",
    "        else:\n",
    "            hashmap[curSum] = 1\n",
    "    return result"
   ]
  },
  {
   "cell_type": "code",
   "execution_count": 105,
   "metadata": {},
   "outputs": [
    {
     "data": {
      "text/plain": [
       "3"
      ]
     },
     "execution_count": 105,
     "metadata": {},
     "output_type": "execute_result"
    }
   ],
   "source": [
    "arr = [1,2,1,1,2]\n",
    "# prefix = [1, 3, 4, 5, 7]\n",
    "Ksum(arr, len(arr),2)"
   ]
  }
 ],
 "metadata": {
  "kernelspec": {
   "display_name": "Python 3",
   "language": "python",
   "name": "python3"
  },
  "language_info": {
   "codemirror_mode": {
    "name": "ipython",
    "version": 3
   },
   "file_extension": ".py",
   "mimetype": "text/x-python",
   "name": "python",
   "nbconvert_exporter": "python",
   "pygments_lexer": "ipython3",
   "version": "3.8.5"
  }
 },
 "nbformat": 4,
 "nbformat_minor": 4
}
