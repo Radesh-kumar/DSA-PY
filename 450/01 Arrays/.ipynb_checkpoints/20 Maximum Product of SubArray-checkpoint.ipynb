{
 "cells": [
  {
   "cell_type": "markdown",
   "metadata": {},
   "source": [
    "[Youtube](https://www.youtube.com/watch?v=lXVy6YWFcRM)"
   ]
  },
  {
   "cell_type": "code",
   "execution_count": 40,
   "metadata": {},
   "outputs": [],
   "source": [
    "def maxProduct(arr, n):\n",
    "    maxSoFar = curMax = arr[0]\n",
    "    curMin = arr[0]\n",
    "    for i in range(1, n):\n",
    "        temp = curMax\n",
    "        curMax = max(arr[i], curMax * arr[i], curMin * arr[i])\n",
    "        curMin = min(arr[i], curMin * arr[i], temp * arr[i])\n",
    "        maxSoFar = max(maxSoFar, curMax)\n",
    "    return maxSoFar"
   ]
  },
  {
   "cell_type": "code",
   "execution_count": 41,
   "metadata": {},
   "outputs": [
    {
     "data": {
      "text/plain": [
       "60480"
      ]
     },
     "execution_count": 41,
     "metadata": {},
     "output_type": "execute_result"
    }
   ],
   "source": [
    "arr = [0, 3, -5, -2, 8, -7, -6, -2, -3, -9]\n",
    "maxProduct(arr, len(arr))"
   ]
  }
 ],
 "metadata": {
  "kernelspec": {
   "display_name": "Python 3",
   "language": "python",
   "name": "python3"
  },
  "language_info": {
   "codemirror_mode": {
    "name": "ipython",
    "version": 3
   },
   "file_extension": ".py",
   "mimetype": "text/x-python",
   "name": "python",
   "nbconvert_exporter": "python",
   "pygments_lexer": "ipython3",
   "version": "3.8.5"
  }
 },
 "nbformat": 4,
 "nbformat_minor": 4
}
