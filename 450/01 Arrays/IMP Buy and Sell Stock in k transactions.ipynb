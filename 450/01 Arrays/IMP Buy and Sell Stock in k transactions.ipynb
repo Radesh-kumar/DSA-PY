{
 "cells": [
  {
   "cell_type": "markdown",
   "metadata": {},
   "source": [
    "[Youtube](https://www.youtube.com/watch?v=6928FkPhGUA)"
   ]
  },
  {
   "cell_type": "code",
   "execution_count": 46,
   "metadata": {},
   "outputs": [],
   "source": [
    "import sys\n",
    "def profit(arr, n, k):\n",
    "    # Case - 1\n",
    "    if(n == 0 or n == 1):\n",
    "        return 0\n",
    "    # Case - 2\n",
    "    elif(k > n):\n",
    "        profit = 0\n",
    "        for i in range(1,n):\n",
    "            if(arr[i] > arr[i-1]):\n",
    "                profit += arr[i] - arr[i-1]\n",
    "        return profit\n",
    "        \n",
    "    # Case - 3\n",
    "    # If 1 < k < n\n",
    "    else:\n",
    "        dp = []\n",
    "        for i in range(2*k):\n",
    "            if(i%2 == 0):\n",
    "                dp.append(-sys.maxsize -1)\n",
    "            else:\n",
    "                dp.append(0)\n",
    "        for i in range(n):\n",
    "            for j in range(len(dp)):\n",
    "                # Skip or Buy at oth index\n",
    "                if(j == 0):\n",
    "                    dp[j] = max(dp[j], -arr[i])\n",
    "                # Skip or Buy at Even Index\n",
    "                elif(j%2 == 0):\n",
    "                    dp[j] = max(dp[j], dp[j - 1] - arr[i])\n",
    "                # Skip or Sell at Odd index\n",
    "                else:\n",
    "                    dp[j] = max(dp[j], dp[j - 1] + arr[i])\n",
    "            print(dp)\n",
    "\n",
    "        return dp[-1]"
   ]
  },
  {
   "cell_type": "code",
   "execution_count": 47,
   "metadata": {},
   "outputs": [
    {
     "data": {
      "text/plain": [
       "7"
      ]
     },
     "execution_count": 47,
     "metadata": {},
     "output_type": "execute_result"
    }
   ],
   "source": [
    "profit([3,2,6,5,0,3], 6, 10)"
   ]
  }
 ],
 "metadata": {
  "kernelspec": {
   "display_name": "Python 3",
   "language": "python",
   "name": "python3"
  },
  "language_info": {
   "codemirror_mode": {
    "name": "ipython",
    "version": 3
   },
   "file_extension": ".py",
   "mimetype": "text/x-python",
   "name": "python",
   "nbconvert_exporter": "python",
   "pygments_lexer": "ipython3",
   "version": "3.8.5"
  }
 },
 "nbformat": 4,
 "nbformat_minor": 4
}
