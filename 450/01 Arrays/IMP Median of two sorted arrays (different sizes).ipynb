{
 "cells": [
  {
   "cell_type": "markdown",
   "metadata": {},
   "source": [
    "[youtube](https://www.youtube.com/watch?v=q6IEA26hvXc)"
   ]
  },
  {
   "cell_type": "code",
   "execution_count": 28,
   "metadata": {},
   "outputs": [],
   "source": [
    "def median(arr1, arr2):\n",
    "    #Check length of two arrays and consider smallest\n",
    "    A = arr1\n",
    "    B = arr2\n",
    "    total = len(arr1) + len(arr2)\n",
    "    half = total // 2\n",
    "\n",
    "    if(len(A)>len(B)):\n",
    "        A, B = B, A\n",
    "\n",
    "    l = 0\n",
    "    r = len(A) - 1\n",
    "    while True:\n",
    "        i = (l + r) // 2  # Median of A\n",
    "        j = half - i -2  # Median of B\n",
    "        \n",
    "        Aleft = A[i] if i >=0 else float('-inf')\n",
    "        Bleft = B[j] if j >=0 else float('-inf')\n",
    "        Aright = A[i+1] if i + 1 < len(A) else float('inf')\n",
    "        Bright = B[j+1] if j + 1 < len(B) else float('inf')\n",
    "        \n",
    "        if(Bleft <= Aright and Aleft <= Bright):\n",
    "            # even median\n",
    "            if(total % 2 == 0):\n",
    "                return (max(Aleft,Bleft) + min(Aright,Bright)) / 2\n",
    "            else:\n",
    "                return min(Aright, Bright)\n",
    "        elif(Bleft > Aright):\n",
    "            # If A is lesser we have to increase i\n",
    "            # For increasing we use left pointer\n",
    "            l = i + 1\n",
    "        else:\n",
    "            # Aleft > Bright\n",
    "            # If A is greater we have to decrease i\n",
    "            # For decreasing we use right pointer\n",
    "            r = i - 1\n",
    "            \n",
    "        "
   ]
  },
  {
   "cell_type": "code",
   "execution_count": 29,
   "metadata": {},
   "outputs": [
    {
     "data": {
      "text/plain": [
       "4"
      ]
     },
     "execution_count": 29,
     "metadata": {},
     "output_type": "execute_result"
    }
   ],
   "source": [
    "arr1 = [0,2,4,6,8,10,12]\n",
    "arr2 = [0,1,2,3,4,5]\n",
    "median(arr1,arr2)"
   ]
  },
  {
   "cell_type": "code",
   "execution_count": null,
   "metadata": {},
   "outputs": [],
   "source": []
  },
  {
   "cell_type": "code",
   "execution_count": null,
   "metadata": {},
   "outputs": [],
   "source": []
  }
 ],
 "metadata": {
  "kernelspec": {
   "display_name": "Python 3",
   "language": "python",
   "name": "python3"
  },
  "language_info": {
   "codemirror_mode": {
    "name": "ipython",
    "version": 3
   },
   "file_extension": ".py",
   "mimetype": "text/x-python",
   "name": "python",
   "nbconvert_exporter": "python",
   "pygments_lexer": "ipython3",
   "version": "3.8.5"
  }
 },
 "nbformat": 4,
 "nbformat_minor": 4
}
