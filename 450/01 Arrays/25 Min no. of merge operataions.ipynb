{
 "cells": [
  {
   "cell_type": "markdown",
   "metadata": {},
   "source": [
    "[Youtube](https://www.youtube.com/watch?v=ls3EKAm8Vok)"
   ]
  },
  {
   "cell_type": "code",
   "execution_count": 23,
   "metadata": {},
   "outputs": [],
   "source": [
    "def min(arr):\n",
    "    i = 0\n",
    "    j = len(arr) - 1\n",
    "    count = 0\n",
    "    while(i < j):\n",
    "        if arr[i] == arr[j]:\n",
    "            i += 1\n",
    "            j -= 1\n",
    "        elif(arr[i] > arr[j]):\n",
    "            count += 1\n",
    "            arr[j-1] += arr[j]\n",
    "            j -= 1\n",
    "        else:\n",
    "            count += 1\n",
    "            arr[i + 1] += arr[i]\n",
    "            i += 1\n",
    "    return count"
   ]
  },
  {
   "cell_type": "code",
   "execution_count": 24,
   "metadata": {},
   "outputs": [
    {
     "data": {
      "text/plain": [
       "1"
      ]
     },
     "execution_count": 24,
     "metadata": {},
     "output_type": "execute_result"
    }
   ],
   "source": [
    "arr = [5, 4, 4, 4, 1]\n",
    "min(arr)"
   ]
  },
  {
   "cell_type": "code",
   "execution_count": null,
   "metadata": {},
   "outputs": [],
   "source": []
  }
 ],
 "metadata": {
  "kernelspec": {
   "display_name": "Python 3",
   "language": "python",
   "name": "python3"
  },
  "language_info": {
   "codemirror_mode": {
    "name": "ipython",
    "version": 3
   },
   "file_extension": ".py",
   "mimetype": "text/x-python",
   "name": "python",
   "nbconvert_exporter": "python",
   "pygments_lexer": "ipython3",
   "version": "3.8.5"
  }
 },
 "nbformat": 4,
 "nbformat_minor": 4
}
