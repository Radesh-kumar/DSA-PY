{
 "cells": [
  {
   "cell_type": "code",
   "execution_count": 27,
   "metadata": {},
   "outputs": [],
   "source": [
    "def threeWay(arr, a, b):\n",
    "    left = 0\n",
    "    right = len(arr) - 1\n",
    "    i = 0\n",
    "    while(i <= right):\n",
    "        print(arr[i], a, b)\n",
    "        if(arr[i] > b):\n",
    "            arr[i] , arr[right] = arr[right], arr[i]\n",
    "            right -= 1\n",
    "            i -= 1\n",
    "        elif(arr[i] < a):\n",
    "            arr[left] , arr[i] = arr[i], arr[left]\n",
    "            left += 1\n",
    "        i += 1\n",
    "    return arr\n",
    "    "
   ]
  },
  {
   "cell_type": "code",
   "execution_count": 28,
   "metadata": {},
   "outputs": [
    {
     "name": "stdout",
     "output_type": "stream",
     "text": [
      "5 2 4\n",
      "3 2 4\n",
      "7 2 4\n",
      "6 2 4\n",
      "4 2 4\n",
      "1 2 4\n"
     ]
    },
    {
     "data": {
      "text/plain": [
       "[1, 4, 3, 6, 7, 5]"
      ]
     },
     "execution_count": 28,
     "metadata": {},
     "output_type": "execute_result"
    }
   ],
   "source": [
    "arr = [5,7,1,4,6,3]\n",
    "threeWay(arr, 2, 4)"
   ]
  },
  {
   "cell_type": "code",
   "execution_count": null,
   "metadata": {},
   "outputs": [],
   "source": []
  }
 ],
 "metadata": {
  "kernelspec": {
   "display_name": "Python 3",
   "language": "python",
   "name": "python3"
  },
  "language_info": {
   "codemirror_mode": {
    "name": "ipython",
    "version": 3
   },
   "file_extension": ".py",
   "mimetype": "text/x-python",
   "name": "python",
   "nbconvert_exporter": "python",
   "pygments_lexer": "ipython3",
   "version": "3.8.5"
  }
 },
 "nbformat": 4,
 "nbformat_minor": 4
}
