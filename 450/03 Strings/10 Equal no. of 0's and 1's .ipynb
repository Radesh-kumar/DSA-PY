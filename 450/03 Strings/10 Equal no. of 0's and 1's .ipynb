{
 "cells": [
  {
   "cell_type": "code",
   "execution_count": 9,
   "metadata": {},
   "outputs": [],
   "source": [
    "# Count no. of sub strings with equal 0's and 1's"
   ]
  },
  {
   "cell_type": "markdown",
   "metadata": {},
   "source": [
    "[Geeks For Geeks](https://www.geeksforgeeks.org/split-the-binary-string-into-substrings-with-equal-number-of-0s-and-1s/)"
   ]
  },
  {
   "cell_type": "code",
   "execution_count": 13,
   "metadata": {},
   "outputs": [],
   "source": [
    "def count(str1, n):\n",
    "    count0 = 0\n",
    "    count1 = 0\n",
    "    count = 0\n",
    "    for char in str1:\n",
    "        if(char == '0'):\n",
    "            count0 += 1\n",
    "        else:\n",
    "            count1 += 1\n",
    "        if(count0 == count1):\n",
    "            count += 1\n",
    "    return count"
   ]
  },
  {
   "cell_type": "code",
   "execution_count": 15,
   "metadata": {},
   "outputs": [
    {
     "data": {
      "text/plain": [
       "4"
      ]
     },
     "execution_count": 15,
     "metadata": {},
     "output_type": "execute_result"
    }
   ],
   "source": [
    "str1 = '0100110101'\n",
    "count(str1, len(str1))"
   ]
  },
  {
   "cell_type": "code",
   "execution_count": 12,
   "metadata": {},
   "outputs": [],
   "source": [
    "# Count max no. of 0's and 1's"
   ]
  },
  {
   "cell_type": "code",
   "execution_count": 51,
   "metadata": {},
   "outputs": [],
   "source": [
    "def count(str1, n):\n",
    "    count0 = 0\n",
    "    count1 = 0\n",
    "    maxSoFar = 0\n",
    "    \n",
    "    # Handling 1st value\n",
    "    if(str1[0] == '0'):\n",
    "        count0 += 1\n",
    "    else:\n",
    "        count1 += 1\n",
    "\n",
    "    # Handling rest of it\n",
    "    # Handle all cases like (0,0), (0,1), (1,0), (1,1) \n",
    "    for i in range(1,len(str1)):\n",
    "        if(str1[i] == '0'):\n",
    "            # Prev\n",
    "            if(str1[i-1] == '1'):\n",
    "                count1 = 0\n",
    "                count0 = 0\n",
    "            count0 += 1\n",
    "\n",
    "        elif(str1[i] == '1'):\n",
    "            count1 += 1\n",
    "            \n",
    "        if(count0 == count1):\n",
    "            maxSoFar = max(count0, maxSoFar)\n",
    "    return maxSoFar"
   ]
  },
  {
   "cell_type": "code",
   "execution_count": 1,
   "metadata": {},
   "outputs": [
    {
     "ename": "NameError",
     "evalue": "name 'count' is not defined",
     "output_type": "error",
     "traceback": [
      "\u001b[1;31m---------------------------------------------------------------------------\u001b[0m",
      "\u001b[1;31mNameError\u001b[0m                                 Traceback (most recent call last)",
      "\u001b[1;32m<ipython-input-1-f1037b58473c>\u001b[0m in \u001b[0;36m<module>\u001b[1;34m\u001b[0m\n\u001b[0;32m      1\u001b[0m \u001b[0mstr1\u001b[0m \u001b[1;33m=\u001b[0m \u001b[1;34m'0101000011110'\u001b[0m\u001b[1;33m\u001b[0m\u001b[1;33m\u001b[0m\u001b[0m\n\u001b[1;32m----> 2\u001b[1;33m \u001b[0mcount\u001b[0m\u001b[1;33m(\u001b[0m\u001b[0mstr1\u001b[0m\u001b[1;33m,\u001b[0m \u001b[0mlen\u001b[0m\u001b[1;33m(\u001b[0m\u001b[0mstr1\u001b[0m\u001b[1;33m)\u001b[0m\u001b[1;33m)\u001b[0m\u001b[1;33m\u001b[0m\u001b[1;33m\u001b[0m\u001b[0m\n\u001b[0m",
      "\u001b[1;31mNameError\u001b[0m: name 'count' is not defined"
     ]
    }
   ],
   "source": [
    "str1 = '0101000011110'\n",
    "count(str1, len(str1))"
   ]
  },
  {
   "cell_type": "code",
   "execution_count": 24,
   "metadata": {},
   "outputs": [],
   "source": [
    "memo = {}\n",
    "def fib(n: int):\n",
    "    if(n == 1):\n",
    "        return 1\n",
    "    if(n == 0):\n",
    "        return 0\n",
    "    if(n-1 not in memo):\n",
    "        memo[n-1] = fib(n-1)\n",
    "    if(n-2 not in memo):\n",
    "        memo[n-2] = fib(n-2)\n",
    "\n",
    "    return memo[n-1] + memo[n-2]"
   ]
  },
  {
   "cell_type": "code",
   "execution_count": 28,
   "metadata": {},
   "outputs": [
    {
     "data": {
      "text/plain": [
       "354224848179261915075"
      ]
     },
     "execution_count": 28,
     "metadata": {},
     "output_type": "execute_result"
    }
   ],
   "source": [
    "fib(100)"
   ]
  },
  {
   "cell_type": "code",
   "execution_count": null,
   "metadata": {},
   "outputs": [],
   "source": []
  }
 ],
 "metadata": {
  "kernelspec": {
   "display_name": "Python 3",
   "language": "python",
   "name": "python3"
  },
  "language_info": {
   "codemirror_mode": {
    "name": "ipython",
    "version": 3
   },
   "file_extension": ".py",
   "mimetype": "text/x-python",
   "name": "python",
   "nbconvert_exporter": "python",
   "pygments_lexer": "ipython3",
   "version": "3.8.5"
  }
 },
 "nbformat": 4,
 "nbformat_minor": 4
}
