{
 "cells": [
  {
   "cell_type": "markdown",
   "metadata": {},
   "source": [
    "[NeetCode](https://www.youtube.com/watch?v=Ua0GhsJSlWM)\n",
    "\n",
    "[Tech Dose](https://www.youtube.com/watch?v=LAKWWDX3sGw)"
   ]
  },
  {
   "cell_type": "code",
   "execution_count": 42,
   "metadata": {},
   "outputs": [],
   "source": [
    "# Note in Brute force approach we have 2^n possibilites of sub sequence\n",
    "# Since each character has 2 possibilities\n",
    "# They can exist or they dont\n",
    "# So, 2 x 2 x 2 ... ntimes ... x 2 = O(2^n)\n",
    "\n",
    "# By using dynamic programming we can reduce exponential time -> Quadratic\n",
    "# Time Complexity = O(n * m)\n",
    "# Space Complexity = O(n * m)"
   ]
  },
  {
   "cell_type": "code",
   "execution_count": 76,
   "metadata": {},
   "outputs": [],
   "source": [
    "def subsequence(str1, str2):\n",
    "    dp = [[0 for j in range(len(str2) + 1)] for i in range(len(str1) + 1)]\n",
    "    for i in range(len(str1) -1, -1, -1):\n",
    "        for j in range(len(str2) -1, -1, -1):\n",
    "            if(str1[i] == str2[j]):\n",
    "                dp[i][j] = 1 + dp[i + 1][j + 1]\n",
    "            else:\n",
    "                dp[i][j] = max(dp[i+1][j], dp[i][j+1])\n",
    "    print(dp[0][0])\n",
    "    return dp"
   ]
  },
  {
   "cell_type": "code",
   "execution_count": 77,
   "metadata": {},
   "outputs": [
    {
     "name": "stdout",
     "output_type": "stream",
     "text": [
      "5\n"
     ]
    },
    {
     "data": {
      "text/plain": [
       "[[5, 4, 3, 2, 1, 0],\n",
       " [4, 4, 3, 2, 1, 0],\n",
       " [3, 3, 3, 2, 1, 0],\n",
       " [2, 2, 2, 2, 1, 0],\n",
       " [1, 1, 1, 1, 1, 0],\n",
       " [0, 0, 0, 0, 0, 0],\n",
       " [0, 0, 0, 0, 0, 0]]"
      ]
     },
     "execution_count": 77,
     "metadata": {},
     "output_type": "execute_result"
    }
   ],
   "source": [
    "subsequence('abcdef', 'abcde')"
   ]
  },
  {
   "cell_type": "code",
   "execution_count": null,
   "metadata": {},
   "outputs": [],
   "source": []
  }
 ],
 "metadata": {
  "kernelspec": {
   "display_name": "Python 3",
   "language": "python",
   "name": "python3"
  },
  "language_info": {
   "codemirror_mode": {
    "name": "ipython",
    "version": 3
   },
   "file_extension": ".py",
   "mimetype": "text/x-python",
   "name": "python",
   "nbconvert_exporter": "python",
   "pygments_lexer": "ipython3",
   "version": "3.8.5"
  }
 },
 "nbformat": 4,
 "nbformat_minor": 4
}
