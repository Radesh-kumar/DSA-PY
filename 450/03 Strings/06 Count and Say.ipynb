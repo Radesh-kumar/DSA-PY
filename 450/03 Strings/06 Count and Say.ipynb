{
 "cells": [
  {
   "cell_type": "markdown",
   "metadata": {},
   "source": [
    "[Youtube](https://www.youtube.com/watch?v=1YUqtoT9YoE)"
   ]
  },
  {
   "cell_type": "code",
   "execution_count": 36,
   "metadata": {},
   "outputs": [],
   "source": [
    "def countAndSay(n):\n",
    "    if(n == 1):\n",
    "        return '1'\n",
    "    if(n == 2):\n",
    "        return '11'\n",
    "    str1 = '11'\n",
    "    for i in range(2,n):\n",
    "        str1 += '$'\n",
    "        count = 1\n",
    "        prev = str1[0]\n",
    "        output = ''\n",
    "        for i in range(1,len(str1)):\n",
    "            if(str1[i] == prev):\n",
    "                count += 1\n",
    "            else:\n",
    "                output += str(count)\n",
    "                output += str(prev)\n",
    "                count = 1\n",
    "#             print(str1[i], output)\n",
    "            prev = str1[i]\n",
    "        str1 = output\n",
    "    return output"
   ]
  },
  {
   "cell_type": "code",
   "execution_count": 39,
   "metadata": {},
   "outputs": [
    {
     "data": {
      "text/plain": [
       "'111221'"
      ]
     },
     "execution_count": 39,
     "metadata": {},
     "output_type": "execute_result"
    }
   ],
   "source": [
    "countAndSay(5)"
   ]
  },
  {
   "cell_type": "code",
   "execution_count": null,
   "metadata": {},
   "outputs": [],
   "source": [
    "# 13112221"
   ]
  }
 ],
 "metadata": {
  "kernelspec": {
   "display_name": "Python 3",
   "language": "python",
   "name": "python3"
  },
  "language_info": {
   "codemirror_mode": {
    "name": "ipython",
    "version": 3
   },
   "file_extension": ".py",
   "mimetype": "text/x-python",
   "name": "python",
   "nbconvert_exporter": "python",
   "pygments_lexer": "ipython3",
   "version": "3.8.5"
  }
 },
 "nbformat": 4,
 "nbformat_minor": 4
}
