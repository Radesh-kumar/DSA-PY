{
 "cells": [
  {
   "cell_type": "code",
   "execution_count": 1,
   "metadata": {},
   "outputs": [],
   "source": [
    "# Note Anagram is not rotation"
   ]
  },
  {
   "cell_type": "markdown",
   "metadata": {},
   "source": [
    "[Youtube](https://www.youtube.com/watch?v=fYgU6Bi2fRg)"
   ]
  },
  {
   "cell_type": "code",
   "execution_count": 59,
   "metadata": {},
   "outputs": [],
   "source": [
    "def anagram(str1, str2):\n",
    "    n1 = len(str1)\n",
    "    n2 = len(str2)\n",
    "    hm1 = {}\n",
    "    hm2 = {}\n",
    "    count = 0\n",
    "    # Adding substring to the 2nd hash map\n",
    "    for item in str2:\n",
    "        if(item in hm2):\n",
    "            hm2[item] += 1\n",
    "        else:\n",
    "            hm2[item] = 1\n",
    "    \n",
    "    # Adding elements to to hash map via sliding window format\n",
    "    for i in range(n2):\n",
    "        if(str1[i] in hm1):\n",
    "            hm1[str1[i]] += 1\n",
    "        else:\n",
    "            hm1[str1[i]] = 1\n",
    "        if(hm2 == hm1):\n",
    "            count += 1\n",
    "            print('Found at index :', 0)\n",
    "    i = 0\n",
    "    j = n2\n",
    "    while(j < n1):\n",
    "        ### Removing ith element\n",
    "        # Decrement if count > 1\n",
    "        if(hm1[str1[i]] > 1):\n",
    "            hm1[str1[i]] -= 1\n",
    "        # Delete element if count = 1\n",
    "        else:\n",
    "            del hm1[str1[i]]\n",
    "        \n",
    "        ### Adding jth element\n",
    "        if str1[j] in hm1:\n",
    "            hm1[str1[j]] += 1\n",
    "        else:\n",
    "            hm1[str1[j]] = 1\n",
    "\n",
    "        if(hm2 == hm1):\n",
    "            count += 1\n",
    "            print('Found at index :', i + 1)\n",
    "        i += 1\n",
    "        j += 1\n",
    "    return count"
   ]
  },
  {
   "cell_type": "code",
   "execution_count": 60,
   "metadata": {},
   "outputs": [
    {
     "name": "stdout",
     "output_type": "stream",
     "text": [
      "Found at index : 0\n",
      "Found at index : 1\n",
      "Found at index : 4\n"
     ]
    },
    {
     "data": {
      "text/plain": [
       "3"
      ]
     },
     "execution_count": 60,
     "metadata": {},
     "output_type": "execute_result"
    }
   ],
   "source": [
    "str1 = 'AAABABAA'\n",
    "str2 = 'AABA'\n",
    "anagram(str1,str2)"
   ]
  },
  {
   "cell_type": "code",
   "execution_count": null,
   "metadata": {},
   "outputs": [],
   "source": []
  }
 ],
 "metadata": {
  "kernelspec": {
   "display_name": "Python 3",
   "language": "python",
   "name": "python3"
  },
  "language_info": {
   "codemirror_mode": {
    "name": "ipython",
    "version": 3
   },
   "file_extension": ".py",
   "mimetype": "text/x-python",
   "name": "python",
   "nbconvert_exporter": "python",
   "pygments_lexer": "ipython3",
   "version": "3.8.5"
  }
 },
 "nbformat": 4,
 "nbformat_minor": 4
}
