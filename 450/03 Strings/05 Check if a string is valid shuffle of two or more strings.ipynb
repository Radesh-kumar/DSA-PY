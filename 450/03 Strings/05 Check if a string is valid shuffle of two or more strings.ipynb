{
 "cells": [
  {
   "cell_type": "code",
   "execution_count": null,
   "metadata": {},
   "outputs": [],
   "source": [
    "# Check if s1 + s2 is anagram of s3\n",
    "# Method 1: find all permutation - O(n!)\n",
    "# Method 2: Sort two strings and compare - nlog(n)\n",
    "# Method 3: Hash Maps - O(n+m) / O(2n)"
   ]
  },
  {
   "cell_type": "code",
   "execution_count": 8,
   "metadata": {},
   "outputs": [],
   "source": [
    "def isShuffled(s1,s2,s3):\n",
    "    if(len(s1) + len(s2) != len(s3)):\n",
    "        return False\n",
    "    temp = s1 + s2\n",
    "    hm1 = {}\n",
    "    hm2 = {}\n",
    "    \n",
    "    ### Adding s1 + s2 in hashmap 1\n",
    "    for item in temp:\n",
    "        if(item in hm1):\n",
    "            hm1[item] += 1\n",
    "        else:\n",
    "            hm1[item] = 1\n",
    "    \n",
    "    ### Adding s3 in hashmap2\n",
    "    for item in s3:\n",
    "        if(item in hm2):\n",
    "            hm2[item] += 1\n",
    "        else:\n",
    "            hm2[item] = 1\n",
    "    \n",
    "    ### Checking if two hashmaps are same\n",
    "    if(hm1 == hm2):\n",
    "        return True\n",
    "    return False\n",
    "    \n",
    "            \n",
    "            \n",
    "    "
   ]
  },
  {
   "cell_type": "code",
   "execution_count": 11,
   "metadata": {},
   "outputs": [
    {
     "data": {
      "text/plain": [
       "True"
      ]
     },
     "execution_count": 11,
     "metadata": {},
     "output_type": "execute_result"
    }
   ],
   "source": [
    "s1 = 'abcd'\n",
    "s2 = 'dbca'\n",
    "s3 = 'abcdabcd'\n",
    "isShuffled(s1,s2,s3)"
   ]
  },
  {
   "cell_type": "code",
   "execution_count": null,
   "metadata": {},
   "outputs": [],
   "source": []
  },
  {
   "cell_type": "code",
   "execution_count": null,
   "metadata": {},
   "outputs": [],
   "source": []
  }
 ],
 "metadata": {
  "kernelspec": {
   "display_name": "Python 3",
   "language": "python",
   "name": "python3"
  },
  "language_info": {
   "codemirror_mode": {
    "name": "ipython",
    "version": 3
   },
   "file_extension": ".py",
   "mimetype": "text/x-python",
   "name": "python",
   "nbconvert_exporter": "python",
   "pygments_lexer": "ipython3",
   "version": "3.8.5"
  }
 },
 "nbformat": 4,
 "nbformat_minor": 4
}
