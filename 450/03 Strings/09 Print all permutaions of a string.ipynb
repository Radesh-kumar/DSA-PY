{
 "cells": [
  {
   "cell_type": "code",
   "execution_count": 25,
   "metadata": {},
   "outputs": [],
   "source": [
    "def permutations(arr, n, l):\n",
    "    if(l == n-1):\n",
    "        print(arr)\n",
    "        return\n",
    "    for i in range(l,n):\n",
    "        arr[i], arr[l] = arr[l], arr[i]\n",
    "        permutations(arr, n, l+1)\n",
    "        arr[i], arr[l] = arr[l], arr[i] ### Back Tracking in order to restore head position\n",
    "        \n"
   ]
  },
  {
   "cell_type": "code",
   "execution_count": 26,
   "metadata": {},
   "outputs": [
    {
     "name": "stdout",
     "output_type": "stream",
     "text": [
      "['a', 'b', 'c']\n",
      "['a', 'c', 'b']\n",
      "['c', 'a', 'b']\n",
      "['c', 'b', 'a']\n",
      "['a', 'b', 'c']\n",
      "['a', 'c', 'b']\n"
     ]
    }
   ],
   "source": [
    "str1 = 'abc'\n",
    "arr = list(str1)\n",
    "permutations(arr, len(str1), 0)"
   ]
  },
  {
   "cell_type": "code",
   "execution_count": null,
   "metadata": {},
   "outputs": [],
   "source": []
  },
  {
   "cell_type": "code",
   "execution_count": null,
   "metadata": {},
   "outputs": [],
   "source": []
  }
 ],
 "metadata": {
  "kernelspec": {
   "display_name": "Python 3",
   "language": "python",
   "name": "python3"
  },
  "language_info": {
   "codemirror_mode": {
    "name": "ipython",
    "version": 3
   },
   "file_extension": ".py",
   "mimetype": "text/x-python",
   "name": "python",
   "nbconvert_exporter": "python",
   "pygments_lexer": "ipython3",
   "version": "3.8.5"
  }
 },
 "nbformat": 4,
 "nbformat_minor": 4
}
