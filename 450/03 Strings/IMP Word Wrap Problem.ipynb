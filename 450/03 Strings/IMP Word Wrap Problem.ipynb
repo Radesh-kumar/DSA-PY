{
 "cells": [
  {
   "cell_type": "markdown",
   "metadata": {},
   "source": [
    "[youtube](https://www.youtube.com/watch?v=FiQY3K4_xPo&t=906s)"
   ]
  },
  {
   "cell_type": "code",
   "execution_count": 3,
   "metadata": {},
   "outputs": [
    {
     "name": "stdout",
     "output_type": "stream",
     "text": [
      "Line number  1 : From word no.  1 to  1\n",
      "Line number  2 : From word no.  2 to  3\n",
      "Line number  3 : From word no.  4 to  4\n"
     ]
    }
   ],
   "source": [
    "INF = 2147483647\n",
    "def printSolution(p, n):\n",
    "    k = 0\n",
    "    if p[n] == 1:\n",
    "        k = 1\n",
    "    else:\n",
    "        k = printSolution(p, p[n] - 1) + 1\n",
    "    print('Line number ', k, ': From word no. ',\n",
    "                                 p[n], 'to ', n)\n",
    "    return k\n",
    " \n",
    "def solveWordWrap (l, n, M):\n",
    "     \n",
    "    # For simplicity, 1 extra space is\n",
    "    # used in all below arrays\n",
    " \n",
    "    # extras[i][j] will have number\n",
    "    # of extra spaces if words from i\n",
    "    # to j are put in a single line\n",
    "    extras = [[0 for i in range(n + 1)]\n",
    "                 for i in range(n + 1)]\n",
    "                  \n",
    "    # lc[i][j] will have cost of a line\n",
    "    # which has words from i to j\n",
    "    lc = [[0 for i in range(n + 1)]\n",
    "             for i in range(n + 1)]\n",
    "              \n",
    "    # c[i] will have total cost of\n",
    "    # optimal arrangement of words\n",
    "    # from 1 to i\n",
    "    c = [0 for i in range(n + 1)]\n",
    "     \n",
    "    # p[] is used to print the solution.\n",
    "    p = [0 for i in range(n + 1)]\n",
    "     \n",
    "    # calculate extra spaces in a single\n",
    "    # line. The value extra[i][j] indicates\n",
    "    # extra spaces if words from word number\n",
    "    # i to j are placed in a single line\n",
    "    for i in range(n + 1):\n",
    "        extras[i][i] = M - l[i - 1]\n",
    "        for j in range(i + 1, n + 1):\n",
    "            extras[i][j] = (extras[i][j - 1] -\n",
    "                                    l[j - 1] - 1)\n",
    "                                     \n",
    "    # Calculate line cost corresponding\n",
    "    # to the above calculated extra\n",
    "    # spaces. The value lc[i][j] indicates\n",
    "    # cost of putting words from word number\n",
    "    # i to j in a single line\n",
    "    for i in range(n + 1):\n",
    "        for j in range(i, n + 1):\n",
    "            if extras[i][j] < 0:\n",
    "                lc[i][j] = INF;\n",
    "            elif j == n and extras[i][j] >= 0:\n",
    "                lc[i][j] = 0\n",
    "            else:\n",
    "                lc[i][j] = (extras[i][j] *\n",
    "                            extras[i][j])\n",
    " \n",
    "    # Calculate minimum cost and find\n",
    "    # minimum cost arrangement. The value\n",
    "    # c[j] indicates optimized cost to\n",
    "    # arrange words from word number 1 to j.\n",
    "    c[0] = 0\n",
    "    for j in range(1, n + 1):\n",
    "        c[j] = INF\n",
    "        for i in range(1, j + 1):\n",
    "            if (c[i - 1] != INF and\n",
    "                lc[i][j] != INF and\n",
    "                ((c[i - 1] + lc[i][j]) < c[j])):\n",
    "                c[j] = c[i-1] + lc[i][j]\n",
    "                p[j] = i\n",
    "    printSolution(p, n)\n",
    "     \n",
    "# Driver Code\n",
    "l = [3, 2, 2, 5]\n",
    "n = len(l)\n",
    "M = 6\n",
    "solveWordWrap(l, n, M)"
   ]
  }
 ],
 "metadata": {
  "kernelspec": {
   "display_name": "Python 3",
   "language": "python",
   "name": "python3"
  },
  "language_info": {
   "codemirror_mode": {
    "name": "ipython",
    "version": 3
   },
   "file_extension": ".py",
   "mimetype": "text/x-python",
   "name": "python",
   "nbconvert_exporter": "python",
   "pygments_lexer": "ipython3",
   "version": "3.8.5"
  }
 },
 "nbformat": 4,
 "nbformat_minor": 4
}
