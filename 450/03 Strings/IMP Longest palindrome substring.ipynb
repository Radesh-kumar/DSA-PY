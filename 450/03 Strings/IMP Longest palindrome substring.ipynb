{
 "cells": [
  {
   "cell_type": "markdown",
   "metadata": {},
   "source": [
    "[NeetCode](https://www.youtube.com/watch?v=XYQecbcd6_c)"
   ]
  },
  {
   "cell_type": "code",
   "execution_count": 57,
   "metadata": {},
   "outputs": [],
   "source": [
    "def palindrome(str1):\n",
    "    bestlength = 0\n",
    "    bestsubstr = ''\n",
    "    total = len(str1)\n",
    "    for mid in range(total):\n",
    "        ### For odd length\n",
    "        ### Note: There can be max odd length in total length of even numbers\n",
    "        ### Ex: aaab\n",
    "        l, r = mid, mid\n",
    "        while(l >= 0 and r < total and str1[l] == str1[r]):\n",
    "            currlength = r - l + 1\n",
    "            if(currlength > bestlength):\n",
    "                bestlength = currlength\n",
    "                bestsubstr = str1[l: r+1]\n",
    "            l -= 1\n",
    "            r += 1\n",
    "            \n",
    "        ### For even length\n",
    "        ### Note: There can be max even length in total length of odd numbers\n",
    "        ### Ex: aaaab\n",
    "        l, r = mid, mid + 1\n",
    "        while(l >= 0 and r < total and str1[l] == str1[r]):\n",
    "            currlength = r - l + 1\n",
    "            if(currlength > bestlength):\n",
    "                bestlength = currlength\n",
    "                bestsubstr = str1[l: r+1]\n",
    "            l -= 1\n",
    "            r += 1       \n",
    "    return bestsubstr\n",
    "            \n",
    "        "
   ]
  },
  {
   "cell_type": "code",
   "execution_count": 60,
   "metadata": {},
   "outputs": [
    {
     "data": {
      "text/plain": [
       "'baaaab'"
      ]
     },
     "execution_count": 60,
     "metadata": {},
     "output_type": "execute_result"
    }
   ],
   "source": [
    "str1 = 'baaaab'\n",
    "palindrome(str1)"
   ]
  },
  {
   "cell_type": "code",
   "execution_count": null,
   "metadata": {},
   "outputs": [],
   "source": []
  },
  {
   "cell_type": "code",
   "execution_count": null,
   "metadata": {},
   "outputs": [],
   "source": []
  }
 ],
 "metadata": {
  "kernelspec": {
   "display_name": "Python 3",
   "language": "python",
   "name": "python3"
  },
  "language_info": {
   "codemirror_mode": {
    "name": "ipython",
    "version": 3
   },
   "file_extension": ".py",
   "mimetype": "text/x-python",
   "name": "python",
   "nbconvert_exporter": "python",
   "pygments_lexer": "ipython3",
   "version": "3.8.5"
  }
 },
 "nbformat": 4,
 "nbformat_minor": 4
}
