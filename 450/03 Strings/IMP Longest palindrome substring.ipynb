{
 "cells": [
  {
   "cell_type": "code",
   "execution_count": 15,
   "metadata": {},
   "outputs": [],
   "source": [
    "def palindrome(str1):\n",
    "    currlength = 1\n",
    "    maxlength = 1\n",
    "    i = 0\n",
    "    j = len(str1) - 1\n",
    "    for i in range(1,len(str1)):\n",
    "        ### For odd Numbers\n",
    "        j = i - 1\n",
    "        k = i + 1\n",
    "        while (j <= 0 and k < len(str1)):\n",
    "            print(str1[j], str1[k])\n",
    "            if(str1[j] == str1[k]):\n",
    "                j -= 1\n",
    "                k += 1\n",
    "                currlength += 2\n",
    "            else:\n",
    "                break\n",
    "    \n",
    "        maxlength = max(currlength, maxlength)\n",
    "    return maxlength\n",
    "            \n",
    "        "
   ]
  },
  {
   "cell_type": "code",
   "execution_count": 17,
   "metadata": {},
   "outputs": [
    {
     "name": "stdout",
     "output_type": "stream",
     "text": [
      "a a\n",
      "a a\n",
      "a a\n"
     ]
    },
    {
     "data": {
      "text/plain": [
       "7"
      ]
     },
     "execution_count": 17,
     "metadata": {},
     "output_type": "execute_result"
    }
   ],
   "source": [
    "str1 = 'aaaaa'\n",
    "palindrome(str1)"
   ]
  },
  {
   "cell_type": "code",
   "execution_count": null,
   "metadata": {},
   "outputs": [],
   "source": []
  },
  {
   "cell_type": "code",
   "execution_count": null,
   "metadata": {},
   "outputs": [],
   "source": []
  }
 ],
 "metadata": {
  "kernelspec": {
   "display_name": "Python 3",
   "language": "python",
   "name": "python3"
  },
  "language_info": {
   "codemirror_mode": {
    "name": "ipython",
    "version": 3
   },
   "file_extension": ".py",
   "mimetype": "text/x-python",
   "name": "python",
   "nbconvert_exporter": "python",
   "pygments_lexer": "ipython3",
   "version": "3.8.5"
  }
 },
 "nbformat": 4,
 "nbformat_minor": 4
}
