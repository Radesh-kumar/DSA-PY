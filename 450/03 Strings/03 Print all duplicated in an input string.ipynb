{
 "cells": [
  {
   "cell_type": "code",
   "execution_count": 8,
   "metadata": {},
   "outputs": [],
   "source": [
    "def duplicates(string):\n",
    "    hashDict = {}\n",
    "    for item in string:\n",
    "        if(item in hashDict):\n",
    "            hashDict[item] += 1\n",
    "        else:\n",
    "            hashDict[item] = 1\n",
    "    for key,value in hashDict.items():\n",
    "        if(value > 1):\n",
    "            print(key,': ', value)"
   ]
  },
  {
   "cell_type": "code",
   "execution_count": 11,
   "metadata": {},
   "outputs": [
    {
     "name": "stdout",
     "output_type": "stream",
     "text": [
      "g :  2\n"
     ]
    }
   ],
   "source": [
    "string = 'abcdefgg'\n",
    "duplicates(string)"
   ]
  },
  {
   "cell_type": "code",
   "execution_count": null,
   "metadata": {},
   "outputs": [],
   "source": []
  }
 ],
 "metadata": {
  "kernelspec": {
   "display_name": "Python 3",
   "language": "python",
   "name": "python3"
  },
  "language_info": {
   "codemirror_mode": {
    "name": "ipython",
    "version": 3
   },
   "file_extension": ".py",
   "mimetype": "text/x-python",
   "name": "python",
   "nbconvert_exporter": "python",
   "pygments_lexer": "ipython3",
   "version": "3.8.5"
  }
 },
 "nbformat": 4,
 "nbformat_minor": 4
}
