{
 "cells": [
  {
   "cell_type": "markdown",
   "metadata": {},
   "source": [
    "[Youtube](https://www.youtube.com/watch?v=z092lX-nhik)"
   ]
  },
  {
   "cell_type": "code",
   "execution_count": 1,
   "metadata": {},
   "outputs": [],
   "source": [
    "# Brute Force \n",
    "# Search every element in matrix\n",
    "# Time Complexity --> O(n*m)\n",
    "\n",
    "# Binary Search\n",
    "# Time Complexity --> O(n*log(m))"
   ]
  },
  {
   "cell_type": "code",
   "execution_count": 65,
   "metadata": {},
   "outputs": [],
   "source": [
    "def binarySearch1(row, low, high, n):\n",
    "    while(low <= high):\n",
    "        mid = (low + high) // 2\n",
    "\n",
    "        if(row[mid] < 1 ):\n",
    "            low = mid + 1\n",
    "        else:\n",
    "            high = mid - 1\n",
    "    return n - low\n",
    "def max1s(matrix, m, n):\n",
    "    idx = 0\n",
    "    maxSoFar = -1\n",
    "    maxcount = 0\n",
    "    for row in matrix:\n",
    "        low = 0\n",
    "        high = n - 1\n",
    "        currCount = binarySearch1(row, low, high, n)\n",
    "        if(currCount > maxcount):\n",
    "            maxcount = currCount\n",
    "            maxSoFar = idx\n",
    "        idx += 1\n",
    "    return maxSoFar\n",
    "\n",
    "            \n",
    "            \n",
    "            "
   ]
  },
  {
   "cell_type": "code",
   "execution_count": 66,
   "metadata": {},
   "outputs": [
    {
     "data": {
      "text/plain": [
       "2"
      ]
     },
     "execution_count": 66,
     "metadata": {},
     "output_type": "execute_result"
    }
   ],
   "source": [
    "matrix = [[0,1,1],\n",
    "         [0,1,1],\n",
    "         [1,1,1]]\n",
    "max1s(matrix, len(matrix), len(matrix[0]))\n"
   ]
  },
  {
   "cell_type": "code",
   "execution_count": 70,
   "metadata": {},
   "outputs": [],
   "source": [
    "def max1s(matrix, m, n):\n",
    "    row = -1\n",
    "    i = 0\n",
    "    j = n-1\n",
    "    while(i < m and j >= 0):\n",
    "        if(matrix[i][j] == 1):\n",
    "            j -= 1\n",
    "            row = i\n",
    "        else:\n",
    "            i += 1\n",
    "    return row\n",
    "                \n",
    "                "
   ]
  },
  {
   "cell_type": "code",
   "execution_count": 73,
   "metadata": {},
   "outputs": [
    {
     "data": {
      "text/plain": [
       "0"
      ]
     },
     "execution_count": 73,
     "metadata": {},
     "output_type": "execute_result"
    }
   ],
   "source": [
    "matrix = [[1,1,1],\n",
    "         [0,1,1],\n",
    "         [0,1,1]]\n",
    "max1s(matrix, len(matrix), len(matrix[0]))\n"
   ]
  },
  {
   "cell_type": "code",
   "execution_count": null,
   "metadata": {},
   "outputs": [],
   "source": []
  },
  {
   "cell_type": "code",
   "execution_count": null,
   "metadata": {},
   "outputs": [],
   "source": []
  }
 ],
 "metadata": {
  "kernelspec": {
   "display_name": "Python 3",
   "language": "python",
   "name": "python3"
  },
  "language_info": {
   "codemirror_mode": {
    "name": "ipython",
    "version": 3
   },
   "file_extension": ".py",
   "mimetype": "text/x-python",
   "name": "python",
   "nbconvert_exporter": "python",
   "pygments_lexer": "ipython3",
   "version": "3.8.5"
  }
 },
 "nbformat": 4,
 "nbformat_minor": 4
}
