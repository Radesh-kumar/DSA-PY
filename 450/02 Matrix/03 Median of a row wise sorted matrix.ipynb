{
 "cells": [
  {
   "cell_type": "markdown",
   "metadata": {},
   "source": [
    "[Youtube](https://www.youtube.com/watch?v=63fPPOdIr2c&t=609s)"
   ]
  },
  {
   "cell_type": "code",
   "execution_count": 91,
   "metadata": {},
   "outputs": [],
   "source": [
    "def countSmallerThanEqualToMid(row, currMedian):\n",
    "    l = 0\n",
    "    r = len(row) - 1\n",
    "    while(l <= r):\n",
    "        mid = (l + r) //2\n",
    "        if(row[mid] <= currMedian):\n",
    "            l = mid + 1\n",
    "        else:\n",
    "            r = mid - 1\n",
    "    return l\n",
    "\n",
    "def median(matrix, m, n):\n",
    "    maxElement = 0\n",
    "    total = m*n\n",
    "    \n",
    "    ### Calculating Max Element\n",
    "    for row in matrix:\n",
    "        maxElement = max(maxElement, row[n-1])\n",
    "\n",
    "    low = 0\n",
    "    high = maxElement\n",
    "    while(low <= high):\n",
    "        count = 0\n",
    "        currMedian = (low + high) // 2\n",
    "\n",
    "        for row in matrix:\n",
    "            l = 0 # left most index\n",
    "            r = m - 1 # right most index\n",
    "            count += countSmallerThanEqualToMid(row,currMedian)\n",
    "\n",
    "        if(count <= total//2 ):\n",
    "            low = currMedian + 1\n",
    "        else:\n",
    "            high = currMedian - 1\n",
    "    \n",
    "    return low\n"
   ]
  },
  {
   "cell_type": "code",
   "execution_count": 89,
   "metadata": {},
   "outputs": [
    {
     "data": {
      "text/plain": [
       "5"
      ]
     },
     "execution_count": 89,
     "metadata": {},
     "output_type": "execute_result"
    }
   ],
   "source": [
    "matrix = [[1,3,5],\n",
    "         [2,6,9],\n",
    "         [3,6,9]]\n",
    "median(matrix, len(matrix), len(matrix[0]))"
   ]
  },
  {
   "cell_type": "code",
   "execution_count": 76,
   "metadata": {},
   "outputs": [
    {
     "data": {
      "text/plain": [
       "1"
      ]
     },
     "execution_count": 76,
     "metadata": {},
     "output_type": "execute_result"
    }
   ],
   "source": [
    "2 - (7 % 3)\n"
   ]
  },
  {
   "cell_type": "markdown",
   "metadata": {},
   "source": [
    "##### "
   ]
  },
  {
   "cell_type": "code",
   "execution_count": 94,
   "metadata": {},
   "outputs": [
    {
     "data": {
      "text/plain": [
       "5"
      ]
     },
     "execution_count": 94,
     "metadata": {},
     "output_type": "execute_result"
    }
   ],
   "source": [
    "(5 + 6) //2 \n"
   ]
  },
  {
   "cell_type": "code",
   "execution_count": null,
   "metadata": {},
   "outputs": [],
   "source": []
  }
 ],
 "metadata": {
  "kernelspec": {
   "display_name": "Python 3",
   "language": "python",
   "name": "python3"
  },
  "language_info": {
   "codemirror_mode": {
    "name": "ipython",
    "version": 3
   },
   "file_extension": ".py",
   "mimetype": "text/x-python",
   "name": "python",
   "nbconvert_exporter": "python",
   "pygments_lexer": "ipython3",
   "version": "3.8.5"
  }
 },
 "nbformat": 4,
 "nbformat_minor": 4
}
