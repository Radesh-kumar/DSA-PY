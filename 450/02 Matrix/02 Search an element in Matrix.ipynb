{
 "cells": [
  {
   "cell_type": "markdown",
   "metadata": {},
   "source": [
    "[youtube](https://www.youtube.com/watch?v=ZYpYur0znng)"
   ]
  },
  {
   "cell_type": "code",
   "execution_count": 3,
   "metadata": {},
   "outputs": [],
   "source": [
    "# [\n",
    "#     [10,20,30]\n",
    "#     [11,21,31]\n",
    "#     [12,22,32]\n",
    "# ]\n",
    "# Note: Rows and columns both are sorted\n"
   ]
  },
  {
   "cell_type": "code",
   "execution_count": 12,
   "metadata": {},
   "outputs": [],
   "source": [
    "def search1(matrix, k):\n",
    "    # We ill start traversing from top right corner --> Bottom Left\n",
    "    top = 0\n",
    "    right = len(matrix[0])\n",
    "    bottom = len(matrix)\n",
    "    left = 0\n",
    "    \n",
    "    while top < bottom and left < right :\n",
    "        if(matrix[top][right-1] > k):\n",
    "            right -= 1\n",
    "        elif(matrix[top][right-1] < k):\n",
    "            top += 1\n",
    "        else:\n",
    "            return True\n",
    "    return False\n",
    "        \n",
    "    "
   ]
  },
  {
   "cell_type": "code",
   "execution_count": 13,
   "metadata": {},
   "outputs": [
    {
     "data": {
      "text/plain": [
       "True"
      ]
     },
     "execution_count": 13,
     "metadata": {},
     "output_type": "execute_result"
    }
   ],
   "source": [
    "matrix = [\n",
    "    [10,20,30],\n",
    "    [11,21,31],\n",
    "    [12,22,32]\n",
    "]\n",
    "search1(matrix, 12)"
   ]
  },
  {
   "cell_type": "code",
   "execution_count": null,
   "metadata": {},
   "outputs": [],
   "source": []
  }
 ],
 "metadata": {
  "kernelspec": {
   "display_name": "Python 3",
   "language": "python",
   "name": "python3"
  },
  "language_info": {
   "codemirror_mode": {
    "name": "ipython",
    "version": 3
   },
   "file_extension": ".py",
   "mimetype": "text/x-python",
   "name": "python",
   "nbconvert_exporter": "python",
   "pygments_lexer": "ipython3",
   "version": "3.8.5"
  }
 },
 "nbformat": 4,
 "nbformat_minor": 4
}
