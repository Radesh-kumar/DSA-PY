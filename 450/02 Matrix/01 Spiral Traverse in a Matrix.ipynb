{
 "cells": [
  {
   "cell_type": "markdown",
   "metadata": {},
   "source": [
    "[Youtube](https://www.youtube.com/watch?v=1ZGJzvkcLsA)"
   ]
  },
  {
   "cell_type": "code",
   "execution_count": 109,
   "metadata": {},
   "outputs": [],
   "source": [
    "def spiral(matrix):\n",
    "    \n",
    "    top = 0\n",
    "    left = 0\n",
    "    bottom = len(matrix)\n",
    "    right = len(matrix[0])\n",
    "    \n",
    "    direction = 0\n",
    "\n",
    "    while (top <= bottom and left <= right):\n",
    "        if(direction == 0):\n",
    "            for i in range(left,right):\n",
    "                print(matrix[top][i], end = \" \")\n",
    "            top += 1\n",
    "        elif(direction == 1):\n",
    "            for i in range(top,bottom):\n",
    "                print(matrix[i][right-1], end =\" \")\n",
    "            right -= 1\n",
    "        elif(direction == 2):\n",
    "            for i in range(right - 1, left - 1, -1):\n",
    "                print(matrix[bottom-1][i], end =\" \")\n",
    "            bottom -= 1\n",
    "        elif(direction == 3):\n",
    "            for i in range(bottom -1, top - 1, -1):\n",
    "                print(matrix[i][left], end =\" \")\n",
    "            left += 1\n",
    "        direction = (direction + 1) % 4"
   ]
  },
  {
   "cell_type": "code",
   "execution_count": 110,
   "metadata": {},
   "outputs": [
    {
     "name": "stdout",
     "output_type": "stream",
     "text": [
      "1 2 3 6 9 8 7 4 5 "
     ]
    }
   ],
   "source": [
    "# matrix = [[1,2,3,4,5],[6,7,8,9,10],[11,12,13,14,15],[16,17,18,19,20],[21,22,23,24,25]]\n",
    "matrix =[[1,2,3],[4,5,6],[7,8,9]]\n",
    "spiral(matrix)"
   ]
  },
  {
   "cell_type": "code",
   "execution_count": null,
   "metadata": {},
   "outputs": [],
   "source": []
  }
 ],
 "metadata": {
  "kernelspec": {
   "display_name": "Python 3",
   "language": "python",
   "name": "python3"
  },
  "language_info": {
   "codemirror_mode": {
    "name": "ipython",
    "version": 3
   },
   "file_extension": ".py",
   "mimetype": "text/x-python",
   "name": "python",
   "nbconvert_exporter": "python",
   "pygments_lexer": "ipython3",
   "version": "3.8.5"
  }
 },
 "nbformat": 4,
 "nbformat_minor": 4
}
