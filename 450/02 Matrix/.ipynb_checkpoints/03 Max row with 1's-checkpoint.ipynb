{
 "cells": [
  {
   "cell_type": "code",
   "execution_count": 1,
   "metadata": {},
   "outputs": [],
   "source": [
    "# Brute Force \n",
    "# Search every element in matrix\n",
    "# Time Complexity --> O(n*m)\n",
    "\n",
    "# Binary Search\n",
    "# Time Complexity --> O(n*log(m))"
   ]
  },
  {
   "cell_type": "code",
   "execution_count": 45,
   "metadata": {},
   "outputs": [],
   "source": [
    "def binarySearch1(row, low, high, n):\n",
    "    while(low <= high):\n",
    "        mid = (low + high) // 2\n",
    "\n",
    "        if(row[mid] < 1 ):\n",
    "            low = mid + 1\n",
    "        else:\n",
    "            high = mid - 1\n",
    "    return n - low\n",
    "def max1s(matrix, m, n):\n",
    "    idx = 0\n",
    "    for row in matrix:\n",
    "        low = 0\n",
    "        high = n - 1\n",
    "        maxcount = 0\n",
    "        maxSoFar = -1\n",
    "        currCount = binarySearch1(row, low, high, n)\n",
    "        print(currCount,maxSoFar)\n",
    "        if(currCount > maxcount):\n",
    "            maxcount = currCount\n",
    "            maxSoFar = idx\n",
    "        idx += 1\n",
    "    return maxSoFar\n",
    "\n",
    "            \n",
    "            \n",
    "            "
   ]
  },
  {
   "cell_type": "code",
   "execution_count": 46,
   "metadata": {},
   "outputs": [
    {
     "name": "stdout",
     "output_type": "stream",
     "text": [
      "3\n",
      "2\n",
      "2\n"
     ]
    },
    {
     "data": {
      "text/plain": [
       "2"
      ]
     },
     "execution_count": 46,
     "metadata": {},
     "output_type": "execute_result"
    }
   ],
   "source": [
    "matrix = [[1,1,1],\n",
    "         [0,1,1],\n",
    "         [0,1,1]]\n",
    "max1s(matrix, len(matrix), len(matrix[0]))\n"
   ]
  },
  {
   "cell_type": "code",
   "execution_count": null,
   "metadata": {},
   "outputs": [],
   "source": []
  }
 ],
 "metadata": {
  "kernelspec": {
   "display_name": "Python 3",
   "language": "python",
   "name": "python3"
  },
  "language_info": {
   "codemirror_mode": {
    "name": "ipython",
    "version": 3
   },
   "file_extension": ".py",
   "mimetype": "text/x-python",
   "name": "python",
   "nbconvert_exporter": "python",
   "pygments_lexer": "ipython3",
   "version": "3.8.5"
  }
 },
 "nbformat": 4,
 "nbformat_minor": 4
}
