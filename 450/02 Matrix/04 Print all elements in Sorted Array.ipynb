{
 "cells": [
  {
   "cell_type": "code",
   "execution_count": 40,
   "metadata": {},
   "outputs": [],
   "source": [
    "### Here given matrix is not sorted\n",
    "### Other wise we could have used Binary Search for better time complexity"
   ]
  },
  {
   "cell_type": "code",
   "execution_count": 38,
   "metadata": {},
   "outputs": [],
   "source": [
    "def printMatrix(matrix, m, N):\n",
    "    temp = []\n",
    "    result = [[0 for i in range(N)] for i in range(N)]\n",
    "    for row in matrix:\n",
    "        for item in row:\n",
    "            temp.append(item)\n",
    "    temp.sort()\n",
    "    for i in range(len(temp)):\n",
    "        result[i//N][i%N] = temp[i]\n",
    "\n",
    "    return result"
   ]
  },
  {
   "cell_type": "code",
   "execution_count": 39,
   "metadata": {},
   "outputs": [
    {
     "data": {
      "text/plain": [
       "[[9, 16, 19, 27, 28],\n",
       " [32, 34, 40, 46, 58],\n",
       " [62, 64, 72, 73, 74],\n",
       " [78, 80, 86, 87, 89],\n",
       " [94, 95, 95, 98, 99]]"
      ]
     },
     "execution_count": 39,
     "metadata": {},
     "output_type": "execute_result"
    }
   ],
   "source": [
    "matrix = [[40, 94, 73, 98, 27],\n",
    "            [58, 89, 87, 95, 9],\n",
    "            [95, 28, 34, 74, 32],\n",
    "            [19, 46, 78, 64, 80],\n",
    "            [72, 62, 86, 16, 99]]\n",
    "printMatrix(matrix, len(matrix), len(matrix[0]))"
   ]
  },
  {
   "cell_type": "code",
   "execution_count": null,
   "metadata": {},
   "outputs": [],
   "source": []
  },
  {
   "cell_type": "code",
   "execution_count": null,
   "metadata": {},
   "outputs": [],
   "source": []
  }
 ],
 "metadata": {
  "kernelspec": {
   "display_name": "Python 3",
   "language": "python",
   "name": "python3"
  },
  "language_info": {
   "codemirror_mode": {
    "name": "ipython",
    "version": 3
   },
   "file_extension": ".py",
   "mimetype": "text/x-python",
   "name": "python",
   "nbconvert_exporter": "python",
   "pygments_lexer": "ipython3",
   "version": "3.8.5"
  }
 },
 "nbformat": 4,
 "nbformat_minor": 4
}
